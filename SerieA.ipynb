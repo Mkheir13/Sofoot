{
 "cells": [
  {
   "cell_type": "code",
   "execution_count": null,
   "id": "initial_id",
   "metadata": {
    "collapsed": true
   },
   "outputs": [],
   "source": [
    "import requests\n",
    "\n",
    "from bs4 import BeautifulSoup"
   ]
  },
  {
   "cell_type": "code",
   "execution_count": null,
   "outputs": [],
   "source": [
    "response = requests.get('https://www.sofascore.com', headers={'user-agent' : 'Mozilla/5.0 (Windows NT 10.0; Win64; x64) AppleWebKit/537.36 (KHTML, like Gecko) Chrome/118.0.0.0 Safari/537.36 OPR/104.0.0.0'})"
   ],
   "metadata": {
    "collapsed": false
   },
   "id": "faf01562b21072a5"
  },
  {
   "cell_type": "code",
   "execution_count": null,
   "outputs": [],
   "source": [
    "response.status_code"
   ],
   "metadata": {
    "collapsed": false
   },
   "id": "725d42ef5e54a1cb"
  },
  {
   "cell_type": "code",
   "execution_count": null,
   "outputs": [],
   "source": [
    "soup = BeautifulSoup(response.text, 'html.parser')"
   ],
   "metadata": {
    "collapsed": false
   },
   "id": "5d108e0a55e3c755"
  },
  {
   "cell_type": "code",
   "execution_count": null,
   "outputs": [],
   "source": [
    "soup.select('div[class=\"sc-fqkvVR kIMciy\"]')"
   ],
   "metadata": {
    "collapsed": false
   },
   "id": "e2ed110e8e2cd53b"
  },
  {
   "cell_type": "code",
   "execution_count": null,
   "outputs": [],
   "source": [
    "import requests\n",
    "\n",
    "headers = {\n",
    "    'authority': 'api.sofascore.com',\n",
    "    'accept': '*/*',\n",
    "    'accept-language': 'fr-FR,fr;q=0.9,en-US;q=0.8,en;q=0.7',\n",
    "    'cache-control': 'max-age=0',\n",
    "    'if-none-match': 'W/\"fdc2584cf4\"',\n",
    "    'origin': 'https://www.sofascore.com',\n",
    "    'referer': 'https://www.sofascore.com/',\n",
    "    'sec-ch-ua': '\"Chromium\";v=\"118\", \"Opera\";v=\"104\", \"Not=A?Brand\";v=\"99\"',\n",
    "    'sec-ch-ua-mobile': '?0',\n",
    "    'sec-ch-ua-platform': '\"Windows\"',\n",
    "    'sec-fetch-dest': 'empty',\n",
    "    'sec-fetch-mode': 'cors',\n",
    "    'sec-fetch-site': 'same-site',\n",
    "    'user-agent': 'Mozilla/5.0 (Windows NT 10.0; Win64; x64) AppleWebKit/537.36 (KHTML, like Gecko) Chrome/118.0.0.0 Safari/537.36 OPR/104.0.0.0',\n",
    "}\n",
    "\n",
    "response = requests.get('https://api.sofascore.com/api/v1/config/top-unique-tournaments/FR/football', headers=headers)"
   ],
   "metadata": {
    "collapsed": false
   },
   "id": "39bbfe645c047f44"
  },
  {
   "cell_type": "code",
   "execution_count": null,
   "outputs": [],
   "source": [
    "response.status_code"
   ],
   "metadata": {
    "collapsed": false
   },
   "id": "932ad5b4880b2184"
  },
  {
   "cell_type": "code",
   "execution_count": null,
   "outputs": [],
   "source": [
    "headers['if-Modified-Since'] = 'Tue, 28 Nov 2023 00:00:00 GMT'"
   ],
   "metadata": {
    "collapsed": false
   },
   "id": "3d28ea7ffba9d1af"
  },
  {
   "cell_type": "code",
   "execution_count": null,
   "outputs": [],
   "source": [
    "response = requests.get('https://api.sofascore.com/api/v1/config/top-unique-tournaments/FR/football', headers=headers)"
   ],
   "metadata": {
    "collapsed": false
   },
   "id": "71ae277de3d3a545"
  },
  {
   "cell_type": "code",
   "execution_count": null,
   "outputs": [],
   "source": [
    "response.status_code"
   ],
   "metadata": {
    "collapsed": false
   },
   "id": "ad7bc70ef87c94b5"
  },
  {
   "cell_type": "code",
   "execution_count": null,
   "outputs": [],
   "source": [
    "Championnats = response.json()"
   ],
   "metadata": {
    "collapsed": false
   },
   "id": "a40a641656549a71"
  },
  {
   "cell_type": "code",
   "execution_count": null,
   "outputs": [],
   "source": [
    "Championnats"
   ],
   "metadata": {
    "collapsed": false
   },
   "id": "3f4ebd7a06bb905c"
  },
  {
   "cell_type": "code",
   "execution_count": null,
   "outputs": [],
   "source": [
    "response = requests.get('https://www.sofascore.com/tournament/football/italy/serie-a/23#52760', headers=headers)"
   ],
   "metadata": {
    "collapsed": false
   },
   "id": "d214e4f40779922e"
  },
  {
   "cell_type": "code",
   "execution_count": null,
   "outputs": [],
   "source": [
    "soup = BeautifulSoup(response.text, 'html.parser')"
   ],
   "metadata": {
    "collapsed": false
   },
   "id": "1ea5a19ea90fc884"
  },
  {
   "cell_type": "code",
   "execution_count": null,
   "outputs": [],
   "source": [
    "soup.select('div[class=\"sc-fqkvVR kIMciy\"]')"
   ],
   "metadata": {
    "collapsed": false
   },
   "id": "a3ee3573e95e8af0"
  },
  {
   "cell_type": "code",
   "execution_count": null,
   "outputs": [],
   "source": [
    "import requests\n",
    "\n",
    "headers = {\n",
    "    'authority': 'api.sofascore.com',\n",
    "    'accept': '*/*',\n",
    "    'accept-language': 'fr-FR,fr;q=0.9,en-US;q=0.8,en;q=0.7',\n",
    "    'cache-control': 'max-age=0',\n",
    "    'if-none-match': 'W/\"968a69c3e0\"',\n",
    "    'origin': 'https://www.sofascore.com',\n",
    "    'referer': 'https://www.sofascore.com/',\n",
    "    'sec-ch-ua': '\"Opera\";v=\"105\", \"Chromium\";v=\"119\", \"Not?A_Brand\";v=\"24\"',\n",
    "    'sec-ch-ua-mobile': '?0',\n",
    "    'sec-ch-ua-platform': '\"Windows\"',\n",
    "    'sec-fetch-dest': 'empty',\n",
    "    'sec-fetch-mode': 'cors',\n",
    "    'sec-fetch-site': 'same-site',\n",
    "    'user-agent': 'Mozilla/5.0 (Windows NT 10.0; Win64; x64) AppleWebKit/537.36 (KHTML, like Gecko) Chrome/119.0.0.0 Safari/537.36 OPR/105.0.0.0',\n",
    "}\n",
    "\n",
    "response = requests.get('https://api.sofascore.com/api/v1/unique-tournament/23/season/52760/standings/total', headers=headers)"
   ],
   "metadata": {
    "collapsed": false
   },
   "id": "351b4656bcbc67e0"
  },
  {
   "cell_type": "code",
   "execution_count": null,
   "outputs": [],
   "source": [
    "response.status_code"
   ],
   "metadata": {
    "collapsed": false
   },
   "id": "60e36e77d63acf6a"
  },
  {
   "cell_type": "code",
   "execution_count": null,
   "outputs": [],
   "source": [
    "headers['if-Modified-Since'] = 'Tue, 1 Dec 2023 00:00:00 GMT'"
   ],
   "metadata": {
    "collapsed": false
   },
   "id": "4220adc3545a4375"
  },
  {
   "cell_type": "code",
   "execution_count": null,
   "outputs": [],
   "source": [
    "response = requests.get('https://api.sofascore.com/api/v1/unique-tournament/23/season/52760/standings/total', headers=headers)"
   ],
   "metadata": {
    "collapsed": false
   },
   "id": "71e3df4786b8d3dc"
  },
  {
   "cell_type": "code",
   "execution_count": null,
   "outputs": [],
   "source": [
    "response.status_code"
   ],
   "metadata": {
    "collapsed": false
   },
   "id": "eff7eeaf57b4d73b"
  },
  {
   "cell_type": "code",
   "execution_count": null,
   "outputs": [],
   "source": [
    "SerieA = response.json()"
   ],
   "metadata": {
    "collapsed": false
   },
   "id": "cc16bce8dd4906e9"
  },
  {
   "cell_type": "code",
   "execution_count": null,
   "outputs": [],
   "source": [
    "SerieA"
   ],
   "metadata": {
    "collapsed": false
   },
   "id": "55a4ded5a9513647"
  }
 ],
 "metadata": {
  "kernelspec": {
   "display_name": "Python 3",
   "language": "python",
   "name": "python3"
  },
  "language_info": {
   "codemirror_mode": {
    "name": "ipython",
    "version": 2
   },
   "file_extension": ".py",
   "mimetype": "text/x-python",
   "name": "python",
   "nbconvert_exporter": "python",
   "pygments_lexer": "ipython2",
   "version": "2.7.6"
  }
 },
 "nbformat": 4,
 "nbformat_minor": 5
}
