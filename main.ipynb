{
 "cells": [
  {
   "cell_type": "code",
   "execution_count": 1067,
   "id": "initial_id",
   "metadata": {
    "collapsed": true,
    "ExecuteTime": {
     "end_time": "2023-12-01T15:35:28.119684100Z",
     "start_time": "2023-12-01T15:35:28.028209Z"
    }
   },
   "outputs": [],
   "source": [
    "import requests\n",
    "\n",
    "from bs4 import BeautifulSoup"
   ]
  },
  {
   "cell_type": "code",
   "execution_count": 1068,
   "outputs": [],
   "source": [
    "response = requests.get('https://www.sofascore.com', headers={'user-agent' : 'Mozilla/5.0 (Windows NT 10.0; Win64; x64) AppleWebKit/537.36 (KHTML, like Gecko) Chrome/118.0.0.0 Safari/537.36 OPR/104.0.0.0'})"
   ],
   "metadata": {
    "collapsed": false,
    "ExecuteTime": {
     "end_time": "2023-12-01T15:35:28.458611900Z",
     "start_time": "2023-12-01T15:35:28.031202900Z"
    }
   },
   "id": "faf01562b21072a5"
  },
  {
   "cell_type": "code",
   "execution_count": 1069,
   "outputs": [
    {
     "data": {
      "text/plain": "200"
     },
     "execution_count": 1069,
     "metadata": {},
     "output_type": "execute_result"
    }
   ],
   "source": [
    "response.status_code"
   ],
   "metadata": {
    "collapsed": false,
    "ExecuteTime": {
     "end_time": "2023-12-01T15:35:28.466017300Z",
     "start_time": "2023-12-01T15:35:28.461625200Z"
    }
   },
   "id": "725d42ef5e54a1cb"
  },
  {
   "cell_type": "code",
   "execution_count": 1070,
   "outputs": [],
   "source": [
    "soup = BeautifulSoup(response.text, 'html.parser')"
   ],
   "metadata": {
    "collapsed": false,
    "ExecuteTime": {
     "end_time": "2023-12-01T15:35:28.513215200Z",
     "start_time": "2023-12-01T15:35:28.466017300Z"
    }
   },
   "id": "5d108e0a55e3c755"
  },
  {
   "cell_type": "code",
   "execution_count": 1071,
   "outputs": [
    {
     "data": {
      "text/plain": "[]"
     },
     "execution_count": 1071,
     "metadata": {},
     "output_type": "execute_result"
    }
   ],
   "source": [
    "soup.select('div[class=\"sc-fqkvVR kIMciy\"]')"
   ],
   "metadata": {
    "collapsed": false,
    "ExecuteTime": {
     "end_time": "2023-12-01T15:35:28.524480600Z",
     "start_time": "2023-12-01T15:35:28.515246600Z"
    }
   },
   "id": "e2ed110e8e2cd53b"
  },
  {
   "cell_type": "code",
   "execution_count": 1072,
   "outputs": [],
   "source": [
    "import requests\n",
    "\n",
    "headers = {\n",
    "    'authority': 'api.sofascore.com',\n",
    "    'accept': '*/*',\n",
    "    'accept-language': 'fr-FR,fr;q=0.9,en-US;q=0.8,en;q=0.7',\n",
    "    'cache-control': 'max-age=0',\n",
    "    'if-none-match': 'W/\"fdc2584cf4\"',\n",
    "    'origin': 'https://www.sofascore.com',\n",
    "    'referer': 'https://www.sofascore.com/',\n",
    "    'sec-ch-ua': '\"Chromium\";v=\"118\", \"Opera\";v=\"104\", \"Not=A?Brand\";v=\"99\"',\n",
    "    'sec-ch-ua-mobile': '?0',\n",
    "    'sec-ch-ua-platform': '\"Windows\"',\n",
    "    'sec-fetch-dest': 'empty',\n",
    "    'sec-fetch-mode': 'cors',\n",
    "    'sec-fetch-site': 'same-site',\n",
    "    'user-agent': 'Mozilla/5.0 (Windows NT 10.0; Win64; x64) AppleWebKit/537.36 (KHTML, like Gecko) Chrome/118.0.0.0 Safari/537.36 OPR/104.0.0.0',\n",
    "}\n",
    "\n",
    "response = requests.get('https://api.sofascore.com/api/v1/config/top-unique-tournaments/FR/football', headers=headers)"
   ],
   "metadata": {
    "collapsed": false,
    "ExecuteTime": {
     "end_time": "2023-12-01T15:35:29.001969200Z",
     "start_time": "2023-12-01T15:35:28.526490Z"
    }
   },
   "id": "39bbfe645c047f44"
  },
  {
   "cell_type": "code",
   "execution_count": 1073,
   "outputs": [
    {
     "data": {
      "text/plain": "200"
     },
     "execution_count": 1073,
     "metadata": {},
     "output_type": "execute_result"
    }
   ],
   "source": [
    "response.status_code"
   ],
   "metadata": {
    "collapsed": false,
    "ExecuteTime": {
     "end_time": "2023-12-01T15:35:29.014899Z",
     "start_time": "2023-12-01T15:35:29.004916900Z"
    }
   },
   "id": "932ad5b4880b2184"
  },
  {
   "cell_type": "code",
   "execution_count": 1074,
   "outputs": [],
   "source": [
    "headers['if-Modified-Since'] = 'Tue, 28 Nov 2023 00:00:00 GMT'"
   ],
   "metadata": {
    "collapsed": false,
    "ExecuteTime": {
     "end_time": "2023-12-01T15:35:29.057246Z",
     "start_time": "2023-12-01T15:35:29.014899Z"
    }
   },
   "id": "3d28ea7ffba9d1af"
  },
  {
   "cell_type": "code",
   "execution_count": 1075,
   "outputs": [],
   "source": [
    "response = requests.get('https://api.sofascore.com/api/v1/config/top-unique-tournaments/FR/football', headers=headers)"
   ],
   "metadata": {
    "collapsed": false,
    "ExecuteTime": {
     "end_time": "2023-12-01T15:35:29.420320900Z",
     "start_time": "2023-12-01T15:35:29.034173300Z"
    }
   },
   "id": "71ae277de3d3a545"
  },
  {
   "cell_type": "code",
   "execution_count": 1076,
   "outputs": [
    {
     "data": {
      "text/plain": "200"
     },
     "execution_count": 1076,
     "metadata": {},
     "output_type": "execute_result"
    }
   ],
   "source": [
    "response.status_code"
   ],
   "metadata": {
    "collapsed": false,
    "ExecuteTime": {
     "end_time": "2023-12-01T15:35:29.426326800Z",
     "start_time": "2023-12-01T15:35:29.422315900Z"
    }
   },
   "id": "ad7bc70ef87c94b5"
  },
  {
   "cell_type": "code",
   "execution_count": 1077,
   "outputs": [],
   "source": [
    "Championnats = response.json()"
   ],
   "metadata": {
    "collapsed": false,
    "ExecuteTime": {
     "end_time": "2023-12-01T15:35:29.442618600Z",
     "start_time": "2023-12-01T15:35:29.426326800Z"
    }
   },
   "id": "a40a641656549a71"
  },
  {
   "cell_type": "code",
   "execution_count": 1078,
   "outputs": [
    {
     "data": {
      "text/plain": "{'uniqueTournaments': [{'name': 'UEFA Champions League',\n   'slug': 'uefa-champions-league',\n   'primaryColorHex': '#062b5c',\n   'secondaryColorHex': '#086aab',\n   'category': {'name': 'Europe',\n    'slug': 'europe',\n    'sport': {'name': 'Football', 'slug': 'football', 'id': 1},\n    'id': 1465,\n    'flag': 'europe'},\n   'userCount': 1299249,\n   'id': 7,\n   'displayInverseHomeAwayTeams': False},\n  {'name': 'UEFA Europa League',\n   'slug': 'uefa-europa-league',\n   'secondaryColorHex': '#f37d25',\n   'category': {'name': 'Europe',\n    'slug': 'europe',\n    'sport': {'name': 'Football', 'slug': 'football', 'id': 1},\n    'id': 1465,\n    'flag': 'europe'},\n   'userCount': 614930,\n   'id': 679,\n   'displayInverseHomeAwayTeams': False},\n  {'name': 'Premier League',\n   'slug': 'premier-league',\n   'primaryColorHex': '#3c1c5a',\n   'secondaryColorHex': '#f80158',\n   'category': {'name': 'England',\n    'slug': 'england',\n    'sport': {'name': 'Football', 'slug': 'football', 'id': 1},\n    'id': 1,\n    'flag': 'england',\n    'alpha2': 'EN'},\n   'userCount': 1356259,\n   'id': 17,\n   'displayInverseHomeAwayTeams': False},\n  {'name': 'LaLiga',\n   'slug': 'laliga',\n   'primaryColorHex': '#2f4a89',\n   'secondaryColorHex': '#f4a32e',\n   'category': {'name': 'Spain',\n    'slug': 'spain',\n    'sport': {'name': 'Football', 'slug': 'football', 'id': 1},\n    'id': 32,\n    'flag': 'spain',\n    'alpha2': 'ES'},\n   'userCount': 893279,\n   'id': 8,\n   'displayInverseHomeAwayTeams': False},\n  {'name': 'Bundesliga',\n   'slug': 'bundesliga',\n   'primaryColorHex': '#e2080e',\n   'secondaryColorHex': '#8e0902',\n   'category': {'name': 'Germany',\n    'slug': 'germany',\n    'sport': {'name': 'Football', 'slug': 'football', 'id': 1},\n    'id': 30,\n    'flag': 'germany',\n    'alpha2': 'DE'},\n   'userCount': 615217,\n   'id': 35,\n   'displayInverseHomeAwayTeams': False},\n  {'name': 'Serie A',\n   'slug': 'serie-a',\n   'primaryColorHex': '#09519e',\n   'secondaryColorHex': '#008fd7',\n   'category': {'name': 'Italy',\n    'slug': 'italy',\n    'sport': {'name': 'Football', 'slug': 'football', 'id': 1},\n    'id': 31,\n    'flag': 'italy',\n    'alpha2': 'IT'},\n   'userCount': 735297,\n   'id': 23,\n   'displayInverseHomeAwayTeams': False},\n  {'name': 'Ligue 1',\n   'slug': 'ligue-1',\n   'primaryColorHex': '#091c3e',\n   'secondaryColorHex': '#a9c011',\n   'category': {'name': 'France',\n    'slug': 'france',\n    'sport': {'name': 'Football', 'slug': 'football', 'id': 1},\n    'id': 7,\n    'flag': 'france',\n    'alpha2': 'FR'},\n   'userCount': 520283,\n   'id': 34,\n   'displayInverseHomeAwayTeams': False},\n  {'name': 'Eredivisie',\n   'slug': 'eredivisie',\n   'primaryColorHex': '#292766',\n   'secondaryColorHex': '#7c79c3',\n   'category': {'name': 'Netherlands',\n    'slug': 'netherlands',\n    'sport': {'name': 'Football', 'slug': 'football', 'id': 1},\n    'id': 35,\n    'flag': 'netherlands',\n    'alpha2': 'NL'},\n   'userCount': 163780,\n   'id': 37,\n   'displayInverseHomeAwayTeams': False},\n  {'name': 'Brasileirão Série A',\n   'slug': 'brasileirao-serie-a',\n   'primaryColorHex': '#C7FF00',\n   'secondaryColorHex': '#969696',\n   'category': {'name': 'Brazil',\n    'slug': 'brazil',\n    'sport': {'name': 'Football', 'slug': 'football', 'id': 1},\n    'id': 13,\n    'flag': 'brazil',\n    'alpha2': 'BR'},\n   'userCount': 278678,\n   'id': 325,\n   'displayInverseHomeAwayTeams': False},\n  {'name': 'CONMEBOL Libertadores',\n   'slug': 'conmebol-libertadores',\n   'primaryColorHex': '#573215',\n   'secondaryColorHex': '#dfaf49',\n   'category': {'name': 'South America',\n    'slug': 'south-america',\n    'sport': {'name': 'Football', 'slug': 'football', 'id': 1},\n    'id': 1470,\n    'flag': 'south-america'},\n   'userCount': 209306,\n   'id': 384,\n   'displayInverseHomeAwayTeams': False},\n  {'name': 'CAF Champions League',\n   'slug': 'caf-champions-league',\n   'primaryColorHex': '#ebbf03',\n   'secondaryColorHex': '#3a292a',\n   'category': {'name': 'Africa',\n    'slug': 'africa',\n    'sport': {'name': 'Football', 'slug': 'football', 'id': 1},\n    'id': 1466,\n    'flag': 'africa'},\n   'userCount': 118651,\n   'id': 1054,\n   'displayInverseHomeAwayTeams': False},\n  {'name': 'World Championship',\n   'slug': 'world-championship',\n   'primaryColorHex': '#d20a11',\n   'secondaryColorHex': '#e8bb57',\n   'category': {'name': 'World',\n    'slug': 'world',\n    'sport': {'name': 'Football', 'slug': 'football', 'id': 1},\n    'id': 1468,\n    'flag': 'international'},\n   'userCount': 1122748,\n   'id': 16,\n   'displayInverseHomeAwayTeams': False}]}"
     },
     "execution_count": 1078,
     "metadata": {},
     "output_type": "execute_result"
    }
   ],
   "source": [
    "Championnats"
   ],
   "metadata": {
    "collapsed": false,
    "ExecuteTime": {
     "end_time": "2023-12-01T15:35:29.470239900Z",
     "start_time": "2023-12-01T15:35:29.444121700Z"
    }
   },
   "id": "3f4ebd7a06bb905c"
  },
  {
   "cell_type": "code",
   "execution_count": 1079,
   "outputs": [
    {
     "name": "stdout",
     "output_type": "stream",
     "text": [
      "17\n",
      "Catégorie du championnat = england\n",
      "Nom du championnat = premier-league\n",
      "Id du championnat = 17\n",
      "200\n",
      "Catégorie du championnat = spain\n",
      "Nom du championnat = laliga\n",
      "Id du championnat = 8\n",
      "200\n",
      "Catégorie du championnat = germany\n",
      "Nom du championnat = bundesliga\n",
      "Id du championnat = 35\n",
      "200\n",
      "Catégorie du championnat = italy\n",
      "Nom du championnat = serie-a\n",
      "Id du championnat = 23\n",
      "200\n",
      "Catégorie du championnat = france\n",
      "Nom du championnat = ligue-1\n",
      "Id du championnat = 34\n",
      "200\n"
     ]
    }
   ],
   "source": [
    "#read the json file and get the id of the tournament\n",
    "import json\n",
    "\n",
    "with open('championship.json') as json_file:\n",
    "    Championnats = json.load(json_file)\n",
    "\n",
    "var = Championnats['uniqueTournaments'][0]['name']\n",
    "print(Championnats['uniqueTournaments'][0]['id'])\n",
    "\n",
    "for i in range(len(Championnats['uniqueTournaments'])):\n",
    "    print(\"Catégorie du championnat =\", Championnats['uniqueTournaments'][i]['category']['slug'])\n",
    "    print(\"Nom du championnat =\", Championnats['uniqueTournaments'][i]['slug'])\n",
    "    print(\"Id du championnat =\", Championnats['uniqueTournaments'][i]['id'])\n",
    "    response = requests.get('https://www.sofascore.com/tournament/football/' + str(\n",
    "        Championnats['uniqueTournaments'][i]['category']['slug']) + '/' + str(\n",
    "        Championnats['uniqueTournaments'][i]['slug']) + '/' + str(\n",
    "        Championnats['uniqueTournaments'][i]['id']) + '#52186', headers=headers)\n",
    "    print(response.status_code)"
   ],
   "metadata": {
    "collapsed": false,
    "ExecuteTime": {
     "end_time": "2023-12-01T15:35:31.483108400Z",
     "start_time": "2023-12-01T15:35:29.465216200Z"
    }
   },
   "id": "d214e4f40779922e"
  },
  {
   "cell_type": "code",
   "execution_count": 1080,
   "outputs": [],
   "source": [
    "soup = BeautifulSoup(response.text, 'html.parser')"
   ],
   "metadata": {
    "collapsed": false,
    "ExecuteTime": {
     "end_time": "2023-12-01T15:35:31.553517800Z",
     "start_time": "2023-12-01T15:35:31.487097800Z"
    }
   },
   "id": "1ea5a19ea90fc884"
  },
  {
   "cell_type": "code",
   "execution_count": 1081,
   "outputs": [
    {
     "name": "stdout",
     "output_type": "stream",
     "text": [
      "[]\n"
     ]
    }
   ],
   "source": [
    "soup.select('div[class=\"sc-fqkvVR kIMciy\"]')\n",
    "print(soup.select('div[class=\"sc-fqkvVR kIMciy\"]'))"
   ],
   "metadata": {
    "collapsed": false,
    "ExecuteTime": {
     "end_time": "2023-12-01T15:35:31.575266900Z",
     "start_time": "2023-12-01T15:35:31.555477800Z"
    }
   },
   "id": "a3ee3573e95e8af0"
  },
  {
   "cell_type": "code",
   "execution_count": 1082,
   "outputs": [
    {
     "name": "stdout",
     "output_type": "stream",
     "text": [
      "Catégorie du championnat = england\n",
      "Nom du championnat = premier-league\n",
      "Id du championnat = 17\n",
      "UUID du championnat = 52186\n",
      "200\n",
      "Catégorie du championnat = spain\n",
      "Nom du championnat = laliga\n",
      "Id du championnat = 8\n",
      "UUID du championnat = 52376\n",
      "200\n",
      "Catégorie du championnat = germany\n",
      "Nom du championnat = bundesliga\n",
      "Id du championnat = 35\n",
      "UUID du championnat = 52608\n",
      "200\n",
      "Catégorie du championnat = italy\n",
      "Nom du championnat = serie-a\n",
      "Id du championnat = 23\n",
      "UUID du championnat = 52760\n",
      "200\n",
      "Catégorie du championnat = france\n",
      "Nom du championnat = ligue-1\n",
      "Id du championnat = 34\n",
      "UUID du championnat = 52571\n",
      "200\n"
     ]
    }
   ],
   "source": [
    "import requests\n",
    "\n",
    "headers = {\n",
    "    'authority': 'api.sofascore.com',\n",
    "    'accept': '*/*',\n",
    "    'accept-language': 'fr-FR,fr;q=0.9,en-US;q=0.8,en;q=0.7',\n",
    "    'cache-control': 'max-age=0',\n",
    "    'if-none-match': 'W/\"01fc220c0d\"',\n",
    "    'origin': 'https://www.sofascore.com',\n",
    "    'referer': 'https://www.sofascore.com/',\n",
    "    'sec-ch-ua': '\"Opera\";v=\"105\", \"Chromium\";v=\"119\", \"Not?A_Brand\";v=\"24\"',\n",
    "    'sec-ch-ua-mobile': '?0',\n",
    "    'sec-ch-ua-platform': '\"Windows\"',\n",
    "    'sec-fetch-dest': 'empty',\n",
    "    'sec-fetch-mode': 'cors',\n",
    "    'sec-fetch-site': 'same-site',\n",
    "    'user-agent': 'Mozilla/5.0 (Windows NT 10.0; Win64; x64) AppleWebKit/537.36 (KHTML, like Gecko) Chrome/119.0.0.0 Safari/537.36 OPR/105.0.0.0',\n",
    "}\n",
    "\n",
    "for i in range(len(Championnats['uniqueTournaments'])):\n",
    "    print(\"Catégorie du championnat =\", Championnats['uniqueTournaments'][i]['category']['slug'])\n",
    "    print(\"Nom du championnat =\", Championnats['uniqueTournaments'][i]['slug'])\n",
    "    print(\"Id du championnat =\", Championnats['uniqueTournaments'][i]['id'])\n",
    "    response = requests.get('https://www.sofascore.com/tournament/football/'+str(Championnats['uniqueTournaments'][i]['category']['slug'])+'/'+str(Championnats['uniqueTournaments'][i]['slug'])+'/'+str(Championnats['uniqueTournaments'][i]['id'])+'#52186', headers=headers)\n",
    "    print(\"UUID du championnat =\", Championnats['uniqueTournaments'][i]['category']['sport']['UUid'])\n",
    "    print(response.status_code)"
   ],
   "metadata": {
    "collapsed": false,
    "ExecuteTime": {
     "end_time": "2023-12-01T15:35:33.575688100Z",
     "start_time": "2023-12-01T15:35:31.578294100Z"
    }
   },
   "id": "351b4656bcbc67e0"
  },
  {
   "cell_type": "code",
   "execution_count": 1083,
   "outputs": [
    {
     "data": {
      "text/plain": "200"
     },
     "execution_count": 1083,
     "metadata": {},
     "output_type": "execute_result"
    }
   ],
   "source": [
    "response.status_code"
   ],
   "metadata": {
    "collapsed": false,
    "ExecuteTime": {
     "end_time": "2023-12-01T15:35:33.582352500Z",
     "start_time": "2023-12-01T15:35:33.576933500Z"
    }
   },
   "id": "60e36e77d63acf6a"
  },
  {
   "cell_type": "code",
   "execution_count": 1084,
   "outputs": [],
   "source": [
    "headers['if-Modified-Since'] = 'Tue, 30 Nov 2023 00:00:00 GMT'"
   ],
   "metadata": {
    "collapsed": false,
    "ExecuteTime": {
     "end_time": "2023-12-01T15:35:33.597574500Z",
     "start_time": "2023-12-01T15:35:33.580846Z"
    }
   },
   "id": "4220adc3545a4375"
  },
  {
   "cell_type": "code",
   "execution_count": 1089,
   "outputs": [
    {
     "ename": "SyntaxError",
     "evalue": "invalid syntax (3748425078.py, line 9)",
     "output_type": "error",
     "traceback": [
      "\u001B[1;36m  Cell \u001B[1;32mIn[1089], line 9\u001B[1;36m\u001B[0m\n\u001B[1;33m    print(response.[i]['standings'][0]['team']['name'])\u001B[0m\n\u001B[1;37m                   ^\u001B[0m\n\u001B[1;31mSyntaxError\u001B[0m\u001B[1;31m:\u001B[0m invalid syntax\n"
     ]
    }
   ],
   "source": [
    "for i in range(len(Championnats['uniqueTournaments'])):\n",
    "    print(\"Catégorie du championnat =\", Championnats['uniqueTournaments'][i]['category']['slug'])\n",
    "    print(\"Nom du championnat =\", Championnats['uniqueTournaments'][i]['slug'])\n",
    "    print(\"Id du championnat =\", Championnats['uniqueTournaments'][i]['id'])\n",
    "    response = requests.get('https://api.sofascore.com/api/v1/unique-tournament/' + str(\n",
    "        Championnats['uniqueTournaments'][i]['id']) + '/season/' + str(\n",
    "        Championnats['uniqueTournaments'][i]['category']['sport']['UUid']) + '/standings/total', headers=headers)\n",
    "    print((Championnats['uniqueTournaments'][i]['id']))\n",
    "    print(response.status_code)"
   ],
   "metadata": {
    "collapsed": false,
    "ExecuteTime": {
     "end_time": "2023-12-01T15:35:51.567320700Z",
     "start_time": "2023-12-01T15:35:51.558232100Z"
    }
   },
   "id": "9ed5b79e41ce040f"
  },
  {
   "cell_type": "code",
   "execution_count": 1086,
   "outputs": [
    {
     "data": {
      "text/plain": "200"
     },
     "execution_count": 1086,
     "metadata": {},
     "output_type": "execute_result"
    }
   ],
   "source": [
    "response.status_code"
   ],
   "metadata": {
    "collapsed": false,
    "ExecuteTime": {
     "end_time": "2023-12-01T15:35:35.620399900Z",
     "start_time": "2023-12-01T15:35:35.610666600Z"
    }
   },
   "id": "eff7eeaf57b4d73b"
  },
  {
   "cell_type": "code",
   "execution_count": 1086,
   "outputs": [],
   "source": [],
   "metadata": {
    "collapsed": false,
    "ExecuteTime": {
     "end_time": "2023-12-01T15:35:35.621397500Z",
     "start_time": "2023-12-01T15:35:35.618397100Z"
    }
   },
   "id": "6e4045a7e16ecb2e"
  },
  {
   "cell_type": "code",
   "execution_count": 1087,
   "outputs": [],
   "source": [
    "# import json\n",
    "# \n",
    "# with open('teams.json', 'w') as json_file:\n",
    "#     json.dump(teams, json_file)"
   ],
   "metadata": {
    "collapsed": false,
    "ExecuteTime": {
     "end_time": "2023-12-01T15:35:35.659560400Z",
     "start_time": "2023-12-01T15:35:35.621397500Z"
    }
   },
   "id": "8a93ddbfa47d3463"
  }
 ],
 "metadata": {
  "kernelspec": {
   "display_name": "Python 3",
   "language": "python",
   "name": "python3"
  },
  "language_info": {
   "codemirror_mode": {
    "name": "ipython",
    "version": 2
   },
   "file_extension": ".py",
   "mimetype": "text/x-python",
   "name": "python",
   "nbconvert_exporter": "python",
   "pygments_lexer": "ipython2",
   "version": "2.7.6"
  }
 },
 "nbformat": 4,
 "nbformat_minor": 5
}
