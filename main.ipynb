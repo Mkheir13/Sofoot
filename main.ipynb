{
 "cells": [
  {
   "cell_type": "code",
   "execution_count": 318,
   "id": "initial_id",
   "metadata": {
    "collapsed": true,
    "ExecuteTime": {
     "end_time": "2023-12-18T11:00:33.269649200Z",
     "start_time": "2023-12-18T11:00:33.116157700Z"
    }
   },
   "outputs": [],
   "source": [
    "import requests\n",
    "\n",
    "from bs4 import BeautifulSoup"
   ]
  },
  {
   "cell_type": "code",
   "execution_count": 319,
   "outputs": [],
   "source": [
    "response = requests.get('https://www.sofascore.com', headers={'user-agent' : 'Mozilla/5.0 (Windows NT 10.0; Win64; x64) AppleWebKit/537.36 (KHTML, like Gecko) Chrome/118.0.0.0 Safari/537.36 OPR/104.0.0.0'})"
   ],
   "metadata": {
    "collapsed": false,
    "ExecuteTime": {
     "end_time": "2023-12-18T11:00:33.672718Z",
     "start_time": "2023-12-18T11:00:33.120094800Z"
    }
   },
   "id": "faf01562b21072a5"
  },
  {
   "cell_type": "code",
   "execution_count": 320,
   "outputs": [
    {
     "data": {
      "text/plain": "200"
     },
     "execution_count": 320,
     "metadata": {},
     "output_type": "execute_result"
    }
   ],
   "source": [
    "response.status_code"
   ],
   "metadata": {
    "collapsed": false,
    "ExecuteTime": {
     "end_time": "2023-12-18T11:00:33.681060500Z",
     "start_time": "2023-12-18T11:00:33.672718Z"
    }
   },
   "id": "725d42ef5e54a1cb"
  },
  {
   "cell_type": "code",
   "execution_count": 321,
   "outputs": [],
   "source": [
    "soup = BeautifulSoup(response.text, 'html.parser')"
   ],
   "metadata": {
    "collapsed": false,
    "ExecuteTime": {
     "end_time": "2023-12-18T11:00:33.734470300Z",
     "start_time": "2023-12-18T11:00:33.679062500Z"
    }
   },
   "id": "5d108e0a55e3c755"
  },
  {
   "cell_type": "code",
   "execution_count": 322,
   "outputs": [
    {
     "data": {
      "text/plain": "[]"
     },
     "execution_count": 322,
     "metadata": {},
     "output_type": "execute_result"
    }
   ],
   "source": [
    "soup.select('div[class=\"sc-fqkvVR kIMciy\"]')"
   ],
   "metadata": {
    "collapsed": false,
    "ExecuteTime": {
     "end_time": "2023-12-18T11:00:33.735548300Z",
     "start_time": "2023-12-18T11:00:33.724158900Z"
    }
   },
   "id": "e2ed110e8e2cd53b"
  },
  {
   "cell_type": "code",
   "execution_count": 323,
   "outputs": [],
   "source": [
    "import requests\n",
    "\n",
    "headers = {\n",
    "    'authority': 'api.sofascore.com',\n",
    "    'accept': '*/*',\n",
    "    'accept-language': 'fr-FR,fr;q=0.9,en-US;q=0.8,en;q=0.7',\n",
    "    'cache-control': 'max-age=0',\n",
    "    'if-none-match': 'W/\"fdc2584cf4\"',\n",
    "    'origin': 'https://www.sofascore.com',\n",
    "    'referer': 'https://www.sofascore.com/',\n",
    "    'sec-ch-ua': '\"Chromium\";v=\"118\", \"Opera\";v=\"104\", \"Not=A?Brand\";v=\"99\"',\n",
    "    'sec-ch-ua-mobile': '?0',\n",
    "    'sec-ch-ua-platform': '\"Windows\"',\n",
    "    'sec-fetch-dest': 'empty',\n",
    "    'sec-fetch-mode': 'cors',\n",
    "    'sec-fetch-site': 'same-site',\n",
    "    'user-agent': 'Mozilla/5.0 (Windows NT 10.0; Win64; x64) AppleWebKit/537.36 (KHTML, like Gecko) Chrome/118.0.0.0 Safari/537.36 OPR/104.0.0.0',\n",
    "}\n",
    "\n",
    "response = requests.get('https://api.sofascore.com/api/v1/config/top-unique-tournaments/FR/football', headers=headers)"
   ],
   "metadata": {
    "collapsed": false,
    "ExecuteTime": {
     "end_time": "2023-12-18T11:00:34.262394700Z",
     "start_time": "2023-12-18T11:00:33.736587Z"
    }
   },
   "id": "39bbfe645c047f44"
  },
  {
   "cell_type": "code",
   "execution_count": 324,
   "outputs": [
    {
     "data": {
      "text/plain": "200"
     },
     "execution_count": 324,
     "metadata": {},
     "output_type": "execute_result"
    }
   ],
   "source": [
    "response.status_code"
   ],
   "metadata": {
    "collapsed": false,
    "ExecuteTime": {
     "end_time": "2023-12-18T11:00:34.274174100Z",
     "start_time": "2023-12-18T11:00:34.266492700Z"
    }
   },
   "id": "932ad5b4880b2184"
  },
  {
   "cell_type": "code",
   "execution_count": 325,
   "outputs": [],
   "source": [
    "headers['if-Modified-Since'] = 'Tue, 28 Nov 2023 00:00:00 GMT'"
   ],
   "metadata": {
    "collapsed": false,
    "ExecuteTime": {
     "end_time": "2023-12-18T11:00:34.285100700Z",
     "start_time": "2023-12-18T11:00:34.272215500Z"
    }
   },
   "id": "3d28ea7ffba9d1af"
  },
  {
   "cell_type": "code",
   "execution_count": 326,
   "outputs": [],
   "source": [
    "response = requests.get('https://api.sofascore.com/api/v1/config/top-unique-tournaments/FR/football', headers=headers)"
   ],
   "metadata": {
    "collapsed": false,
    "ExecuteTime": {
     "end_time": "2023-12-18T11:00:34.736465800Z",
     "start_time": "2023-12-18T11:00:34.283101200Z"
    }
   },
   "id": "71ae277de3d3a545"
  },
  {
   "cell_type": "code",
   "execution_count": 327,
   "outputs": [
    {
     "data": {
      "text/plain": "200"
     },
     "execution_count": 327,
     "metadata": {},
     "output_type": "execute_result"
    }
   ],
   "source": [
    "response.status_code"
   ],
   "metadata": {
    "collapsed": false,
    "ExecuteTime": {
     "end_time": "2023-12-18T11:00:34.762110500Z",
     "start_time": "2023-12-18T11:00:34.738488800Z"
    }
   },
   "id": "ad7bc70ef87c94b5"
  },
  {
   "cell_type": "code",
   "execution_count": 328,
   "outputs": [],
   "source": [
    "Championnats = response.json()"
   ],
   "metadata": {
    "collapsed": false,
    "ExecuteTime": {
     "end_time": "2023-12-18T11:00:34.763119400Z",
     "start_time": "2023-12-18T11:00:34.745602500Z"
    }
   },
   "id": "a40a641656549a71"
  },
  {
   "cell_type": "code",
   "execution_count": 329,
   "outputs": [
    {
     "data": {
      "text/plain": "{'uniqueTournaments': [{'name': 'UEFA Champions League',\n   'slug': 'uefa-champions-league',\n   'primaryColorHex': '#062b5c',\n   'secondaryColorHex': '#086aab',\n   'category': {'name': 'Europe',\n    'slug': 'europe',\n    'sport': {'name': 'Football', 'slug': 'football', 'id': 1},\n    'id': 1465,\n    'flag': 'europe'},\n   'userCount': 1337992,\n   'id': 7,\n   'displayInverseHomeAwayTeams': False},\n  {'name': 'UEFA Europa League',\n   'slug': 'uefa-europa-league',\n   'secondaryColorHex': '#f37d25',\n   'category': {'name': 'Europe',\n    'slug': 'europe',\n    'sport': {'name': 'Football', 'slug': 'football', 'id': 1},\n    'id': 1465,\n    'flag': 'europe'},\n   'userCount': 630982,\n   'id': 679,\n   'displayInverseHomeAwayTeams': False},\n  {'name': 'Premier League',\n   'slug': 'premier-league',\n   'primaryColorHex': '#3c1c5a',\n   'secondaryColorHex': '#f80158',\n   'category': {'name': 'England',\n    'slug': 'england',\n    'sport': {'name': 'Football', 'slug': 'football', 'id': 1},\n    'id': 1,\n    'flag': 'england',\n    'alpha2': 'EN'},\n   'userCount': 1402435,\n   'id': 17,\n   'displayInverseHomeAwayTeams': False},\n  {'name': 'LaLiga',\n   'slug': 'laliga',\n   'primaryColorHex': '#2f4a89',\n   'secondaryColorHex': '#f4a32e',\n   'category': {'name': 'Spain',\n    'slug': 'spain',\n    'sport': {'name': 'Football', 'slug': 'football', 'id': 1},\n    'id': 32,\n    'flag': 'spain',\n    'alpha2': 'ES'},\n   'userCount': 923566,\n   'id': 8,\n   'displayInverseHomeAwayTeams': False},\n  {'name': 'Bundesliga',\n   'slug': 'bundesliga',\n   'primaryColorHex': '#e2080e',\n   'secondaryColorHex': '#8e0902',\n   'category': {'name': 'Germany',\n    'slug': 'germany',\n    'sport': {'name': 'Football', 'slug': 'football', 'id': 1},\n    'id': 30,\n    'flag': 'germany',\n    'alpha2': 'DE'},\n   'userCount': 636889,\n   'id': 35,\n   'displayInverseHomeAwayTeams': False},\n  {'name': 'Serie A',\n   'slug': 'serie-a',\n   'primaryColorHex': '#09519e',\n   'secondaryColorHex': '#008fd7',\n   'category': {'name': 'Italy',\n    'slug': 'italy',\n    'sport': {'name': 'Football', 'slug': 'football', 'id': 1},\n    'id': 31,\n    'flag': 'italy',\n    'alpha2': 'IT'},\n   'userCount': 758087,\n   'id': 23,\n   'displayInverseHomeAwayTeams': False},\n  {'name': 'Ligue 1',\n   'slug': 'ligue-1',\n   'primaryColorHex': '#091c3e',\n   'secondaryColorHex': '#a9c011',\n   'category': {'name': 'France',\n    'slug': 'france',\n    'sport': {'name': 'Football', 'slug': 'football', 'id': 1},\n    'id': 7,\n    'flag': 'france',\n    'alpha2': 'FR'},\n   'userCount': 536472,\n   'id': 34,\n   'displayInverseHomeAwayTeams': False},\n  {'name': 'Eredivisie',\n   'slug': 'eredivisie',\n   'primaryColorHex': '#292766',\n   'secondaryColorHex': '#7c79c3',\n   'category': {'name': 'Netherlands',\n    'slug': 'netherlands',\n    'sport': {'name': 'Football', 'slug': 'football', 'id': 1},\n    'id': 35,\n    'flag': 'netherlands',\n    'alpha2': 'NL'},\n   'userCount': 171112,\n   'id': 37,\n   'displayInverseHomeAwayTeams': False},\n  {'name': 'Brasileirão Série A',\n   'slug': 'brasileirao-serie-a',\n   'primaryColorHex': '#C7FF00',\n   'secondaryColorHex': '#969696',\n   'category': {'name': 'Brazil',\n    'slug': 'brazil',\n    'sport': {'name': 'Football', 'slug': 'football', 'id': 1},\n    'id': 13,\n    'flag': 'brazil',\n    'alpha2': 'BR'},\n   'userCount': 286455,\n   'id': 325,\n   'displayInverseHomeAwayTeams': False},\n  {'name': 'CONMEBOL Libertadores',\n   'slug': 'conmebol-libertadores',\n   'primaryColorHex': '#573215',\n   'secondaryColorHex': '#dfaf49',\n   'category': {'name': 'South America',\n    'slug': 'south-america',\n    'sport': {'name': 'Football', 'slug': 'football', 'id': 1},\n    'id': 1470,\n    'flag': 'south-america'},\n   'userCount': 211248,\n   'id': 384,\n   'displayInverseHomeAwayTeams': False},\n  {'name': 'CAF Champions League',\n   'slug': 'caf-champions-league',\n   'primaryColorHex': '#ebbf03',\n   'secondaryColorHex': '#3a292a',\n   'category': {'name': 'Africa',\n    'slug': 'africa',\n    'sport': {'name': 'Football', 'slug': 'football', 'id': 1},\n    'id': 1466,\n    'flag': 'africa'},\n   'userCount': 124368,\n   'id': 1054,\n   'displayInverseHomeAwayTeams': False},\n  {'name': 'World Championship',\n   'slug': 'world-championship',\n   'primaryColorHex': '#d20a11',\n   'secondaryColorHex': '#e8bb57',\n   'category': {'name': 'World',\n    'slug': 'world',\n    'sport': {'name': 'Football', 'slug': 'football', 'id': 1},\n    'id': 1468,\n    'flag': 'international'},\n   'userCount': 1128331,\n   'id': 16,\n   'displayInverseHomeAwayTeams': False}]}"
     },
     "execution_count": 329,
     "metadata": {},
     "output_type": "execute_result"
    }
   ],
   "source": [
    "Championnats"
   ],
   "metadata": {
    "collapsed": false,
    "ExecuteTime": {
     "end_time": "2023-12-18T11:00:34.843734800Z",
     "start_time": "2023-12-18T11:00:34.763119400Z"
    }
   },
   "id": "3f4ebd7a06bb905c"
  },
  {
   "cell_type": "code",
   "execution_count": 330,
   "outputs": [
    {
     "name": "stdout",
     "output_type": "stream",
     "text": [
      "17\n",
      "Catégorie du championnat = england\n",
      "Nom du championnat = premier-league\n",
      "Id du championnat = 17\n",
      "200\n",
      "Catégorie du championnat = spain\n",
      "Nom du championnat = laliga\n",
      "Id du championnat = 8\n",
      "200\n",
      "Catégorie du championnat = germany\n",
      "Nom du championnat = bundesliga\n",
      "Id du championnat = 35\n",
      "200\n",
      "Catégorie du championnat = italy\n",
      "Nom du championnat = serie-a\n",
      "Id du championnat = 23\n",
      "200\n",
      "Catégorie du championnat = france\n",
      "Nom du championnat = ligue-1\n",
      "Id du championnat = 34\n",
      "200\n"
     ]
    }
   ],
   "source": [
    "#read the json file and get the id of the tournament\n",
    "import json\n",
    "\n",
    "with open('championship.json') as json_file:\n",
    "    Championnats = json.load(json_file)\n",
    "\n",
    "var = Championnats['uniqueTournaments'][0]['name']\n",
    "print(Championnats['uniqueTournaments'][0]['id'])\n",
    "\n",
    "for i in range(len(Championnats['uniqueTournaments'])):\n",
    "    print(\"Catégorie du championnat =\", Championnats['uniqueTournaments'][i]['category']['slug'])\n",
    "    print(\"Nom du championnat =\", Championnats['uniqueTournaments'][i]['slug'])\n",
    "    print(\"Id du championnat =\", Championnats['uniqueTournaments'][i]['id'])\n",
    "    response = requests.get('https://www.sofascore.com/tournament/football/' + str(\n",
    "        Championnats['uniqueTournaments'][i]['category']['slug']) + '/' + str(\n",
    "        Championnats['uniqueTournaments'][i]['slug']) + '/' + str(\n",
    "        Championnats['uniqueTournaments'][i]['id']) + '#52186', headers=headers)\n",
    "    print(response.status_code)"
   ],
   "metadata": {
    "collapsed": false,
    "ExecuteTime": {
     "end_time": "2023-12-18T11:00:37.300807300Z",
     "start_time": "2023-12-18T11:00:34.780199300Z"
    }
   },
   "id": "d214e4f40779922e"
  },
  {
   "cell_type": "code",
   "execution_count": 331,
   "outputs": [],
   "source": [
    "soup = BeautifulSoup(response.text, 'html.parser')"
   ],
   "metadata": {
    "collapsed": false,
    "ExecuteTime": {
     "end_time": "2023-12-18T11:00:37.375349900Z",
     "start_time": "2023-12-18T11:00:37.298623100Z"
    }
   },
   "id": "1ea5a19ea90fc884"
  },
  {
   "cell_type": "code",
   "execution_count": 332,
   "outputs": [
    {
     "name": "stdout",
     "output_type": "stream",
     "text": [
      "[]\n"
     ]
    }
   ],
   "source": [
    "soup.select('div[class=\"sc-fqkvVR kIMciy\"]')\n",
    "print(soup.select('div[class=\"sc-fqkvVR kIMciy\"]'))"
   ],
   "metadata": {
    "collapsed": false,
    "ExecuteTime": {
     "end_time": "2023-12-18T11:00:37.396583100Z",
     "start_time": "2023-12-18T11:00:37.377860900Z"
    }
   },
   "id": "a3ee3573e95e8af0"
  },
  {
   "cell_type": "code",
   "execution_count": 333,
   "outputs": [
    {
     "name": "stdout",
     "output_type": "stream",
     "text": [
      "Catégorie du championnat = england\n",
      "Nom du championnat = premier-league\n",
      "Id du championnat = 17\n",
      "UUID du championnat = 52186\n",
      "200\n",
      "Catégorie du championnat = spain\n",
      "Nom du championnat = laliga\n",
      "Id du championnat = 8\n",
      "UUID du championnat = 52376\n",
      "200\n",
      "Catégorie du championnat = germany\n",
      "Nom du championnat = bundesliga\n",
      "Id du championnat = 35\n",
      "UUID du championnat = 52608\n",
      "200\n",
      "Catégorie du championnat = italy\n",
      "Nom du championnat = serie-a\n",
      "Id du championnat = 23\n",
      "UUID du championnat = 52760\n",
      "200\n",
      "Catégorie du championnat = france\n",
      "Nom du championnat = ligue-1\n",
      "Id du championnat = 34\n",
      "UUID du championnat = 52571\n",
      "200\n"
     ]
    }
   ],
   "source": [
    "import requests\n",
    "\n",
    "headers = {\n",
    "    'authority': 'api.sofascore.com',\n",
    "    'accept': '*/*',\n",
    "    'accept-language': 'fr-FR,fr;q=0.9,en-US;q=0.8,en;q=0.7',\n",
    "    'cache-control': 'max-age=0',\n",
    "    'if-none-match': 'W/\"01fc220c0d\"',\n",
    "    'origin': 'https://www.sofascore.com',\n",
    "    'referer': 'https://www.sofascore.com/',\n",
    "    'sec-ch-ua': '\"Opera\";v=\"105\", \"Chromium\";v=\"119\", \"Not?A_Brand\";v=\"24\"',\n",
    "    'sec-ch-ua-mobile': '?0',\n",
    "    'sec-ch-ua-platform': '\"Windows\"',\n",
    "    'sec-fetch-dest': 'empty',\n",
    "    'sec-fetch-mode': 'cors',\n",
    "    'sec-fetch-site': 'same-site',\n",
    "    'user-agent': 'Mozilla/5.0 (Windows NT 10.0; Win64; x64) AppleWebKit/537.36 (KHTML, like Gecko) Chrome/119.0.0.0 Safari/537.36 OPR/105.0.0.0',\n",
    "}\n",
    "\n",
    "for i in range(len(Championnats['uniqueTournaments'])):\n",
    "    print(\"Catégorie du championnat =\", Championnats['uniqueTournaments'][i]['category']['slug'])\n",
    "    print(\"Nom du championnat =\", Championnats['uniqueTournaments'][i]['slug'])\n",
    "    print(\"Id du championnat =\", Championnats['uniqueTournaments'][i]['id'])\n",
    "    response = requests.get('https://www.sofascore.com/tournament/football/'+str(Championnats['uniqueTournaments'][i]['category']['slug'])+'/'+str(Championnats['uniqueTournaments'][i]['slug'])+'/'+str(Championnats['uniqueTournaments'][i]['id'])+'#52186', headers=headers)\n",
    "    print(\"UUID du championnat =\", Championnats['uniqueTournaments'][i]['category']['sport']['UUid'])\n",
    "    print(response.status_code)"
   ],
   "metadata": {
    "collapsed": false,
    "ExecuteTime": {
     "end_time": "2023-12-18T11:00:39.590138500Z",
     "start_time": "2023-12-18T11:00:37.400584800Z"
    }
   },
   "id": "351b4656bcbc67e0"
  },
  {
   "cell_type": "code",
   "execution_count": 334,
   "outputs": [
    {
     "data": {
      "text/plain": "200"
     },
     "execution_count": 334,
     "metadata": {},
     "output_type": "execute_result"
    }
   ],
   "source": [
    "response.status_code"
   ],
   "metadata": {
    "collapsed": false,
    "ExecuteTime": {
     "end_time": "2023-12-18T11:00:39.590210900Z",
     "start_time": "2023-12-18T11:00:39.584084200Z"
    }
   },
   "id": "60e36e77d63acf6a"
  },
  {
   "cell_type": "code",
   "execution_count": 335,
   "outputs": [],
   "source": [
    "headers['if-Modified-Since'] = 'Tue, 30 Nov 2023 00:00:00 GMT'"
   ],
   "metadata": {
    "collapsed": false,
    "ExecuteTime": {
     "end_time": "2023-12-18T11:00:39.601470800Z",
     "start_time": "2023-12-18T11:00:39.590210900Z"
    }
   },
   "id": "4220adc3545a4375"
  },
  {
   "cell_type": "code",
   "execution_count": 336,
   "outputs": [
    {
     "name": "stdout",
     "output_type": "stream",
     "text": [
      "Catégorie du championnat = england\n",
      "Nom du championnat = premier-league\n",
      "Id du championnat = 17\n",
      "{'standings': [{'tournament': {'name': 'Premier League', 'slug': 'premier-league', 'category': {'name': 'England', 'slug': 'england', 'sport': {'name': 'Football', 'slug': 'football', 'id': 1}, 'id': 1, 'flag': 'england', 'alpha2': 'EN'}, 'uniqueTournament': {'name': 'Premier League', 'slug': 'premier-league', 'primaryColorHex': '#3c1c5a', 'secondaryColorHex': '#f80158', 'category': {'name': 'England', 'slug': 'england', 'sport': {'name': 'Football', 'slug': 'football', 'id': 1}, 'id': 1, 'flag': 'england', 'alpha2': 'EN'}, 'userCount': 1402435, 'hasPerformanceGraphFeature': True, 'id': 17, 'displayInverseHomeAwayTeams': False}, 'priority': 599, 'id': 1}, 'type': 'total', 'name': 'Premier League', 'descriptions': [], 'tieBreakingRule': {'text': 'In the event that two (or more) teams have an equal number of points, the following rules break the tie:\\n1. Goal difference\\n2. Goals scored', 'id': 1238}, 'rows': [{'team': {'name': 'Arsenal', 'slug': 'arsenal', 'shortName': 'Arsenal', 'gender': 'M', 'sport': {'name': 'Football', 'slug': 'football', 'id': 1}, 'userCount': 1040939, 'nameCode': 'ARS', 'disabled': False, 'national': False, 'type': 0, 'id': 42, 'teamColors': {'primary': '#cc0000', 'secondary': '#ffffff', 'text': '#ffffff'}}, 'descriptions': [], 'promotion': {'text': 'Champions League', 'id': 804}, 'position': 1, 'matches': 17, 'wins': 12, 'scoresFor': 35, 'scoresAgainst': 15, 'id': 866347, 'losses': 2, 'draws': 3, 'points': 39}, {'team': {'name': 'Liverpool', 'slug': 'liverpool', 'shortName': 'Liverpool', 'gender': 'M', 'sport': {'name': 'Football', 'slug': 'football', 'id': 1}, 'userCount': 1236077, 'nameCode': 'LIV', 'disabled': False, 'national': False, 'type': 0, 'id': 44, 'teamColors': {'primary': '#cc0000', 'secondary': '#ffffff', 'text': '#ffffff'}}, 'descriptions': [], 'promotion': {'text': 'Champions League', 'id': 804}, 'position': 2, 'matches': 17, 'wins': 11, 'scoresFor': 36, 'scoresAgainst': 15, 'id': 866356, 'losses': 1, 'draws': 5, 'points': 38}, {'team': {'name': 'Aston Villa', 'slug': 'aston-villa', 'shortName': 'Aston Villa', 'gender': 'M', 'sport': {'name': 'Football', 'slug': 'football', 'id': 1}, 'userCount': 252400, 'nameCode': 'AVL', 'disabled': False, 'national': False, 'type': 0, 'id': 40, 'teamColors': {'primary': '#670e36', 'secondary': '#94bee5', 'text': '#94bee5'}}, 'descriptions': [], 'promotion': {'text': 'Champions League', 'id': 804}, 'position': 3, 'matches': 17, 'wins': 12, 'scoresFor': 37, 'scoresAgainst': 21, 'id': 866348, 'losses': 3, 'draws': 2, 'points': 38}, {'team': {'name': 'Manchester City', 'slug': 'manchester-city', 'shortName': 'Man City', 'gender': 'M', 'sport': {'name': 'Football', 'slug': 'football', 'id': 1}, 'userCount': 1373275, 'nameCode': 'MCI', 'disabled': False, 'national': False, 'type': 0, 'id': 17, 'teamColors': {'primary': '#66ccff', 'secondary': '#ffffff', 'text': '#ffffff'}}, 'descriptions': [], 'promotion': {'text': 'Champions League', 'id': 804}, 'position': 4, 'matches': 17, 'wins': 10, 'scoresFor': 40, 'scoresAgainst': 20, 'id': 866358, 'losses': 3, 'draws': 4, 'points': 34}, {'team': {'name': 'Tottenham Hotspur', 'slug': 'tottenham-hotspur', 'shortName': 'Tottenham ', 'gender': 'M', 'sport': {'name': 'Football', 'slug': 'football', 'id': 1}, 'userCount': 629398, 'nameCode': 'TOT', 'disabled': False, 'national': False, 'type': 0, 'id': 33, 'teamColors': {'primary': '#ffffff', 'secondary': '#000066', 'text': '#000066'}}, 'descriptions': [], 'promotion': {'text': 'UEFA Europa League', 'id': 808}, 'position': 5, 'matches': 17, 'wins': 10, 'scoresFor': 35, 'scoresAgainst': 23, 'id': 866363, 'losses': 4, 'draws': 3, 'points': 33}, {'team': {'name': 'Newcastle United', 'slug': 'newcastle-united', 'shortName': 'Newcastle', 'gender': 'M', 'sport': {'name': 'Football', 'slug': 'football', 'id': 1}, 'userCount': 405977, 'nameCode': 'NEW', 'disabled': False, 'national': False, 'type': 0, 'id': 39, 'teamColors': {'primary': '#000000', 'secondary': '#ffffff', 'text': '#ffffff'}}, 'descriptions': [], 'position': 6, 'matches': 17, 'wins': 9, 'scoresFor': 36, 'scoresAgainst': 21, 'id': 866360, 'losses': 6, 'draws': 2, 'points': 29}, {'team': {'name': 'Manchester United', 'slug': 'manchester-united', 'shortName': 'Man Utd', 'gender': 'M', 'sport': {'name': 'Football', 'slug': 'football', 'id': 1}, 'userCount': 1333633, 'nameCode': 'MUN', 'disabled': False, 'national': False, 'type': 0, 'id': 35, 'teamColors': {'primary': '#ff0000', 'secondary': '#373737', 'text': '#373737'}}, 'descriptions': [], 'position': 7, 'matches': 17, 'wins': 9, 'scoresFor': 18, 'scoresAgainst': 21, 'id': 866359, 'losses': 7, 'draws': 1, 'points': 28}, {'team': {'name': 'West Ham United', 'slug': 'west-ham-united', 'shortName': 'West Ham', 'gender': 'M', 'sport': {'name': 'Football', 'slug': 'football', 'id': 1}, 'userCount': 265356, 'nameCode': 'WHU', 'disabled': False, 'national': False, 'type': 0, 'id': 37, 'teamColors': {'primary': '#66192c', 'secondary': '#59b3e4', 'text': '#59b3e4'}}, 'descriptions': [], 'position': 8, 'matches': 17, 'wins': 8, 'scoresFor': 29, 'scoresAgainst': 30, 'id': 866364, 'losses': 6, 'draws': 3, 'points': 27}, {'team': {'name': 'Brighton & Hove Albion', 'slug': 'brighton-and-hove-albion', 'shortName': 'Brighton', 'gender': 'M', 'sport': {'name': 'Football', 'slug': 'football', 'id': 1}, 'userCount': 254720, 'nameCode': 'BHA', 'disabled': False, 'national': False, 'type': 0, 'id': 30, 'teamColors': {'primary': '#0054a6', 'secondary': '#ffffff', 'text': '#ffffff'}}, 'descriptions': [], 'position': 9, 'matches': 17, 'wins': 7, 'scoresFor': 33, 'scoresAgainst': 30, 'id': 866350, 'losses': 5, 'draws': 5, 'points': 26}, {'team': {'name': 'Chelsea', 'slug': 'chelsea', 'shortName': 'Chelsea', 'gender': 'M', 'sport': {'name': 'Football', 'slug': 'football', 'id': 1}, 'userCount': 969960, 'nameCode': 'CHE', 'disabled': False, 'national': False, 'type': 0, 'id': 38, 'teamColors': {'primary': '#0310a7', 'secondary': '#ffffff', 'text': '#ffffff'}}, 'descriptions': [], 'position': 10, 'matches': 17, 'wins': 6, 'scoresFor': 28, 'scoresAgainst': 26, 'id': 866352, 'losses': 7, 'draws': 4, 'points': 22}, {'team': {'name': 'Fulham', 'slug': 'fulham', 'shortName': 'Fulham', 'gender': 'M', 'sport': {'name': 'Football', 'slug': 'football', 'id': 1}, 'userCount': 141769, 'nameCode': 'FUL', 'disabled': False, 'national': False, 'type': 0, 'id': 43, 'teamColors': {'primary': '#ffffff', 'secondary': '#000000', 'text': '#000000'}}, 'descriptions': [], 'position': 11, 'matches': 17, 'wins': 6, 'scoresFor': 26, 'scoresAgainst': 29, 'id': 866355, 'losses': 8, 'draws': 3, 'points': 21}, {'team': {'name': 'Brentford', 'slug': 'brentford', 'shortName': 'Brentford', 'gender': 'M', 'sport': {'name': 'Football', 'slug': 'football', 'id': 1}, 'userCount': 135497, 'nameCode': 'BRE', 'disabled': False, 'national': False, 'type': 0, 'id': 50, 'teamColors': {'primary': '#ffffff', 'secondary': '#ff0000', 'text': '#ff0000'}}, 'descriptions': [], 'position': 12, 'matches': 17, 'wins': 5, 'scoresFor': 24, 'scoresAgainst': 24, 'id': 866349, 'losses': 8, 'draws': 4, 'points': 19}, {'team': {'name': 'Wolverhampton', 'slug': 'wolverhampton', 'shortName': 'Wolves', 'gender': 'M', 'sport': {'name': 'Football', 'slug': 'football', 'id': 1}, 'userCount': 153952, 'nameCode': 'WOL', 'disabled': False, 'national': False, 'type': 0, 'id': 3, 'teamColors': {'primary': '#ff9900', 'secondary': '#000000', 'text': '#000000'}}, 'descriptions': [], 'position': 13, 'matches': 17, 'wins': 5, 'scoresFor': 21, 'scoresAgainst': 29, 'id': 866365, 'losses': 8, 'draws': 4, 'points': 19}, {'team': {'name': 'Bournemouth', 'slug': 'bournemouth', 'shortName': 'Bournemouth', 'gender': 'M', 'sport': {'name': 'Football', 'slug': 'football', 'id': 1}, 'userCount': 95311, 'nameCode': 'BOU', 'disabled': False, 'national': False, 'type': 0, 'id': 60, 'teamColors': {'primary': '#000000', 'secondary': '#cc0000', 'text': '#cc0000'}}, 'descriptions': [], 'position': 14, 'matches': 16, 'wins': 5, 'scoresFor': 21, 'scoresAgainst': 30, 'id': 866346, 'losses': 7, 'draws': 4, 'points': 19}, {'team': {'name': 'Crystal Palace', 'slug': 'crystal-palace', 'shortName': 'Crystal Palace', 'gender': 'M', 'sport': {'name': 'Football', 'slug': 'football', 'id': 1}, 'userCount': 131405, 'nameCode': 'CRY', 'disabled': False, 'national': False, 'type': 0, 'id': 7, 'teamColors': {'primary': '#0033ff', 'secondary': '#b90d2b', 'text': '#b90d2b'}}, 'descriptions': [], 'position': 15, 'matches': 17, 'wins': 4, 'scoresFor': 17, 'scoresAgainst': 25, 'id': 866353, 'losses': 8, 'draws': 5, 'points': 17}, {'team': {'name': 'Everton', 'slug': 'everton', 'shortName': 'Everton', 'gender': 'M', 'sport': {'name': 'Football', 'slug': 'football', 'id': 1}, 'userCount': 190128, 'nameCode': 'EVE', 'disabled': False, 'national': False, 'type': 0, 'id': 48, 'teamColors': {'primary': '#274488', 'secondary': '#ffffff', 'text': '#ffffff'}}, 'descriptions': [{'text': '10 points deducted due to decision by the Federation', 'id': 375}], 'position': 16, 'matches': 17, 'wins': 8, 'scoresFor': 22, 'scoresAgainst': 20, 'id': 866354, 'losses': 7, 'draws': 2, 'points': 16}, {'team': {'name': 'Nottingham Forest', 'slug': 'nottingham-forest', 'shortName': 'Forest', 'gender': 'M', 'sport': {'name': 'Football', 'slug': 'football', 'id': 1}, 'userCount': 112747, 'nameCode': 'NFO', 'disabled': False, 'national': False, 'type': 0, 'id': 14, 'teamColors': {'primary': '#cc0000', 'secondary': '#cc0000', 'text': '#cc0000'}}, 'descriptions': [], 'position': 17, 'matches': 17, 'wins': 3, 'scoresFor': 17, 'scoresAgainst': 30, 'id': 866361, 'losses': 9, 'draws': 5, 'points': 14}, {'team': {'name': 'Luton Town', 'slug': 'luton-town', 'shortName': 'Luton', 'gender': 'M', 'sport': {'name': 'Football', 'slug': 'football', 'id': 1}, 'userCount': 65546, 'nameCode': 'LUT', 'disabled': False, 'national': False, 'type': 0, 'id': 72, 'teamColors': {'primary': '#ff3300', 'secondary': '#000033', 'text': '#000033'}}, 'descriptions': [], 'promotion': {'text': 'Relegation', 'id': 3}, 'position': 18, 'matches': 16, 'wins': 2, 'scoresFor': 17, 'scoresAgainst': 32, 'id': 866357, 'losses': 11, 'draws': 3, 'points': 9}, {'team': {'name': 'Burnley', 'slug': 'burnley', 'shortName': 'Burnley', 'gender': 'M', 'sport': {'name': 'Football', 'slug': 'football', 'id': 1}, 'userCount': 99533, 'nameCode': 'BUR', 'disabled': False, 'national': False, 'type': 0, 'id': 6, 'teamColors': {'primary': '#81204c', 'secondary': '#8fd2f4', 'text': '#8fd2f4'}}, 'descriptions': [], 'promotion': {'text': 'Relegation', 'id': 3}, 'position': 19, 'matches': 17, 'wins': 2, 'scoresFor': 16, 'scoresAgainst': 36, 'id': 866351, 'losses': 13, 'draws': 2, 'points': 8}, {'team': {'name': 'Sheffield United', 'slug': 'sheffield-united', 'shortName': 'Sheffield Utd', 'gender': 'M', 'sport': {'name': 'Football', 'slug': 'football', 'id': 1}, 'userCount': 76660, 'nameCode': 'SHU', 'disabled': False, 'national': False, 'type': 0, 'id': 15, 'teamColors': {'primary': '#ffffff', 'secondary': '#ff0000', 'text': '#ff0000'}}, 'descriptions': [], 'promotion': {'text': 'Relegation', 'id': 3}, 'position': 20, 'matches': 17, 'wins': 2, 'scoresFor': 12, 'scoresAgainst': 43, 'id': 866362, 'losses': 13, 'draws': 2, 'points': 8}], 'id': 104941, 'updatedAtTimestamp': 1699108198}]}\n",
      "17\n",
      "200\n",
      "Catégorie du championnat = spain\n",
      "Nom du championnat = laliga\n",
      "Id du championnat = 8\n",
      "{'standings': [{'tournament': {'name': 'LaLiga', 'slug': 'laliga', 'category': {'name': 'Spain', 'slug': 'spain', 'sport': {'name': 'Football', 'slug': 'football', 'id': 1}, 'id': 32, 'flag': 'spain', 'alpha2': 'ES'}, 'uniqueTournament': {'name': 'LaLiga', 'slug': 'laliga', 'primaryColorHex': '#2f4a89', 'secondaryColorHex': '#f4a32e', 'category': {'name': 'Spain', 'slug': 'spain', 'sport': {'name': 'Football', 'slug': 'football', 'id': 1}, 'id': 32, 'flag': 'spain', 'alpha2': 'ES'}, 'userCount': 923566, 'hasPerformanceGraphFeature': True, 'id': 8, 'displayInverseHomeAwayTeams': False}, 'priority': 598, 'id': 36}, 'type': 'total', 'name': 'LaLiga', 'descriptions': [], 'tieBreakingRule': {'text': 'In the event that two (or more) teams have an equal number of points, the following rules break the tie:\\n\\n1. Head-to-head if all tied teams have paired matches\\n2. Goal difference\\n3. Goals scored', 'id': 1239}, 'rows': [{'team': {'name': 'Real Madrid', 'slug': 'real-madrid', 'shortName': 'Real Madrid', 'gender': 'M', 'sport': {'name': 'Football', 'slug': 'football', 'id': 1}, 'userCount': 1773956, 'nameCode': 'RMA', 'disabled': False, 'national': False, 'type': 0, 'id': 2829, 'teamColors': {'primary': '#ffffff', 'secondary': '#004996', 'text': '#004996'}}, 'descriptions': [], 'promotion': {'text': 'Champions League', 'id': 804}, 'position': 1, 'matches': 17, 'wins': 13, 'scoresFor': 38, 'scoresAgainst': 11, 'id': 867889, 'losses': 1, 'draws': 3, 'points': 42}, {'team': {'name': 'Girona FC', 'slug': 'girona-fc', 'shortName': 'Girona', 'gender': 'M', 'sport': {'name': 'Football', 'slug': 'football', 'id': 1}, 'userCount': 141799, 'nameCode': 'GIR', 'disabled': False, 'national': False, 'type': 0, 'id': 24264, 'teamColors': {'primary': '#ffffff', 'secondary': '#ff0000', 'text': '#ff0000'}}, 'descriptions': [], 'promotion': {'text': 'Champions League', 'id': 804}, 'position': 2, 'matches': 16, 'wins': 13, 'scoresFor': 38, 'scoresAgainst': 20, 'id': 867883, 'losses': 1, 'draws': 2, 'points': 41}, {'team': {'name': 'Barcelona', 'slug': 'barcelona', 'shortName': 'Barcelona', 'gender': 'M', 'sport': {'name': 'Football', 'slug': 'football', 'id': 1}, 'userCount': 1639034, 'nameCode': 'FCB', 'disabled': False, 'national': False, 'type': 0, 'id': 2817, 'teamColors': {'primary': '#154284', 'secondary': '#9d1009', 'text': '#9d1009'}}, 'descriptions': [], 'promotion': {'text': 'Champions League', 'id': 804}, 'position': 3, 'matches': 17, 'wins': 10, 'scoresFor': 31, 'scoresAgainst': 19, 'id': 867881, 'losses': 2, 'draws': 5, 'points': 35}, {'team': {'name': 'Atlético Madrid', 'slug': 'atletico-madrid', 'shortName': 'Atl. Madrid', 'gender': 'M', 'sport': {'name': 'Football', 'slug': 'football', 'id': 1}, 'userCount': 592524, 'nameCode': 'ATM', 'disabled': False, 'national': False, 'type': 0, 'id': 2836, 'teamColors': {'primary': '#ffffff', 'secondary': '#c40000', 'text': '#c40000'}}, 'descriptions': [], 'promotion': {'text': 'Champions League', 'id': 804}, 'position': 4, 'matches': 16, 'wins': 11, 'scoresFor': 32, 'scoresAgainst': 16, 'id': 867877, 'losses': 4, 'draws': 1, 'points': 34}, {'team': {'name': 'Athletic Club', 'slug': 'athletic-club', 'shortName': 'Athletic Club', 'gender': 'M', 'sport': {'name': 'Football', 'slug': 'football', 'id': 1}, 'userCount': 132567, 'nameCode': 'ATH', 'disabled': False, 'national': False, 'type': 0, 'id': 2825, 'teamColors': {'primary': '#aa0000', 'secondary': '#ffffff', 'text': '#ffffff'}}, 'descriptions': [], 'promotion': {'text': 'UEFA Europa League', 'id': 808}, 'position': 5, 'matches': 17, 'wins': 9, 'scoresFor': 33, 'scoresAgainst': 19, 'id': 867876, 'losses': 3, 'draws': 5, 'points': 32}, {'team': {'name': 'Real Sociedad', 'slug': 'real-sociedad', 'shortName': 'Real Sociedad', 'gender': 'M', 'sport': {'name': 'Football', 'slug': 'football', 'id': 1}, 'userCount': 204023, 'nameCode': 'RSO', 'disabled': False, 'national': False, 'type': 0, 'id': 2824, 'teamColors': {'primary': '#ffffff', 'secondary': '#0077c7', 'text': '#0077c7'}}, 'descriptions': [], 'promotion': {'text': 'UEFA Conference League Qualification', 'id': 1349}, 'position': 6, 'matches': 17, 'wins': 8, 'scoresFor': 29, 'scoresAgainst': 18, 'id': 867890, 'losses': 3, 'draws': 6, 'points': 30}, {'team': {'name': 'Real Betis', 'slug': 'real-betis', 'shortName': 'Betis', 'gender': 'M', 'sport': {'name': 'Football', 'slug': 'football', 'id': 1}, 'userCount': 157754, 'nameCode': 'RBB', 'disabled': False, 'national': False, 'type': 0, 'id': 2816, 'teamColors': {'primary': '#ffffff', 'secondary': '#006633', 'text': '#006633'}}, 'descriptions': [], 'position': 7, 'matches': 17, 'wins': 6, 'scoresFor': 19, 'scoresAgainst': 17, 'id': 867888, 'losses': 2, 'draws': 9, 'points': 27}, {'team': {'name': 'Getafe', 'slug': 'getafe', 'shortName': 'Getafe', 'gender': 'M', 'sport': {'name': 'Football', 'slug': 'football', 'id': 1}, 'userCount': 79285, 'nameCode': 'GET', 'disabled': False, 'national': False, 'type': 0, 'id': 2859, 'teamColors': {'primary': '#00369e', 'secondary': '#ffffff', 'text': '#ffffff'}}, 'descriptions': [], 'position': 8, 'matches': 17, 'wins': 6, 'scoresFor': 21, 'scoresAgainst': 20, 'id': 867882, 'losses': 4, 'draws': 7, 'points': 25}, {'team': {'name': 'Las Palmas', 'slug': 'las-palmas', 'shortName': 'Las Palmas', 'gender': 'M', 'sport': {'name': 'Football', 'slug': 'football', 'id': 1}, 'userCount': 49069, 'nameCode': 'LPA', 'disabled': False, 'national': False, 'type': 0, 'id': 6577, 'teamColors': {'primary': '#e8f541', 'secondary': '#f3f845', 'text': '#f3f845'}}, 'descriptions': [], 'position': 9, 'matches': 17, 'wins': 7, 'scoresFor': 15, 'scoresAgainst': 14, 'id': 867893, 'losses': 6, 'draws': 4, 'points': 25}, {'team': {'name': 'Valencia', 'slug': 'valencia', 'shortName': 'Valencia', 'gender': 'M', 'sport': {'name': 'Football', 'slug': 'football', 'id': 1}, 'userCount': 140013, 'nameCode': 'VCF', 'disabled': False, 'national': False, 'type': 0, 'id': 2828, 'teamColors': {'primary': '#ffffff', 'secondary': '#000000', 'text': '#000000'}}, 'descriptions': [], 'position': 10, 'matches': 17, 'wins': 5, 'scoresFor': 18, 'scoresAgainst': 22, 'id': 867894, 'losses': 7, 'draws': 5, 'points': 20}, {'team': {'name': 'Rayo Vallecano', 'slug': 'rayo-vallecano', 'shortName': 'Rayo Vallecano', 'gender': 'M', 'sport': {'name': 'Football', 'slug': 'football', 'id': 1}, 'userCount': 78188, 'nameCode': 'RVM', 'disabled': False, 'national': False, 'type': 0, 'id': 2818, 'teamColors': {'primary': '#ffffff', 'secondary': '#ffffff', 'text': '#ffffff'}}, 'descriptions': [], 'position': 11, 'matches': 17, 'wins': 4, 'scoresFor': 16, 'scoresAgainst': 23, 'id': 867885, 'losses': 5, 'draws': 8, 'points': 20}, {'team': {'name': 'Osasuna', 'slug': 'osasuna', 'shortName': 'Osasuna', 'gender': 'M', 'sport': {'name': 'Football', 'slug': 'football', 'id': 1}, 'userCount': 79253, 'nameCode': 'OSA', 'disabled': False, 'national': False, 'type': 0, 'id': 2820, 'teamColors': {'primary': '#cc0000', 'secondary': '#14213d', 'text': '#14213d'}}, 'descriptions': [], 'position': 12, 'matches': 17, 'wins': 5, 'scoresFor': 19, 'scoresAgainst': 26, 'id': 867878, 'losses': 8, 'draws': 4, 'points': 19}, {'team': {'name': 'Deportivo Alavés', 'slug': 'deportivo-alaves', 'shortName': 'Alavés', 'gender': 'M', 'sport': {'name': 'Football', 'slug': 'football', 'id': 1}, 'userCount': 51843, 'nameCode': 'ALA', 'disabled': False, 'national': False, 'type': 0, 'id': 2885, 'teamColors': {'primary': '#0232a0', 'secondary': '#ffffff', 'text': '#ffffff'}}, 'descriptions': [], 'position': 13, 'matches': 16, 'wins': 4, 'scoresFor': 14, 'scoresAgainst': 20, 'id': 867880, 'losses': 8, 'draws': 4, 'points': 16}, {'team': {'name': 'Villarreal', 'slug': 'villarreal', 'shortName': 'Villarreal', 'gender': 'M', 'sport': {'name': 'Football', 'slug': 'football', 'id': 1}, 'userCount': 199294, 'nameCode': 'VIL', 'disabled': False, 'national': False, 'type': 0, 'id': 2819, 'teamColors': {'primary': '#ffff00', 'secondary': '#013765', 'text': '#013765'}}, 'descriptions': [], 'position': 14, 'matches': 17, 'wins': 4, 'scoresFor': 23, 'scoresAgainst': 33, 'id': 867895, 'losses': 9, 'draws': 4, 'points': 16}, {'team': {'name': 'Mallorca', 'slug': 'mallorca', 'shortName': 'Mallorca', 'gender': 'M', 'sport': {'name': 'Football', 'slug': 'football', 'id': 1}, 'userCount': 62384, 'nameCode': 'MLL', 'disabled': False, 'national': False, 'type': 0, 'id': 2826, 'teamColors': {'primary': '#cc0000', 'secondary': '#000000', 'text': '#000000'}}, 'descriptions': [], 'position': 15, 'matches': 17, 'wins': 2, 'scoresFor': 14, 'scoresAgainst': 20, 'id': 867887, 'losses': 6, 'draws': 9, 'points': 15}, {'team': {'name': 'Cádiz', 'slug': 'cadiz', 'shortName': 'Cádiz', 'gender': 'M', 'sport': {'name': 'Football', 'slug': 'football', 'id': 1}, 'userCount': 65030, 'nameCode': 'CAD', 'disabled': False, 'national': False, 'type': 0, 'id': 4488, 'teamColors': {'primary': '#ffff00', 'secondary': '#001d43', 'text': '#001d43'}}, 'descriptions': [], 'position': 16, 'matches': 17, 'wins': 2, 'scoresFor': 14, 'scoresAgainst': 24, 'id': 867879, 'losses': 7, 'draws': 8, 'points': 14}, {'team': {'name': 'Sevilla', 'slug': 'sevilla', 'shortName': 'Sevilla', 'gender': 'M', 'sport': {'name': 'Football', 'slug': 'football', 'id': 1}, 'userCount': 320550, 'nameCode': 'SEV', 'disabled': False, 'national': False, 'type': 0, 'id': 2833, 'teamColors': {'primary': '#ffffff', 'secondary': '#cc1020', 'text': '#cc1020'}}, 'descriptions': [], 'position': 17, 'matches': 16, 'wins': 2, 'scoresFor': 20, 'scoresAgainst': 24, 'id': 867891, 'losses': 7, 'draws': 7, 'points': 13}, {'team': {'name': 'Celta Vigo', 'slug': 'celta-vigo', 'shortName': 'Celta', 'gender': 'M', 'sport': {'name': 'Football', 'slug': 'football', 'id': 1}, 'userCount': 86307, 'nameCode': 'RCC', 'disabled': False, 'national': False, 'type': 0, 'id': 2821, 'teamColors': {'primary': '#6cace4', 'secondary': '#ffffff', 'text': '#ffffff'}}, 'descriptions': [], 'promotion': {'text': 'Relegation', 'id': 3}, 'position': 18, 'matches': 17, 'wins': 2, 'scoresFor': 16, 'scoresAgainst': 25, 'id': 867886, 'losses': 8, 'draws': 7, 'points': 13}, {'team': {'name': 'Granada', 'slug': 'granada', 'shortName': 'Granada', 'gender': 'M', 'sport': {'name': 'Football', 'slug': 'football', 'id': 1}, 'userCount': 60397, 'nameCode': 'GCF', 'disabled': False, 'national': False, 'type': 0, 'id': 33779, 'teamColors': {'primary': '#cc0000', 'secondary': '#ffffff', 'text': '#ffffff'}}, 'descriptions': [], 'promotion': {'text': 'Relegation', 'id': 3}, 'position': 19, 'matches': 17, 'wins': 1, 'scoresFor': 20, 'scoresAgainst': 37, 'id': 867884, 'losses': 11, 'draws': 5, 'points': 8}, {'team': {'name': 'Almería', 'slug': 'almeria', 'shortName': 'Almería', 'gender': 'M', 'sport': {'name': 'Football', 'slug': 'football', 'id': 1}, 'userCount': 57651, 'nameCode': 'ALM', 'disabled': False, 'national': False, 'type': 0, 'id': 2858, 'teamColors': {'primary': '#ff0000', 'secondary': '#ffffff', 'text': '#ffffff'}}, 'descriptions': [], 'promotion': {'text': 'Relegation', 'id': 3}, 'position': 20, 'matches': 17, 'wins': 0, 'scoresFor': 17, 'scoresAgainst': 39, 'id': 867892, 'losses': 12, 'draws': 5, 'points': 5}], 'id': 105188, 'updatedAtTimestamp': 1698703010}]}\n",
      "8\n",
      "200\n",
      "Catégorie du championnat = germany\n",
      "Nom du championnat = bundesliga\n",
      "Id du championnat = 35\n",
      "{'standings': [{'tournament': {'name': 'Bundesliga', 'slug': 'bundesliga', 'category': {'name': 'Germany', 'slug': 'germany', 'sport': {'name': 'Football', 'slug': 'football', 'id': 1}, 'id': 30, 'flag': 'germany', 'alpha2': 'DE'}, 'uniqueTournament': {'name': 'Bundesliga', 'slug': 'bundesliga', 'primaryColorHex': '#e2080e', 'secondaryColorHex': '#8e0902', 'category': {'name': 'Germany', 'slug': 'germany', 'sport': {'name': 'Football', 'slug': 'football', 'id': 1}, 'id': 30, 'flag': 'germany', 'alpha2': 'DE'}, 'userCount': 636889, 'hasPerformanceGraphFeature': True, 'id': 35, 'displayInverseHomeAwayTeams': False}, 'priority': 596, 'id': 42}, 'type': 'total', 'name': 'Bundesliga', 'descriptions': [], 'tieBreakingRule': {'text': 'In the event that two (or more) teams have an equal number of points, the following rules break the tie:\\n1. Goal difference\\n2. Goals scored', 'id': 1238}, 'rows': [{'team': {'name': 'Bayer 04 Leverkusen', 'slug': 'bayer-04-leverkusen', 'shortName': 'Leverkusen', 'gender': 'M', 'sport': {'name': 'Football', 'slug': 'football', 'id': 1}, 'userCount': 247722, 'nameCode': 'B04', 'disabled': False, 'national': False, 'type': 0, 'id': 2681, 'teamColors': {'primary': '#000000', 'secondary': '#ff2222', 'text': '#ff2222'}}, 'descriptions': [], 'promotion': {'text': 'Champions League', 'id': 804}, 'position': 1, 'matches': 15, 'wins': 12, 'scoresFor': 42, 'scoresAgainst': 12, 'id': 872284, 'losses': 0, 'draws': 3, 'points': 39}, {'team': {'name': 'FC Bayern München', 'slug': 'fc-bayern-munchen', 'shortName': 'Bayern', 'gender': 'M', 'sport': {'name': 'Football', 'slug': 'football', 'id': 1}, 'userCount': 917800, 'nameCode': 'BAY', 'disabled': False, 'national': False, 'type': 0, 'id': 2672, 'teamColors': {'primary': '#cf142f', 'secondary': '#ffffff', 'text': '#ffffff'}}, 'descriptions': [], 'promotion': {'text': 'Champions League', 'id': 804}, 'position': 2, 'matches': 14, 'wins': 11, 'scoresFor': 47, 'scoresAgainst': 14, 'id': 872285, 'losses': 1, 'draws': 2, 'points': 35}, {'team': {'name': 'RB Leipzig', 'slug': 'rb-leipzig', 'shortName': 'Leipzig', 'gender': 'M', 'sport': {'name': 'Football', 'slug': 'football', 'id': 1}, 'userCount': 311939, 'nameCode': 'RBL', 'disabled': False, 'national': False, 'type': 0, 'id': 36360, 'teamColors': {'primary': '#ffffff', 'secondary': '#dd0000', 'text': '#dd0000'}}, 'descriptions': [], 'promotion': {'text': 'Champions League', 'id': 804}, 'position': 3, 'matches': 15, 'wins': 10, 'scoresFor': 37, 'scoresAgainst': 16, 'id': 872291, 'losses': 3, 'draws': 2, 'points': 32}, {'team': {'name': 'VfB Stuttgart', 'slug': 'vfb-stuttgart', 'shortName': 'Stuttgart', 'gender': 'M', 'sport': {'name': 'Football', 'slug': 'football', 'id': 1}, 'userCount': 79894, 'nameCode': 'VFB', 'disabled': False, 'national': False, 'type': 0, 'id': 2677, 'teamColors': {'primary': '#ffffff', 'secondary': '#ff0000', 'text': '#ff0000'}}, 'descriptions': [], 'promotion': {'text': 'Champions League', 'id': 804}, 'position': 4, 'matches': 15, 'wins': 10, 'scoresFor': 34, 'scoresAgainst': 19, 'id': 872296, 'losses': 4, 'draws': 1, 'points': 31}, {'team': {'name': 'Borussia Dortmund', 'slug': 'borussia-dortmund', 'shortName': 'Dortmund', 'gender': 'M', 'sport': {'name': 'Football', 'slug': 'football', 'id': 1}, 'userCount': 610756, 'nameCode': 'BVB', 'disabled': False, 'national': False, 'type': 0, 'id': 2673, 'teamColors': {'primary': '#ffe600', 'secondary': '#000000', 'text': '#000000'}}, 'descriptions': [], 'promotion': {'text': 'UEFA Europa League', 'id': 808}, 'position': 5, 'matches': 15, 'wins': 7, 'scoresFor': 29, 'scoresAgainst': 24, 'id': 872286, 'losses': 3, 'draws': 5, 'points': 26}, {'team': {'name': 'SC Freiburg', 'slug': 'sc-freiburg', 'shortName': 'Freiburg', 'gender': 'M', 'sport': {'name': 'Football', 'slug': 'football', 'id': 1}, 'userCount': 83022, 'nameCode': 'SCF', 'disabled': False, 'national': False, 'type': 0, 'id': 2538, 'teamColors': {'primary': '#cc3333', 'secondary': '#000000', 'text': '#000000'}}, 'descriptions': [], 'promotion': {'text': 'UEFA Conference League Qualification', 'id': 1349}, 'position': 6, 'matches': 15, 'wins': 7, 'scoresFor': 19, 'scoresAgainst': 23, 'id': 872292, 'losses': 5, 'draws': 3, 'points': 24}, {'team': {'name': 'TSG Hoffenheim', 'slug': 'tsg-hoffenheim', 'shortName': 'Hoffenheim', 'gender': 'M', 'sport': {'name': 'Football', 'slug': 'football', 'id': 1}, 'userCount': 54973, 'nameCode': 'TSG', 'disabled': False, 'national': False, 'type': 0, 'id': 2569, 'teamColors': {'primary': '#1f5da6', 'secondary': '#ffffff', 'text': '#ffffff'}}, 'descriptions': [], 'position': 7, 'matches': 15, 'wins': 7, 'scoresFor': 29, 'scoresAgainst': 27, 'id': 872294, 'losses': 6, 'draws': 2, 'points': 23}, {'team': {'name': 'Eintracht Frankfurt', 'slug': 'eintracht-frankfurt', 'shortName': 'Frankfurt', 'gender': 'M', 'sport': {'name': 'Football', 'slug': 'football', 'id': 1}, 'userCount': 133606, 'nameCode': 'SGE', 'disabled': False, 'national': False, 'type': 0, 'id': 2674, 'teamColors': {'primary': '#000000', 'secondary': '#ff1111', 'text': '#ff1111'}}, 'descriptions': [], 'position': 8, 'matches': 15, 'wins': 5, 'scoresFor': 24, 'scoresAgainst': 19, 'id': 872288, 'losses': 4, 'draws': 6, 'points': 21}, {'team': {'name': 'VfL Wolfsburg', 'slug': 'vfl-wolfsburg', 'shortName': 'Wolfsburg', 'gender': 'M', 'sport': {'name': 'Football', 'slug': 'football', 'id': 1}, 'userCount': 61553, 'nameCode': 'WOB', 'disabled': False, 'national': False, 'type': 0, 'id': 2524, 'teamColors': {'primary': '#64b42d', 'secondary': '#ffffff', 'text': '#ffffff'}}, 'descriptions': [], 'position': 9, 'matches': 15, 'wins': 6, 'scoresFor': 19, 'scoresAgainst': 25, 'id': 872298, 'losses': 8, 'draws': 1, 'points': 19}, {'team': {'name': 'FC Augsburg', 'slug': 'fc-augsburg', 'shortName': 'Augsburg', 'gender': 'M', 'sport': {'name': 'Football', 'slug': 'football', 'id': 1}, 'userCount': 37316, 'nameCode': 'FCA', 'disabled': False, 'national': False, 'type': 0, 'id': 2600, 'teamColors': {'primary': '#ffffff', 'secondary': '#cd1719', 'text': '#cd1719'}}, 'descriptions': [], 'position': 10, 'matches': 15, 'wins': 4, 'scoresFor': 24, 'scoresAgainst': 28, 'id': 872289, 'losses': 5, 'draws': 6, 'points': 18}, {'team': {'name': \"Borussia M'gladbach\", 'slug': 'borussia-mgladbach', 'shortName': \"M'gladbach\", 'gender': 'M', 'sport': {'name': 'Football', 'slug': 'football', 'id': 1}, 'userCount': 80759, 'nameCode': 'BMG', 'disabled': False, 'national': False, 'type': 0, 'id': 2527, 'teamColors': {'primary': '#ffffff', 'secondary': '#000000', 'text': '#000000'}}, 'descriptions': [], 'position': 11, 'matches': 15, 'wins': 4, 'scoresFor': 30, 'scoresAgainst': 33, 'id': 872287, 'losses': 6, 'draws': 5, 'points': 17}, {'team': {'name': '1. FC Heidenheim', 'slug': '1-fc-heidenheim', 'shortName': 'Heidenheim', 'gender': 'M', 'sport': {'name': 'Football', 'slug': 'football', 'id': 1}, 'userCount': 28539, 'nameCode': 'FCH', 'disabled': False, 'national': False, 'type': 0, 'id': 5885, 'teamColors': {'primary': '#243475', 'secondary': '#400040', 'text': '#400040'}}, 'descriptions': [], 'position': 12, 'matches': 15, 'wins': 5, 'scoresFor': 22, 'scoresAgainst': 30, 'id': 872283, 'losses': 8, 'draws': 2, 'points': 17}, {'team': {'name': 'VfL Bochum 1848', 'slug': 'vfl-bochum-1848', 'shortName': 'Bochum', 'gender': 'M', 'sport': {'name': 'Football', 'slug': 'football', 'id': 1}, 'userCount': 37719, 'nameCode': 'BOC', 'disabled': False, 'national': False, 'type': 0, 'id': 2542, 'teamColors': {'primary': '#6666ff', 'secondary': '#ffffff', 'text': '#ffffff'}}, 'descriptions': [], 'position': 13, 'matches': 15, 'wins': 3, 'scoresFor': 18, 'scoresAgainst': 29, 'id': 872297, 'losses': 5, 'draws': 7, 'points': 16}, {'team': {'name': 'SV Werder Bremen', 'slug': 'sv-werder-bremen', 'shortName': 'Bremen', 'gender': 'M', 'sport': {'name': 'Football', 'slug': 'football', 'id': 1}, 'userCount': 48100, 'nameCode': 'SVW', 'disabled': False, 'national': False, 'type': 0, 'id': 2534, 'teamColors': {'primary': '#009966', 'secondary': '#ffffff', 'text': '#ffffff'}}, 'descriptions': [], 'position': 14, 'matches': 15, 'wins': 4, 'scoresFor': 22, 'scoresAgainst': 29, 'id': 872299, 'losses': 8, 'draws': 3, 'points': 15}, {'team': {'name': '1. FC Union Berlin', 'slug': '1-fc-union-berlin', 'shortName': 'Union Berlin', 'gender': 'M', 'sport': {'name': 'Football', 'slug': 'football', 'id': 1}, 'userCount': 138867, 'nameCode': 'FCU', 'disabled': False, 'national': False, 'type': 0, 'id': 2547, 'teamColors': {'primary': '#ff0000', 'secondary': '#ffffff', 'text': '#ffffff'}}, 'descriptions': [], 'position': 15, 'matches': 14, 'wins': 3, 'scoresFor': 15, 'scoresAgainst': 31, 'id': 872295, 'losses': 10, 'draws': 1, 'points': 10}, {'team': {'name': '1. FC Köln', 'slug': '1-fc-koln', 'shortName': 'Köln', 'gender': 'M', 'sport': {'name': 'Football', 'slug': 'football', 'id': 1}, 'userCount': 54422, 'nameCode': 'KOE', 'disabled': False, 'national': False, 'type': 0, 'id': 2671, 'teamColors': {'primary': '#ffffff', 'secondary': '#e30613', 'text': '#e30613'}}, 'descriptions': [], 'promotion': {'text': 'Relegation Playoffs', 'id': 45}, 'position': 16, 'matches': 15, 'wins': 2, 'scoresFor': 10, 'scoresAgainst': 26, 'id': 872282, 'losses': 9, 'draws': 4, 'points': 10}, {'team': {'name': '1. FSV Mainz 05', 'slug': '1-fsv-mainz-05', 'shortName': 'Mainz 05', 'gender': 'M', 'sport': {'name': 'Football', 'slug': 'football', 'id': 1}, 'userCount': 45888, 'nameCode': 'M05', 'disabled': False, 'national': False, 'type': 0, 'id': 2556, 'teamColors': {'primary': '#ff0000', 'secondary': '#ffffff', 'text': '#ffffff'}}, 'descriptions': [], 'promotion': {'text': 'Relegation', 'id': 3}, 'position': 17, 'matches': 15, 'wins': 1, 'scoresFor': 12, 'scoresAgainst': 27, 'id': 872290, 'losses': 8, 'draws': 6, 'points': 9}, {'team': {'name': 'Darmstadt 98', 'slug': 'darmstadt-98', 'shortName': 'Darmstadt', 'gender': 'M', 'sport': {'name': 'Football', 'slug': 'football', 'id': 1}, 'userCount': 35235, 'nameCode': 'D98', 'disabled': False, 'national': False, 'type': 0, 'id': 2576, 'teamColors': {'primary': '#4577fc', 'secondary': '#0612a8', 'text': '#0612a8'}}, 'descriptions': [], 'promotion': {'text': 'Relegation', 'id': 3}, 'position': 18, 'matches': 15, 'wins': 2, 'scoresFor': 17, 'scoresAgainst': 38, 'id': 872293, 'losses': 10, 'draws': 3, 'points': 9}], 'id': 105649, 'updatedAtTimestamp': 1699046884}]}\n",
      "35\n",
      "200\n",
      "Catégorie du championnat = italy\n",
      "Nom du championnat = serie-a\n",
      "Id du championnat = 23\n",
      "{'standings': [{'tournament': {'name': 'Serie A', 'slug': 'serie-a', 'category': {'name': 'Italy', 'slug': 'italy', 'sport': {'name': 'Football', 'slug': 'football', 'id': 1}, 'id': 31, 'flag': 'italy', 'alpha2': 'IT'}, 'uniqueTournament': {'name': 'Serie A', 'slug': 'serie-a', 'primaryColorHex': '#09519e', 'secondaryColorHex': '#008fd7', 'category': {'name': 'Italy', 'slug': 'italy', 'sport': {'name': 'Football', 'slug': 'football', 'id': 1}, 'id': 31, 'flag': 'italy', 'alpha2': 'IT'}, 'userCount': 758087, 'hasPerformanceGraphFeature': True, 'id': 23, 'displayInverseHomeAwayTeams': False}, 'priority': 597, 'id': 33}, 'type': 'total', 'name': 'Serie A', 'descriptions': [], 'tieBreakingRule': {'text': 'In the event that two (or more) teams have an equal number of points, the following rules break the tie:  1. Head-to-head if all tied teams have internal matches 2. Goal difference 3. Goals scored', 'id': 16}, 'rows': [{'team': {'name': 'Inter', 'slug': 'inter', 'shortName': 'Inter', 'gender': 'M', 'sport': {'name': 'Football', 'slug': 'football', 'id': 1}, 'userCount': 704987, 'nameCode': 'INT', 'disabled': False, 'national': False, 'type': 0, 'id': 2697, 'teamColors': {'primary': '#1a57cc', 'secondary': '#000000', 'text': '#000000'}}, 'descriptions': [], 'promotion': {'text': 'Champions League', 'id': 804}, 'position': 1, 'matches': 16, 'wins': 13, 'scoresFor': 39, 'scoresAgainst': 7, 'id': 875467, 'losses': 1, 'draws': 2, 'points': 41}, {'team': {'name': 'Juventus', 'slug': 'juventus', 'shortName': 'Juventus', 'gender': 'M', 'sport': {'name': 'Football', 'slug': 'football', 'id': 1}, 'userCount': 737025, 'nameCode': 'JUV', 'disabled': False, 'national': False, 'type': 0, 'id': 2687, 'teamColors': {'primary': '#ffffff', 'secondary': '#000000', 'text': '#000000'}}, 'descriptions': [], 'promotion': {'text': 'Champions League', 'id': 804}, 'position': 2, 'matches': 16, 'wins': 11, 'scoresFor': 24, 'scoresAgainst': 10, 'id': 875468, 'losses': 1, 'draws': 4, 'points': 37}, {'team': {'name': 'Milan', 'slug': 'milan', 'shortName': 'Milan', 'gender': 'M', 'sport': {'name': 'Football', 'slug': 'football', 'id': 1}, 'userCount': 752572, 'nameCode': 'ACM', 'disabled': False, 'national': False, 'type': 0, 'id': 2692, 'teamColors': {'primary': '#000000', 'secondary': '#cc0000', 'text': '#cc0000'}}, 'descriptions': [], 'promotion': {'text': 'Champions League', 'id': 804}, 'position': 3, 'matches': 16, 'wins': 10, 'scoresFor': 29, 'scoresAgainst': 18, 'id': 875456, 'losses': 4, 'draws': 2, 'points': 32}, {'team': {'name': 'Bologna', 'slug': 'bologna', 'shortName': 'Bologna', 'gender': 'M', 'sport': {'name': 'Football', 'slug': 'football', 'id': 1}, 'userCount': 68982, 'nameCode': 'BFC', 'disabled': False, 'national': False, 'type': 0, 'id': 2685, 'teamColors': {'primary': '#003366', 'secondary': '#cc0000', 'text': '#cc0000'}}, 'descriptions': [], 'promotion': {'text': 'Champions League', 'id': 804}, 'position': 4, 'matches': 16, 'wins': 7, 'scoresFor': 20, 'scoresAgainst': 12, 'id': 875461, 'losses': 2, 'draws': 7, 'points': 28}, {'team': {'name': 'Fiorentina', 'slug': 'fiorentina', 'shortName': 'Fiorentina', 'gender': 'M', 'sport': {'name': 'Football', 'slug': 'football', 'id': 1}, 'userCount': 149635, 'nameCode': 'ACF', 'disabled': False, 'national': False, 'type': 0, 'id': 2693, 'teamColors': {'primary': '#542baa', 'secondary': '#ffffff', 'text': '#ffffff'}}, 'descriptions': [], 'promotion': {'text': 'UEFA Europa League', 'id': 808}, 'position': 5, 'matches': 16, 'wins': 8, 'scoresFor': 25, 'scoresAgainst': 18, 'id': 875458, 'losses': 5, 'draws': 3, 'points': 27}, {'team': {'name': 'Napoli', 'slug': 'napoli', 'shortName': 'Napoli', 'gender': 'M', 'sport': {'name': 'Football', 'slug': 'football', 'id': 1}, 'userCount': 582652, 'nameCode': 'NAP', 'disabled': False, 'national': False, 'type': 0, 'id': 2714, 'teamColors': {'primary': '#008cea', 'secondary': '#ffffff', 'text': '#ffffff'}}, 'descriptions': [], 'promotion': {'text': 'UEFA Conference League Qualification', 'id': 1349}, 'position': 6, 'matches': 16, 'wins': 8, 'scoresFor': 28, 'scoresAgainst': 19, 'id': 875471, 'losses': 5, 'draws': 3, 'points': 27}, {'team': {'name': 'Roma', 'slug': 'roma', 'shortName': 'Roma', 'gender': 'M', 'sport': {'name': 'Football', 'slug': 'football', 'id': 1}, 'userCount': 443023, 'nameCode': 'ASR', 'disabled': False, 'national': False, 'type': 0, 'id': 2702, 'teamColors': {'primary': '#990000', 'secondary': '#eaca15', 'text': '#eaca15'}}, 'descriptions': [], 'position': 7, 'matches': 16, 'wins': 7, 'scoresFor': 28, 'scoresAgainst': 19, 'id': 875459, 'losses': 5, 'draws': 4, 'points': 25}, {'team': {'name': 'Atalanta', 'slug': 'atalanta', 'shortName': 'Atalanta', 'gender': 'M', 'sport': {'name': 'Football', 'slug': 'football', 'id': 1}, 'userCount': 220286, 'nameCode': 'ATA', 'disabled': False, 'national': False, 'type': 0, 'id': 2686, 'teamColors': {'primary': '#0000cc', 'secondary': '#000000', 'text': '#000000'}}, 'descriptions': [], 'position': 8, 'matches': 15, 'wins': 7, 'scoresFor': 24, 'scoresAgainst': 18, 'id': 875460, 'losses': 6, 'draws': 2, 'points': 23}, {'team': {'name': 'Torino', 'slug': 'torino', 'shortName': 'Torino', 'gender': 'M', 'sport': {'name': 'Football', 'slug': 'football', 'id': 1}, 'userCount': 77898, 'nameCode': 'TOR', 'disabled': False, 'national': False, 'type': 0, 'id': 2696, 'teamColors': {'primary': '#6d1b1d', 'secondary': '#ffffff', 'text': '#ffffff'}}, 'descriptions': [], 'position': 9, 'matches': 16, 'wins': 6, 'scoresFor': 14, 'scoresAgainst': 16, 'id': 875472, 'losses': 5, 'draws': 5, 'points': 23}, {'team': {'name': 'Monza', 'slug': 'monza', 'shortName': 'Monza', 'gender': 'M', 'sport': {'name': 'Football', 'slug': 'football', 'id': 1}, 'userCount': 55300, 'nameCode': 'MON', 'disabled': False, 'national': False, 'type': 0, 'id': 2729, 'teamColors': {'primary': '#d71742', 'secondary': '#ffffff', 'text': '#ffffff'}}, 'descriptions': [], 'position': 10, 'matches': 16, 'wins': 5, 'scoresFor': 16, 'scoresAgainst': 17, 'id': 875457, 'losses': 5, 'draws': 6, 'points': 21}, {'team': {'name': 'Lazio', 'slug': 'lazio', 'shortName': 'Lazio', 'gender': 'M', 'sport': {'name': 'Football', 'slug': 'football', 'id': 1}, 'userCount': 251044, 'nameCode': 'LAZ', 'disabled': False, 'national': False, 'type': 0, 'id': 2699, 'teamColors': {'primary': '#64b6e1', 'secondary': '#ffffff', 'text': '#ffffff'}}, 'descriptions': [], 'position': 11, 'matches': 16, 'wins': 6, 'scoresFor': 16, 'scoresAgainst': 18, 'id': 875469, 'losses': 7, 'draws': 3, 'points': 21}, {'team': {'name': 'Lecce', 'slug': 'lecce', 'shortName': 'Lecce', 'gender': 'M', 'sport': {'name': 'Football', 'slug': 'football', 'id': 1}, 'userCount': 62446, 'nameCode': 'LEC', 'disabled': False, 'national': False, 'type': 0, 'id': 2689, 'teamColors': {'primary': '#f6ea00', 'secondary': '#db2d1f', 'text': '#db2d1f'}}, 'descriptions': [], 'position': 12, 'matches': 16, 'wins': 4, 'scoresFor': 19, 'scoresAgainst': 21, 'id': 875474, 'losses': 4, 'draws': 8, 'points': 20}, {'team': {'name': 'Frosinone', 'slug': 'frosinone', 'shortName': 'Frosinone', 'gender': 'M', 'sport': {'name': 'Football', 'slug': 'football', 'id': 1}, 'userCount': 39882, 'nameCode': 'FRO', 'disabled': False, 'national': False, 'type': 0, 'id': 2801, 'teamColors': {'primary': '#ffff00', 'secondary': '#0033cc', 'text': '#0033cc'}}, 'descriptions': [], 'position': 13, 'matches': 16, 'wins': 5, 'scoresFor': 21, 'scoresAgainst': 26, 'id': 875464, 'losses': 7, 'draws': 4, 'points': 19}, {'team': {'name': 'Genoa', 'slug': 'genoa', 'shortName': 'Genoa', 'gender': 'M', 'sport': {'name': 'Football', 'slug': 'football', 'id': 1}, 'userCount': 54985, 'nameCode': 'GEN', 'disabled': False, 'national': False, 'type': 0, 'id': 2713, 'teamColors': {'primary': '#000033', 'secondary': '#660000', 'text': '#660000'}}, 'descriptions': [], 'position': 14, 'matches': 16, 'wins': 4, 'scoresFor': 16, 'scoresAgainst': 21, 'id': 875465, 'losses': 8, 'draws': 4, 'points': 16}, {'team': {'name': 'Sassuolo', 'slug': 'sassuolo', 'shortName': 'Sassuolo', 'gender': 'M', 'sport': {'name': 'Football', 'slug': 'football', 'id': 1}, 'userCount': 73708, 'nameCode': 'SAS', 'disabled': False, 'national': False, 'type': 0, 'id': 2793, 'teamColors': {'primary': '#006600', 'secondary': '#000000', 'text': '#000000'}}, 'descriptions': [], 'position': 15, 'matches': 16, 'wins': 4, 'scoresFor': 24, 'scoresAgainst': 30, 'id': 875470, 'losses': 8, 'draws': 4, 'points': 16}, {'team': {'name': 'Cagliari', 'slug': 'cagliari', 'shortName': 'Cagliari', 'gender': 'M', 'sport': {'name': 'Football', 'slug': 'football', 'id': 1}, 'userCount': 51185, 'nameCode': 'CAG', 'disabled': False, 'national': False, 'type': 0, 'id': 2719, 'teamColors': {'primary': '#990000', 'secondary': '#242766', 'text': '#242766'}}, 'descriptions': [], 'position': 16, 'matches': 16, 'wins': 3, 'scoresFor': 16, 'scoresAgainst': 29, 'id': 875462, 'losses': 9, 'draws': 4, 'points': 13}, {'team': {'name': 'Udinese', 'slug': 'udinese', 'shortName': 'Udinese', 'gender': 'M', 'sport': {'name': 'Football', 'slug': 'football', 'id': 1}, 'userCount': 64280, 'nameCode': 'UDI', 'disabled': False, 'national': False, 'type': 0, 'id': 2695, 'teamColors': {'primary': '#ffffff', 'secondary': '#000000', 'text': '#000000'}}, 'descriptions': [], 'position': 17, 'matches': 16, 'wins': 1, 'scoresFor': 14, 'scoresAgainst': 27, 'id': 875473, 'losses': 5, 'draws': 10, 'points': 13}, {'team': {'name': 'Empoli', 'slug': 'empoli', 'shortName': 'Empoli', 'gender': 'M', 'sport': {'name': 'Football', 'slug': 'football', 'id': 1}, 'userCount': 62613, 'nameCode': 'EMP', 'disabled': False, 'national': False, 'type': 0, 'id': 2705, 'teamColors': {'primary': '#0d5696', 'secondary': '#ffffff', 'text': '#ffffff'}}, 'descriptions': [], 'promotion': {'text': 'Relegation', 'id': 3}, 'position': 18, 'matches': 16, 'wins': 3, 'scoresFor': 10, 'scoresAgainst': 28, 'id': 875463, 'losses': 10, 'draws': 3, 'points': 12}, {'team': {'name': 'Hellas Verona', 'slug': 'hellas-verona', 'shortName': 'Verona', 'gender': 'M', 'sport': {'name': 'Football', 'slug': 'football', 'id': 1}, 'userCount': 58023, 'nameCode': 'VER', 'disabled': False, 'national': False, 'type': 0, 'id': 2701, 'teamColors': {'primary': '#071d7e', 'secondary': '#ffcc00', 'text': '#ffcc00'}}, 'descriptions': [], 'promotion': {'text': 'Relegation', 'id': 3}, 'position': 19, 'matches': 16, 'wins': 2, 'scoresFor': 13, 'scoresAgainst': 23, 'id': 875466, 'losses': 9, 'draws': 5, 'points': 11}, {'team': {'name': 'Salernitana', 'slug': 'salernitana', 'shortName': 'Salernitana', 'gender': 'M', 'sport': {'name': 'Football', 'slug': 'football', 'id': 1}, 'userCount': 52367, 'nameCode': 'SAL', 'disabled': False, 'national': False, 'type': 0, 'id': 2710, 'teamColors': {'primary': '#660000', 'secondary': '#ffffff', 'text': '#ffffff'}}, 'descriptions': [], 'promotion': {'text': 'Relegation', 'id': 3}, 'position': 20, 'matches': 15, 'wins': 1, 'scoresFor': 11, 'scoresAgainst': 30, 'id': 875475, 'losses': 9, 'draws': 5, 'points': 8}], 'id': 105930, 'updatedAtTimestamp': 1698693718}]}\n",
      "23\n",
      "200\n",
      "Catégorie du championnat = france\n",
      "Nom du championnat = ligue-1\n",
      "Id du championnat = 34\n",
      "{'standings': [{'tournament': {'name': 'Ligue 1', 'slug': 'ligue-1', 'category': {'name': 'France', 'slug': 'france', 'sport': {'name': 'Football', 'slug': 'football', 'id': 1}, 'id': 7, 'flag': 'france', 'alpha2': 'FR'}, 'uniqueTournament': {'name': 'Ligue 1', 'slug': 'ligue-1', 'primaryColorHex': '#091c3e', 'secondaryColorHex': '#a9c011', 'category': {'name': 'France', 'slug': 'france', 'sport': {'name': 'Football', 'slug': 'football', 'id': 1}, 'id': 7, 'flag': 'france', 'alpha2': 'FR'}, 'userCount': 536472, 'hasPerformanceGraphFeature': True, 'id': 34, 'displayInverseHomeAwayTeams': False}, 'priority': 595, 'id': 4}, 'type': 'total', 'name': 'Ligue 1', 'descriptions': [], 'tieBreakingRule': {'text': 'In the event that two (or more) teams finish with an equal number of points, the following rules break the tie: 1. Goal difference 2. Goals scored 3. Head-to-head', 'id': 38}, 'rows': [{'team': {'name': 'Paris Saint-Germain', 'slug': 'paris-saint-germain', 'shortName': 'PSG', 'gender': 'M', 'sport': {'name': 'Football', 'slug': 'football', 'id': 1}, 'userCount': 1064362, 'nameCode': 'PSG', 'disabled': False, 'national': False, 'type': 0, 'id': 1644, 'teamColors': {'primary': '#000066', 'secondary': '#ff1541', 'text': '#ff1541'}}, 'descriptions': [], 'promotion': {'text': 'Champions League', 'id': 804}, 'position': 1, 'matches': 16, 'wins': 11, 'scoresFor': 39, 'scoresAgainst': 13, 'id': 872179, 'losses': 1, 'draws': 4, 'points': 37}, {'team': {'name': 'Nice', 'slug': 'nice', 'shortName': 'Nice', 'gender': 'M', 'sport': {'name': 'Football', 'slug': 'football', 'id': 1}, 'userCount': 86285, 'nameCode': 'OGCN', 'disabled': False, 'national': False, 'type': 0, 'id': 1661, 'teamColors': {'primary': '#000000', 'secondary': '#cc0000', 'text': '#cc0000'}}, 'descriptions': [], 'promotion': {'text': 'Champions League', 'id': 804}, 'position': 2, 'matches': 16, 'wins': 9, 'scoresFor': 17, 'scoresAgainst': 9, 'id': 872176, 'losses': 2, 'draws': 5, 'points': 32}, {'team': {'name': 'AS Monaco', 'slug': 'as-monaco', 'shortName': 'AS Monaco', 'gender': 'M', 'sport': {'name': 'Football', 'slug': 'football', 'id': 1}, 'userCount': 186371, 'nameCode': 'ASM', 'disabled': False, 'national': False, 'type': 0, 'id': 1653, 'teamColors': {'primary': '#ffffff', 'secondary': '#ff0000', 'text': '#ff0000'}}, 'descriptions': [], 'promotion': {'text': 'Champions League', 'id': 804}, 'position': 3, 'matches': 16, 'wins': 9, 'scoresFor': 31, 'scoresAgainst': 21, 'id': 872168, 'losses': 4, 'draws': 3, 'points': 30}, {'team': {'name': 'Lille', 'slug': 'lille', 'shortName': 'Lille', 'gender': 'M', 'sport': {'name': 'Football', 'slug': 'football', 'id': 1}, 'userCount': 116050, 'nameCode': 'LOSC', 'disabled': False, 'national': False, 'type': 0, 'id': 1643, 'teamColors': {'primary': '#df0000', 'secondary': '#24216a', 'text': '#24216a'}}, 'descriptions': [], 'promotion': {'text': 'Champions League Qualification', 'id': 24}, 'position': 4, 'matches': 16, 'wins': 7, 'scoresFor': 20, 'scoresAgainst': 12, 'id': 872174, 'losses': 2, 'draws': 7, 'points': 28}, {'team': {'name': 'Stade Brestois', 'slug': 'stade-brestois', 'shortName': 'Brest', 'gender': 'M', 'sport': {'name': 'Football', 'slug': 'football', 'id': 1}, 'userCount': 35101, 'nameCode': 'SB29', 'disabled': False, 'national': False, 'type': 0, 'id': 1715, 'teamColors': {'primary': '#ffffff', 'secondary': '#d20000', 'text': '#d20000'}}, 'descriptions': [], 'promotion': {'text': 'UEFA Europa League', 'id': 808}, 'position': 5, 'matches': 16, 'wins': 8, 'scoresFor': 21, 'scoresAgainst': 15, 'id': 872181, 'losses': 4, 'draws': 4, 'points': 28}, {'team': {'name': 'Olympique de Marseille', 'slug': 'olympique-de-marseille', 'shortName': 'Marseille', 'gender': 'M', 'sport': {'name': 'Football', 'slug': 'football', 'id': 1}, 'userCount': 262414, 'nameCode': 'OM', 'disabled': False, 'national': False, 'type': 0, 'id': 1641, 'teamColors': {'primary': '#ffffff', 'secondary': '#66b3ff', 'text': '#66b3ff'}}, 'descriptions': [], 'promotion': {'text': 'UEFA Conference League Qualification', 'id': 1349}, 'position': 6, 'matches': 16, 'wins': 7, 'scoresFor': 24, 'scoresAgainst': 17, 'id': 872178, 'losses': 4, 'draws': 5, 'points': 26}, {'team': {'name': 'Lens', 'slug': 'lens', 'shortName': 'Lens', 'gender': 'M', 'sport': {'name': 'Football', 'slug': 'football', 'id': 1}, 'userCount': 121677, 'nameCode': 'RCL', 'disabled': False, 'national': False, 'type': 0, 'id': 1648, 'teamColors': {'primary': '#a71a1b', 'secondary': '#ffce00', 'text': '#ffce00'}}, 'descriptions': [], 'position': 7, 'matches': 16, 'wins': 7, 'scoresFor': 21, 'scoresAgainst': 15, 'id': 872180, 'losses': 4, 'draws': 5, 'points': 26}, {'team': {'name': 'Stade de Reims', 'slug': 'stade-de-reims', 'shortName': 'Reims', 'gender': 'M', 'sport': {'name': 'Football', 'slug': 'football', 'id': 1}, 'userCount': 42518, 'nameCode': 'SDR', 'disabled': False, 'national': False, 'type': 0, 'id': 1682, 'teamColors': {'primary': '#ffffff', 'secondary': '#ff0000', 'text': '#ff0000'}}, 'descriptions': [], 'position': 8, 'matches': 16, 'wins': 7, 'scoresFor': 21, 'scoresAgainst': 23, 'id': 872182, 'losses': 7, 'draws': 2, 'points': 23}, {'team': {'name': 'RC Strasbourg', 'slug': 'rc-strasbourg', 'shortName': 'Strasbourg', 'gender': 'M', 'sport': {'name': 'Football', 'slug': 'football', 'id': 1}, 'userCount': 43748, 'nameCode': 'RCS', 'disabled': False, 'national': False, 'type': 0, 'id': 1659, 'teamColors': {'primary': '#00458e', 'secondary': '#ffffff', 'text': '#ffffff'}}, 'descriptions': [], 'position': 9, 'matches': 16, 'wins': 5, 'scoresFor': 16, 'scoresAgainst': 21, 'id': 872184, 'losses': 6, 'draws': 5, 'points': 20}, {'team': {'name': 'Le Havre', 'slug': 'le-havre', 'shortName': 'Le Havre', 'gender': 'M', 'sport': {'name': 'Football', 'slug': 'football', 'id': 1}, 'userCount': 28405, 'nameCode': 'HAC', 'disabled': False, 'national': False, 'type': 0, 'id': 1662, 'teamColors': {'primary': '#3399ff', 'secondary': '#3399ff', 'text': '#3399ff'}}, 'descriptions': [], 'position': 10, 'matches': 16, 'wins': 4, 'scoresFor': 16, 'scoresAgainst': 18, 'id': 872173, 'losses': 5, 'draws': 7, 'points': 19}, {'team': {'name': 'Nantes', 'slug': 'nantes', 'shortName': 'Nantes', 'gender': 'M', 'sport': {'name': 'Football', 'slug': 'football', 'id': 1}, 'userCount': 54304, 'nameCode': 'FCN', 'disabled': False, 'national': False, 'type': 0, 'id': 1647, 'teamColors': {'primary': '#ffdc12', 'secondary': '#00a94e', 'text': '#00a94e'}}, 'descriptions': [], 'position': 11, 'matches': 16, 'wins': 5, 'scoresFor': 19, 'scoresAgainst': 27, 'id': 872172, 'losses': 8, 'draws': 3, 'points': 18}, {'team': {'name': 'Montpellier', 'slug': 'montpellier', 'shortName': 'Montpellier', 'gender': 'M', 'sport': {'name': 'Football', 'slug': 'football', 'id': 1}, 'userCount': 43731, 'nameCode': 'MHS', 'disabled': False, 'national': False, 'type': 0, 'id': 1642, 'teamColors': {'primary': '#003e7e', 'secondary': '#ea7118', 'text': '#ea7118'}}, 'descriptions': [{'text': '1 point deducted by Football Association', 'id': 638}], 'position': 12, 'matches': 16, 'wins': 4, 'scoresFor': 18, 'scoresAgainst': 20, 'id': 872175, 'losses': 6, 'draws': 6, 'points': 17}, {'team': {'name': 'Stade Rennais', 'slug': 'stade-rennais', 'shortName': 'Rennes', 'gender': 'M', 'sport': {'name': 'Football', 'slug': 'football', 'id': 1}, 'userCount': 84383, 'nameCode': 'SRFC', 'disabled': False, 'national': False, 'type': 0, 'id': 1658, 'teamColors': {'primary': '#ff0000', 'secondary': '#000000', 'text': '#000000'}}, 'descriptions': [], 'position': 13, 'matches': 16, 'wins': 3, 'scoresFor': 20, 'scoresAgainst': 21, 'id': 872183, 'losses': 6, 'draws': 7, 'points': 16}, {'team': {'name': 'Metz', 'slug': 'metz', 'shortName': 'Metz', 'gender': 'M', 'sport': {'name': 'Football', 'slug': 'football', 'id': 1}, 'userCount': 29424, 'nameCode': 'FCM', 'disabled': False, 'national': False, 'type': 0, 'id': 1651, 'teamColors': {'primary': '#a2052c', 'secondary': '#ffffff', 'text': '#ffffff'}}, 'descriptions': [], 'position': 14, 'matches': 16, 'wins': 4, 'scoresFor': 15, 'scoresAgainst': 24, 'id': 872171, 'losses': 8, 'draws': 4, 'points': 16}, {'team': {'name': 'Toulouse', 'slug': 'toulouse', 'shortName': 'Toulouse', 'gender': 'M', 'sport': {'name': 'Football', 'slug': 'football', 'id': 1}, 'userCount': 55641, 'nameCode': 'TFC', 'disabled': False, 'national': False, 'type': 0, 'id': 1681, 'teamColors': {'primary': '#660099', 'secondary': '#ffffff', 'text': '#ffffff'}}, 'descriptions': [], 'position': 15, 'matches': 16, 'wins': 2, 'scoresFor': 14, 'scoresAgainst': 21, 'id': 872185, 'losses': 6, 'draws': 8, 'points': 14}, {'team': {'name': 'Olympique Lyonnais', 'slug': 'olympique-lyonnais', 'shortName': 'Lyon', 'gender': 'M', 'sport': {'name': 'Football', 'slug': 'football', 'id': 1}, 'userCount': 172137, 'nameCode': 'OL', 'disabled': False, 'national': False, 'type': 0, 'id': 1649, 'teamColors': {'primary': '#ffffff', 'secondary': '#004080', 'text': '#004080'}}, 'descriptions': [], 'promotion': {'text': 'Relegation Playoffs', 'id': 45}, 'position': 16, 'matches': 16, 'wins': 3, 'scoresFor': 15, 'scoresAgainst': 27, 'id': 872177, 'losses': 9, 'draws': 4, 'points': 13}, {'team': {'name': 'Lorient', 'slug': 'lorient', 'shortName': 'Lorient', 'gender': 'M', 'sport': {'name': 'Football', 'slug': 'football', 'id': 1}, 'userCount': 38777, 'nameCode': 'FCL', 'disabled': False, 'national': False, 'type': 0, 'id': 1656, 'teamColors': {'primary': '#ff6600', 'secondary': '#000000', 'text': '#000000'}}, 'descriptions': [], 'promotion': {'text': 'Relegation', 'id': 3}, 'position': 17, 'matches': 16, 'wins': 2, 'scoresFor': 21, 'scoresAgainst': 31, 'id': 872170, 'losses': 8, 'draws': 6, 'points': 12}, {'team': {'name': 'Clermont Foot', 'slug': 'clermont-foot', 'shortName': 'Clermont', 'gender': 'M', 'sport': {'name': 'Football', 'slug': 'football', 'id': 1}, 'userCount': 31093, 'nameCode': 'CF63', 'disabled': False, 'national': False, 'type': 0, 'id': 1680, 'teamColors': {'primary': '#cc0000', 'secondary': '#000000', 'text': '#000000'}}, 'descriptions': [], 'promotion': {'text': 'Relegation', 'id': 3}, 'position': 18, 'matches': 16, 'wins': 2, 'scoresFor': 10, 'scoresAgainst': 23, 'id': 872169, 'losses': 9, 'draws': 5, 'points': 11}], 'id': 105643, 'updatedAtTimestamp': 1699048540}]}\n",
      "34\n",
      "200\n"
     ]
    }
   ],
   "source": [
    "allData = []\n",
    "for i in range(len(Championnats['uniqueTournaments'])):\n",
    "    print(\"Catégorie du championnat =\", Championnats['uniqueTournaments'][i]['category']['slug'])\n",
    "    print(\"Nom du championnat =\", Championnats['uniqueTournaments'][i]['slug'])\n",
    "    print(\"Id du championnat =\", Championnats['uniqueTournaments'][i]['id'])\n",
    "    response = requests.get('https://api.sofascore.com/api/v1/unique-tournament/' + str(\n",
    "        Championnats['uniqueTournaments'][i]['id']) + '/season/' + str(\n",
    "        Championnats['uniqueTournaments'][i]['category']['sport']['UUid']) + '/standings/total', headers=headers)\n",
    "    print(response.json())\n",
    "    allData.append(response.json())\n",
    "\n",
    "    print((Championnats['uniqueTournaments'][i]['id']))\n",
    "    print(response.status_code)\n",
    "    \n",
    "with open(\"teams.json\", \"w\") as outfile:\n",
    "    outfile.write(json.dumps(allData))"
   ],
   "metadata": {
    "collapsed": false,
    "ExecuteTime": {
     "end_time": "2023-12-18T11:00:41.725636800Z",
     "start_time": "2023-12-18T11:00:39.602447Z"
    }
   },
   "id": "9ed5b79e41ce040f"
  },
  {
   "cell_type": "code",
   "execution_count": 337,
   "outputs": [
    {
     "data": {
      "text/plain": "{'standings': [{'tournament': {'name': 'Ligue 1',\n    'slug': 'ligue-1',\n    'category': {'name': 'France',\n     'slug': 'france',\n     'sport': {'name': 'Football', 'slug': 'football', 'id': 1},\n     'id': 7,\n     'flag': 'france',\n     'alpha2': 'FR'},\n    'uniqueTournament': {'name': 'Ligue 1',\n     'slug': 'ligue-1',\n     'primaryColorHex': '#091c3e',\n     'secondaryColorHex': '#a9c011',\n     'category': {'name': 'France',\n      'slug': 'france',\n      'sport': {'name': 'Football', 'slug': 'football', 'id': 1},\n      'id': 7,\n      'flag': 'france',\n      'alpha2': 'FR'},\n     'userCount': 536472,\n     'hasPerformanceGraphFeature': True,\n     'id': 34,\n     'displayInverseHomeAwayTeams': False},\n    'priority': 595,\n    'id': 4},\n   'type': 'total',\n   'name': 'Ligue 1',\n   'descriptions': [],\n   'tieBreakingRule': {'text': 'In the event that two (or more) teams finish with an equal number of points, the following rules break the tie: 1. Goal difference 2. Goals scored 3. Head-to-head',\n    'id': 38},\n   'rows': [{'team': {'name': 'Paris Saint-Germain',\n      'slug': 'paris-saint-germain',\n      'shortName': 'PSG',\n      'gender': 'M',\n      'sport': {'name': 'Football', 'slug': 'football', 'id': 1},\n      'userCount': 1064362,\n      'nameCode': 'PSG',\n      'disabled': False,\n      'national': False,\n      'type': 0,\n      'id': 1644,\n      'teamColors': {'primary': '#000066',\n       'secondary': '#ff1541',\n       'text': '#ff1541'}},\n     'descriptions': [],\n     'promotion': {'text': 'Champions League', 'id': 804},\n     'position': 1,\n     'matches': 16,\n     'wins': 11,\n     'scoresFor': 39,\n     'scoresAgainst': 13,\n     'id': 872179,\n     'losses': 1,\n     'draws': 4,\n     'points': 37},\n    {'team': {'name': 'Nice',\n      'slug': 'nice',\n      'shortName': 'Nice',\n      'gender': 'M',\n      'sport': {'name': 'Football', 'slug': 'football', 'id': 1},\n      'userCount': 86285,\n      'nameCode': 'OGCN',\n      'disabled': False,\n      'national': False,\n      'type': 0,\n      'id': 1661,\n      'teamColors': {'primary': '#000000',\n       'secondary': '#cc0000',\n       'text': '#cc0000'}},\n     'descriptions': [],\n     'promotion': {'text': 'Champions League', 'id': 804},\n     'position': 2,\n     'matches': 16,\n     'wins': 9,\n     'scoresFor': 17,\n     'scoresAgainst': 9,\n     'id': 872176,\n     'losses': 2,\n     'draws': 5,\n     'points': 32},\n    {'team': {'name': 'AS Monaco',\n      'slug': 'as-monaco',\n      'shortName': 'AS Monaco',\n      'gender': 'M',\n      'sport': {'name': 'Football', 'slug': 'football', 'id': 1},\n      'userCount': 186371,\n      'nameCode': 'ASM',\n      'disabled': False,\n      'national': False,\n      'type': 0,\n      'id': 1653,\n      'teamColors': {'primary': '#ffffff',\n       'secondary': '#ff0000',\n       'text': '#ff0000'}},\n     'descriptions': [],\n     'promotion': {'text': 'Champions League', 'id': 804},\n     'position': 3,\n     'matches': 16,\n     'wins': 9,\n     'scoresFor': 31,\n     'scoresAgainst': 21,\n     'id': 872168,\n     'losses': 4,\n     'draws': 3,\n     'points': 30},\n    {'team': {'name': 'Lille',\n      'slug': 'lille',\n      'shortName': 'Lille',\n      'gender': 'M',\n      'sport': {'name': 'Football', 'slug': 'football', 'id': 1},\n      'userCount': 116050,\n      'nameCode': 'LOSC',\n      'disabled': False,\n      'national': False,\n      'type': 0,\n      'id': 1643,\n      'teamColors': {'primary': '#df0000',\n       'secondary': '#24216a',\n       'text': '#24216a'}},\n     'descriptions': [],\n     'promotion': {'text': 'Champions League Qualification', 'id': 24},\n     'position': 4,\n     'matches': 16,\n     'wins': 7,\n     'scoresFor': 20,\n     'scoresAgainst': 12,\n     'id': 872174,\n     'losses': 2,\n     'draws': 7,\n     'points': 28},\n    {'team': {'name': 'Stade Brestois',\n      'slug': 'stade-brestois',\n      'shortName': 'Brest',\n      'gender': 'M',\n      'sport': {'name': 'Football', 'slug': 'football', 'id': 1},\n      'userCount': 35101,\n      'nameCode': 'SB29',\n      'disabled': False,\n      'national': False,\n      'type': 0,\n      'id': 1715,\n      'teamColors': {'primary': '#ffffff',\n       'secondary': '#d20000',\n       'text': '#d20000'}},\n     'descriptions': [],\n     'promotion': {'text': 'UEFA Europa League', 'id': 808},\n     'position': 5,\n     'matches': 16,\n     'wins': 8,\n     'scoresFor': 21,\n     'scoresAgainst': 15,\n     'id': 872181,\n     'losses': 4,\n     'draws': 4,\n     'points': 28},\n    {'team': {'name': 'Olympique de Marseille',\n      'slug': 'olympique-de-marseille',\n      'shortName': 'Marseille',\n      'gender': 'M',\n      'sport': {'name': 'Football', 'slug': 'football', 'id': 1},\n      'userCount': 262414,\n      'nameCode': 'OM',\n      'disabled': False,\n      'national': False,\n      'type': 0,\n      'id': 1641,\n      'teamColors': {'primary': '#ffffff',\n       'secondary': '#66b3ff',\n       'text': '#66b3ff'}},\n     'descriptions': [],\n     'promotion': {'text': 'UEFA Conference League Qualification', 'id': 1349},\n     'position': 6,\n     'matches': 16,\n     'wins': 7,\n     'scoresFor': 24,\n     'scoresAgainst': 17,\n     'id': 872178,\n     'losses': 4,\n     'draws': 5,\n     'points': 26},\n    {'team': {'name': 'Lens',\n      'slug': 'lens',\n      'shortName': 'Lens',\n      'gender': 'M',\n      'sport': {'name': 'Football', 'slug': 'football', 'id': 1},\n      'userCount': 121677,\n      'nameCode': 'RCL',\n      'disabled': False,\n      'national': False,\n      'type': 0,\n      'id': 1648,\n      'teamColors': {'primary': '#a71a1b',\n       'secondary': '#ffce00',\n       'text': '#ffce00'}},\n     'descriptions': [],\n     'position': 7,\n     'matches': 16,\n     'wins': 7,\n     'scoresFor': 21,\n     'scoresAgainst': 15,\n     'id': 872180,\n     'losses': 4,\n     'draws': 5,\n     'points': 26},\n    {'team': {'name': 'Stade de Reims',\n      'slug': 'stade-de-reims',\n      'shortName': 'Reims',\n      'gender': 'M',\n      'sport': {'name': 'Football', 'slug': 'football', 'id': 1},\n      'userCount': 42518,\n      'nameCode': 'SDR',\n      'disabled': False,\n      'national': False,\n      'type': 0,\n      'id': 1682,\n      'teamColors': {'primary': '#ffffff',\n       'secondary': '#ff0000',\n       'text': '#ff0000'}},\n     'descriptions': [],\n     'position': 8,\n     'matches': 16,\n     'wins': 7,\n     'scoresFor': 21,\n     'scoresAgainst': 23,\n     'id': 872182,\n     'losses': 7,\n     'draws': 2,\n     'points': 23},\n    {'team': {'name': 'RC Strasbourg',\n      'slug': 'rc-strasbourg',\n      'shortName': 'Strasbourg',\n      'gender': 'M',\n      'sport': {'name': 'Football', 'slug': 'football', 'id': 1},\n      'userCount': 43748,\n      'nameCode': 'RCS',\n      'disabled': False,\n      'national': False,\n      'type': 0,\n      'id': 1659,\n      'teamColors': {'primary': '#00458e',\n       'secondary': '#ffffff',\n       'text': '#ffffff'}},\n     'descriptions': [],\n     'position': 9,\n     'matches': 16,\n     'wins': 5,\n     'scoresFor': 16,\n     'scoresAgainst': 21,\n     'id': 872184,\n     'losses': 6,\n     'draws': 5,\n     'points': 20},\n    {'team': {'name': 'Le Havre',\n      'slug': 'le-havre',\n      'shortName': 'Le Havre',\n      'gender': 'M',\n      'sport': {'name': 'Football', 'slug': 'football', 'id': 1},\n      'userCount': 28405,\n      'nameCode': 'HAC',\n      'disabled': False,\n      'national': False,\n      'type': 0,\n      'id': 1662,\n      'teamColors': {'primary': '#3399ff',\n       'secondary': '#3399ff',\n       'text': '#3399ff'}},\n     'descriptions': [],\n     'position': 10,\n     'matches': 16,\n     'wins': 4,\n     'scoresFor': 16,\n     'scoresAgainst': 18,\n     'id': 872173,\n     'losses': 5,\n     'draws': 7,\n     'points': 19},\n    {'team': {'name': 'Nantes',\n      'slug': 'nantes',\n      'shortName': 'Nantes',\n      'gender': 'M',\n      'sport': {'name': 'Football', 'slug': 'football', 'id': 1},\n      'userCount': 54304,\n      'nameCode': 'FCN',\n      'disabled': False,\n      'national': False,\n      'type': 0,\n      'id': 1647,\n      'teamColors': {'primary': '#ffdc12',\n       'secondary': '#00a94e',\n       'text': '#00a94e'}},\n     'descriptions': [],\n     'position': 11,\n     'matches': 16,\n     'wins': 5,\n     'scoresFor': 19,\n     'scoresAgainst': 27,\n     'id': 872172,\n     'losses': 8,\n     'draws': 3,\n     'points': 18},\n    {'team': {'name': 'Montpellier',\n      'slug': 'montpellier',\n      'shortName': 'Montpellier',\n      'gender': 'M',\n      'sport': {'name': 'Football', 'slug': 'football', 'id': 1},\n      'userCount': 43731,\n      'nameCode': 'MHS',\n      'disabled': False,\n      'national': False,\n      'type': 0,\n      'id': 1642,\n      'teamColors': {'primary': '#003e7e',\n       'secondary': '#ea7118',\n       'text': '#ea7118'}},\n     'descriptions': [{'text': '1 point deducted by Football Association',\n       'id': 638}],\n     'position': 12,\n     'matches': 16,\n     'wins': 4,\n     'scoresFor': 18,\n     'scoresAgainst': 20,\n     'id': 872175,\n     'losses': 6,\n     'draws': 6,\n     'points': 17},\n    {'team': {'name': 'Stade Rennais',\n      'slug': 'stade-rennais',\n      'shortName': 'Rennes',\n      'gender': 'M',\n      'sport': {'name': 'Football', 'slug': 'football', 'id': 1},\n      'userCount': 84383,\n      'nameCode': 'SRFC',\n      'disabled': False,\n      'national': False,\n      'type': 0,\n      'id': 1658,\n      'teamColors': {'primary': '#ff0000',\n       'secondary': '#000000',\n       'text': '#000000'}},\n     'descriptions': [],\n     'position': 13,\n     'matches': 16,\n     'wins': 3,\n     'scoresFor': 20,\n     'scoresAgainst': 21,\n     'id': 872183,\n     'losses': 6,\n     'draws': 7,\n     'points': 16},\n    {'team': {'name': 'Metz',\n      'slug': 'metz',\n      'shortName': 'Metz',\n      'gender': 'M',\n      'sport': {'name': 'Football', 'slug': 'football', 'id': 1},\n      'userCount': 29424,\n      'nameCode': 'FCM',\n      'disabled': False,\n      'national': False,\n      'type': 0,\n      'id': 1651,\n      'teamColors': {'primary': '#a2052c',\n       'secondary': '#ffffff',\n       'text': '#ffffff'}},\n     'descriptions': [],\n     'position': 14,\n     'matches': 16,\n     'wins': 4,\n     'scoresFor': 15,\n     'scoresAgainst': 24,\n     'id': 872171,\n     'losses': 8,\n     'draws': 4,\n     'points': 16},\n    {'team': {'name': 'Toulouse',\n      'slug': 'toulouse',\n      'shortName': 'Toulouse',\n      'gender': 'M',\n      'sport': {'name': 'Football', 'slug': 'football', 'id': 1},\n      'userCount': 55641,\n      'nameCode': 'TFC',\n      'disabled': False,\n      'national': False,\n      'type': 0,\n      'id': 1681,\n      'teamColors': {'primary': '#660099',\n       'secondary': '#ffffff',\n       'text': '#ffffff'}},\n     'descriptions': [],\n     'position': 15,\n     'matches': 16,\n     'wins': 2,\n     'scoresFor': 14,\n     'scoresAgainst': 21,\n     'id': 872185,\n     'losses': 6,\n     'draws': 8,\n     'points': 14},\n    {'team': {'name': 'Olympique Lyonnais',\n      'slug': 'olympique-lyonnais',\n      'shortName': 'Lyon',\n      'gender': 'M',\n      'sport': {'name': 'Football', 'slug': 'football', 'id': 1},\n      'userCount': 172137,\n      'nameCode': 'OL',\n      'disabled': False,\n      'national': False,\n      'type': 0,\n      'id': 1649,\n      'teamColors': {'primary': '#ffffff',\n       'secondary': '#004080',\n       'text': '#004080'}},\n     'descriptions': [],\n     'promotion': {'text': 'Relegation Playoffs', 'id': 45},\n     'position': 16,\n     'matches': 16,\n     'wins': 3,\n     'scoresFor': 15,\n     'scoresAgainst': 27,\n     'id': 872177,\n     'losses': 9,\n     'draws': 4,\n     'points': 13},\n    {'team': {'name': 'Lorient',\n      'slug': 'lorient',\n      'shortName': 'Lorient',\n      'gender': 'M',\n      'sport': {'name': 'Football', 'slug': 'football', 'id': 1},\n      'userCount': 38777,\n      'nameCode': 'FCL',\n      'disabled': False,\n      'national': False,\n      'type': 0,\n      'id': 1656,\n      'teamColors': {'primary': '#ff6600',\n       'secondary': '#000000',\n       'text': '#000000'}},\n     'descriptions': [],\n     'promotion': {'text': 'Relegation', 'id': 3},\n     'position': 17,\n     'matches': 16,\n     'wins': 2,\n     'scoresFor': 21,\n     'scoresAgainst': 31,\n     'id': 872170,\n     'losses': 8,\n     'draws': 6,\n     'points': 12},\n    {'team': {'name': 'Clermont Foot',\n      'slug': 'clermont-foot',\n      'shortName': 'Clermont',\n      'gender': 'M',\n      'sport': {'name': 'Football', 'slug': 'football', 'id': 1},\n      'userCount': 31093,\n      'nameCode': 'CF63',\n      'disabled': False,\n      'national': False,\n      'type': 0,\n      'id': 1680,\n      'teamColors': {'primary': '#cc0000',\n       'secondary': '#000000',\n       'text': '#000000'}},\n     'descriptions': [],\n     'promotion': {'text': 'Relegation', 'id': 3},\n     'position': 18,\n     'matches': 16,\n     'wins': 2,\n     'scoresFor': 10,\n     'scoresAgainst': 23,\n     'id': 872169,\n     'losses': 9,\n     'draws': 5,\n     'points': 11}],\n   'id': 105643,\n   'updatedAtTimestamp': 1699048540}]}"
     },
     "execution_count": 337,
     "metadata": {},
     "output_type": "execute_result"
    }
   ],
   "source": [
    "response.json()"
   ],
   "metadata": {
    "collapsed": false,
    "ExecuteTime": {
     "end_time": "2023-12-18T11:00:41.744903500Z",
     "start_time": "2023-12-18T11:00:41.719648500Z"
    }
   },
   "id": "eff7eeaf57b4d73b"
  },
  {
   "cell_type": "code",
   "execution_count": 338,
   "outputs": [],
   "source": [
    "teams = allData"
   ],
   "metadata": {
    "collapsed": false,
    "ExecuteTime": {
     "end_time": "2023-12-18T11:00:41.784584300Z",
     "start_time": "2023-12-18T11:00:41.739019Z"
    }
   },
   "id": "4d2a7884ed882a02"
  },
  {
   "cell_type": "code",
   "execution_count": 339,
   "outputs": [
    {
     "data": {
      "text/plain": "[{'standings': [{'tournament': {'name': 'Premier League',\n     'slug': 'premier-league',\n     'category': {'name': 'England',\n      'slug': 'england',\n      'sport': {'name': 'Football', 'slug': 'football', 'id': 1},\n      'id': 1,\n      'flag': 'england',\n      'alpha2': 'EN'},\n     'uniqueTournament': {'name': 'Premier League',\n      'slug': 'premier-league',\n      'primaryColorHex': '#3c1c5a',\n      'secondaryColorHex': '#f80158',\n      'category': {'name': 'England',\n       'slug': 'england',\n       'sport': {'name': 'Football', 'slug': 'football', 'id': 1},\n       'id': 1,\n       'flag': 'england',\n       'alpha2': 'EN'},\n      'userCount': 1402435,\n      'hasPerformanceGraphFeature': True,\n      'id': 17,\n      'displayInverseHomeAwayTeams': False},\n     'priority': 599,\n     'id': 1},\n    'type': 'total',\n    'name': 'Premier League',\n    'descriptions': [],\n    'tieBreakingRule': {'text': 'In the event that two (or more) teams have an equal number of points, the following rules break the tie:\\n1. Goal difference\\n2. Goals scored',\n     'id': 1238},\n    'rows': [{'team': {'name': 'Arsenal',\n       'slug': 'arsenal',\n       'shortName': 'Arsenal',\n       'gender': 'M',\n       'sport': {'name': 'Football', 'slug': 'football', 'id': 1},\n       'userCount': 1040939,\n       'nameCode': 'ARS',\n       'disabled': False,\n       'national': False,\n       'type': 0,\n       'id': 42,\n       'teamColors': {'primary': '#cc0000',\n        'secondary': '#ffffff',\n        'text': '#ffffff'}},\n      'descriptions': [],\n      'promotion': {'text': 'Champions League', 'id': 804},\n      'position': 1,\n      'matches': 17,\n      'wins': 12,\n      'scoresFor': 35,\n      'scoresAgainst': 15,\n      'id': 866347,\n      'losses': 2,\n      'draws': 3,\n      'points': 39},\n     {'team': {'name': 'Liverpool',\n       'slug': 'liverpool',\n       'shortName': 'Liverpool',\n       'gender': 'M',\n       'sport': {'name': 'Football', 'slug': 'football', 'id': 1},\n       'userCount': 1236077,\n       'nameCode': 'LIV',\n       'disabled': False,\n       'national': False,\n       'type': 0,\n       'id': 44,\n       'teamColors': {'primary': '#cc0000',\n        'secondary': '#ffffff',\n        'text': '#ffffff'}},\n      'descriptions': [],\n      'promotion': {'text': 'Champions League', 'id': 804},\n      'position': 2,\n      'matches': 17,\n      'wins': 11,\n      'scoresFor': 36,\n      'scoresAgainst': 15,\n      'id': 866356,\n      'losses': 1,\n      'draws': 5,\n      'points': 38},\n     {'team': {'name': 'Aston Villa',\n       'slug': 'aston-villa',\n       'shortName': 'Aston Villa',\n       'gender': 'M',\n       'sport': {'name': 'Football', 'slug': 'football', 'id': 1},\n       'userCount': 252400,\n       'nameCode': 'AVL',\n       'disabled': False,\n       'national': False,\n       'type': 0,\n       'id': 40,\n       'teamColors': {'primary': '#670e36',\n        'secondary': '#94bee5',\n        'text': '#94bee5'}},\n      'descriptions': [],\n      'promotion': {'text': 'Champions League', 'id': 804},\n      'position': 3,\n      'matches': 17,\n      'wins': 12,\n      'scoresFor': 37,\n      'scoresAgainst': 21,\n      'id': 866348,\n      'losses': 3,\n      'draws': 2,\n      'points': 38},\n     {'team': {'name': 'Manchester City',\n       'slug': 'manchester-city',\n       'shortName': 'Man City',\n       'gender': 'M',\n       'sport': {'name': 'Football', 'slug': 'football', 'id': 1},\n       'userCount': 1373275,\n       'nameCode': 'MCI',\n       'disabled': False,\n       'national': False,\n       'type': 0,\n       'id': 17,\n       'teamColors': {'primary': '#66ccff',\n        'secondary': '#ffffff',\n        'text': '#ffffff'}},\n      'descriptions': [],\n      'promotion': {'text': 'Champions League', 'id': 804},\n      'position': 4,\n      'matches': 17,\n      'wins': 10,\n      'scoresFor': 40,\n      'scoresAgainst': 20,\n      'id': 866358,\n      'losses': 3,\n      'draws': 4,\n      'points': 34},\n     {'team': {'name': 'Tottenham Hotspur',\n       'slug': 'tottenham-hotspur',\n       'shortName': 'Tottenham ',\n       'gender': 'M',\n       'sport': {'name': 'Football', 'slug': 'football', 'id': 1},\n       'userCount': 629398,\n       'nameCode': 'TOT',\n       'disabled': False,\n       'national': False,\n       'type': 0,\n       'id': 33,\n       'teamColors': {'primary': '#ffffff',\n        'secondary': '#000066',\n        'text': '#000066'}},\n      'descriptions': [],\n      'promotion': {'text': 'UEFA Europa League', 'id': 808},\n      'position': 5,\n      'matches': 17,\n      'wins': 10,\n      'scoresFor': 35,\n      'scoresAgainst': 23,\n      'id': 866363,\n      'losses': 4,\n      'draws': 3,\n      'points': 33},\n     {'team': {'name': 'Newcastle United',\n       'slug': 'newcastle-united',\n       'shortName': 'Newcastle',\n       'gender': 'M',\n       'sport': {'name': 'Football', 'slug': 'football', 'id': 1},\n       'userCount': 405977,\n       'nameCode': 'NEW',\n       'disabled': False,\n       'national': False,\n       'type': 0,\n       'id': 39,\n       'teamColors': {'primary': '#000000',\n        'secondary': '#ffffff',\n        'text': '#ffffff'}},\n      'descriptions': [],\n      'position': 6,\n      'matches': 17,\n      'wins': 9,\n      'scoresFor': 36,\n      'scoresAgainst': 21,\n      'id': 866360,\n      'losses': 6,\n      'draws': 2,\n      'points': 29},\n     {'team': {'name': 'Manchester United',\n       'slug': 'manchester-united',\n       'shortName': 'Man Utd',\n       'gender': 'M',\n       'sport': {'name': 'Football', 'slug': 'football', 'id': 1},\n       'userCount': 1333633,\n       'nameCode': 'MUN',\n       'disabled': False,\n       'national': False,\n       'type': 0,\n       'id': 35,\n       'teamColors': {'primary': '#ff0000',\n        'secondary': '#373737',\n        'text': '#373737'}},\n      'descriptions': [],\n      'position': 7,\n      'matches': 17,\n      'wins': 9,\n      'scoresFor': 18,\n      'scoresAgainst': 21,\n      'id': 866359,\n      'losses': 7,\n      'draws': 1,\n      'points': 28},\n     {'team': {'name': 'West Ham United',\n       'slug': 'west-ham-united',\n       'shortName': 'West Ham',\n       'gender': 'M',\n       'sport': {'name': 'Football', 'slug': 'football', 'id': 1},\n       'userCount': 265356,\n       'nameCode': 'WHU',\n       'disabled': False,\n       'national': False,\n       'type': 0,\n       'id': 37,\n       'teamColors': {'primary': '#66192c',\n        'secondary': '#59b3e4',\n        'text': '#59b3e4'}},\n      'descriptions': [],\n      'position': 8,\n      'matches': 17,\n      'wins': 8,\n      'scoresFor': 29,\n      'scoresAgainst': 30,\n      'id': 866364,\n      'losses': 6,\n      'draws': 3,\n      'points': 27},\n     {'team': {'name': 'Brighton & Hove Albion',\n       'slug': 'brighton-and-hove-albion',\n       'shortName': 'Brighton',\n       'gender': 'M',\n       'sport': {'name': 'Football', 'slug': 'football', 'id': 1},\n       'userCount': 254720,\n       'nameCode': 'BHA',\n       'disabled': False,\n       'national': False,\n       'type': 0,\n       'id': 30,\n       'teamColors': {'primary': '#0054a6',\n        'secondary': '#ffffff',\n        'text': '#ffffff'}},\n      'descriptions': [],\n      'position': 9,\n      'matches': 17,\n      'wins': 7,\n      'scoresFor': 33,\n      'scoresAgainst': 30,\n      'id': 866350,\n      'losses': 5,\n      'draws': 5,\n      'points': 26},\n     {'team': {'name': 'Chelsea',\n       'slug': 'chelsea',\n       'shortName': 'Chelsea',\n       'gender': 'M',\n       'sport': {'name': 'Football', 'slug': 'football', 'id': 1},\n       'userCount': 969960,\n       'nameCode': 'CHE',\n       'disabled': False,\n       'national': False,\n       'type': 0,\n       'id': 38,\n       'teamColors': {'primary': '#0310a7',\n        'secondary': '#ffffff',\n        'text': '#ffffff'}},\n      'descriptions': [],\n      'position': 10,\n      'matches': 17,\n      'wins': 6,\n      'scoresFor': 28,\n      'scoresAgainst': 26,\n      'id': 866352,\n      'losses': 7,\n      'draws': 4,\n      'points': 22},\n     {'team': {'name': 'Fulham',\n       'slug': 'fulham',\n       'shortName': 'Fulham',\n       'gender': 'M',\n       'sport': {'name': 'Football', 'slug': 'football', 'id': 1},\n       'userCount': 141769,\n       'nameCode': 'FUL',\n       'disabled': False,\n       'national': False,\n       'type': 0,\n       'id': 43,\n       'teamColors': {'primary': '#ffffff',\n        'secondary': '#000000',\n        'text': '#000000'}},\n      'descriptions': [],\n      'position': 11,\n      'matches': 17,\n      'wins': 6,\n      'scoresFor': 26,\n      'scoresAgainst': 29,\n      'id': 866355,\n      'losses': 8,\n      'draws': 3,\n      'points': 21},\n     {'team': {'name': 'Brentford',\n       'slug': 'brentford',\n       'shortName': 'Brentford',\n       'gender': 'M',\n       'sport': {'name': 'Football', 'slug': 'football', 'id': 1},\n       'userCount': 135497,\n       'nameCode': 'BRE',\n       'disabled': False,\n       'national': False,\n       'type': 0,\n       'id': 50,\n       'teamColors': {'primary': '#ffffff',\n        'secondary': '#ff0000',\n        'text': '#ff0000'}},\n      'descriptions': [],\n      'position': 12,\n      'matches': 17,\n      'wins': 5,\n      'scoresFor': 24,\n      'scoresAgainst': 24,\n      'id': 866349,\n      'losses': 8,\n      'draws': 4,\n      'points': 19},\n     {'team': {'name': 'Wolverhampton',\n       'slug': 'wolverhampton',\n       'shortName': 'Wolves',\n       'gender': 'M',\n       'sport': {'name': 'Football', 'slug': 'football', 'id': 1},\n       'userCount': 153952,\n       'nameCode': 'WOL',\n       'disabled': False,\n       'national': False,\n       'type': 0,\n       'id': 3,\n       'teamColors': {'primary': '#ff9900',\n        'secondary': '#000000',\n        'text': '#000000'}},\n      'descriptions': [],\n      'position': 13,\n      'matches': 17,\n      'wins': 5,\n      'scoresFor': 21,\n      'scoresAgainst': 29,\n      'id': 866365,\n      'losses': 8,\n      'draws': 4,\n      'points': 19},\n     {'team': {'name': 'Bournemouth',\n       'slug': 'bournemouth',\n       'shortName': 'Bournemouth',\n       'gender': 'M',\n       'sport': {'name': 'Football', 'slug': 'football', 'id': 1},\n       'userCount': 95311,\n       'nameCode': 'BOU',\n       'disabled': False,\n       'national': False,\n       'type': 0,\n       'id': 60,\n       'teamColors': {'primary': '#000000',\n        'secondary': '#cc0000',\n        'text': '#cc0000'}},\n      'descriptions': [],\n      'position': 14,\n      'matches': 16,\n      'wins': 5,\n      'scoresFor': 21,\n      'scoresAgainst': 30,\n      'id': 866346,\n      'losses': 7,\n      'draws': 4,\n      'points': 19},\n     {'team': {'name': 'Crystal Palace',\n       'slug': 'crystal-palace',\n       'shortName': 'Crystal Palace',\n       'gender': 'M',\n       'sport': {'name': 'Football', 'slug': 'football', 'id': 1},\n       'userCount': 131405,\n       'nameCode': 'CRY',\n       'disabled': False,\n       'national': False,\n       'type': 0,\n       'id': 7,\n       'teamColors': {'primary': '#0033ff',\n        'secondary': '#b90d2b',\n        'text': '#b90d2b'}},\n      'descriptions': [],\n      'position': 15,\n      'matches': 17,\n      'wins': 4,\n      'scoresFor': 17,\n      'scoresAgainst': 25,\n      'id': 866353,\n      'losses': 8,\n      'draws': 5,\n      'points': 17},\n     {'team': {'name': 'Everton',\n       'slug': 'everton',\n       'shortName': 'Everton',\n       'gender': 'M',\n       'sport': {'name': 'Football', 'slug': 'football', 'id': 1},\n       'userCount': 190128,\n       'nameCode': 'EVE',\n       'disabled': False,\n       'national': False,\n       'type': 0,\n       'id': 48,\n       'teamColors': {'primary': '#274488',\n        'secondary': '#ffffff',\n        'text': '#ffffff'}},\n      'descriptions': [{'text': '10 points deducted due to decision by the Federation',\n        'id': 375}],\n      'position': 16,\n      'matches': 17,\n      'wins': 8,\n      'scoresFor': 22,\n      'scoresAgainst': 20,\n      'id': 866354,\n      'losses': 7,\n      'draws': 2,\n      'points': 16},\n     {'team': {'name': 'Nottingham Forest',\n       'slug': 'nottingham-forest',\n       'shortName': 'Forest',\n       'gender': 'M',\n       'sport': {'name': 'Football', 'slug': 'football', 'id': 1},\n       'userCount': 112747,\n       'nameCode': 'NFO',\n       'disabled': False,\n       'national': False,\n       'type': 0,\n       'id': 14,\n       'teamColors': {'primary': '#cc0000',\n        'secondary': '#cc0000',\n        'text': '#cc0000'}},\n      'descriptions': [],\n      'position': 17,\n      'matches': 17,\n      'wins': 3,\n      'scoresFor': 17,\n      'scoresAgainst': 30,\n      'id': 866361,\n      'losses': 9,\n      'draws': 5,\n      'points': 14},\n     {'team': {'name': 'Luton Town',\n       'slug': 'luton-town',\n       'shortName': 'Luton',\n       'gender': 'M',\n       'sport': {'name': 'Football', 'slug': 'football', 'id': 1},\n       'userCount': 65546,\n       'nameCode': 'LUT',\n       'disabled': False,\n       'national': False,\n       'type': 0,\n       'id': 72,\n       'teamColors': {'primary': '#ff3300',\n        'secondary': '#000033',\n        'text': '#000033'}},\n      'descriptions': [],\n      'promotion': {'text': 'Relegation', 'id': 3},\n      'position': 18,\n      'matches': 16,\n      'wins': 2,\n      'scoresFor': 17,\n      'scoresAgainst': 32,\n      'id': 866357,\n      'losses': 11,\n      'draws': 3,\n      'points': 9},\n     {'team': {'name': 'Burnley',\n       'slug': 'burnley',\n       'shortName': 'Burnley',\n       'gender': 'M',\n       'sport': {'name': 'Football', 'slug': 'football', 'id': 1},\n       'userCount': 99533,\n       'nameCode': 'BUR',\n       'disabled': False,\n       'national': False,\n       'type': 0,\n       'id': 6,\n       'teamColors': {'primary': '#81204c',\n        'secondary': '#8fd2f4',\n        'text': '#8fd2f4'}},\n      'descriptions': [],\n      'promotion': {'text': 'Relegation', 'id': 3},\n      'position': 19,\n      'matches': 17,\n      'wins': 2,\n      'scoresFor': 16,\n      'scoresAgainst': 36,\n      'id': 866351,\n      'losses': 13,\n      'draws': 2,\n      'points': 8},\n     {'team': {'name': 'Sheffield United',\n       'slug': 'sheffield-united',\n       'shortName': 'Sheffield Utd',\n       'gender': 'M',\n       'sport': {'name': 'Football', 'slug': 'football', 'id': 1},\n       'userCount': 76660,\n       'nameCode': 'SHU',\n       'disabled': False,\n       'national': False,\n       'type': 0,\n       'id': 15,\n       'teamColors': {'primary': '#ffffff',\n        'secondary': '#ff0000',\n        'text': '#ff0000'}},\n      'descriptions': [],\n      'promotion': {'text': 'Relegation', 'id': 3},\n      'position': 20,\n      'matches': 17,\n      'wins': 2,\n      'scoresFor': 12,\n      'scoresAgainst': 43,\n      'id': 866362,\n      'losses': 13,\n      'draws': 2,\n      'points': 8}],\n    'id': 104941,\n    'updatedAtTimestamp': 1699108198}]},\n {'standings': [{'tournament': {'name': 'LaLiga',\n     'slug': 'laliga',\n     'category': {'name': 'Spain',\n      'slug': 'spain',\n      'sport': {'name': 'Football', 'slug': 'football', 'id': 1},\n      'id': 32,\n      'flag': 'spain',\n      'alpha2': 'ES'},\n     'uniqueTournament': {'name': 'LaLiga',\n      'slug': 'laliga',\n      'primaryColorHex': '#2f4a89',\n      'secondaryColorHex': '#f4a32e',\n      'category': {'name': 'Spain',\n       'slug': 'spain',\n       'sport': {'name': 'Football', 'slug': 'football', 'id': 1},\n       'id': 32,\n       'flag': 'spain',\n       'alpha2': 'ES'},\n      'userCount': 923566,\n      'hasPerformanceGraphFeature': True,\n      'id': 8,\n      'displayInverseHomeAwayTeams': False},\n     'priority': 598,\n     'id': 36},\n    'type': 'total',\n    'name': 'LaLiga',\n    'descriptions': [],\n    'tieBreakingRule': {'text': 'In the event that two (or more) teams have an equal number of points, the following rules break the tie:\\n\\n1. Head-to-head if all tied teams have paired matches\\n2. Goal difference\\n3. Goals scored',\n     'id': 1239},\n    'rows': [{'team': {'name': 'Real Madrid',\n       'slug': 'real-madrid',\n       'shortName': 'Real Madrid',\n       'gender': 'M',\n       'sport': {'name': 'Football', 'slug': 'football', 'id': 1},\n       'userCount': 1773956,\n       'nameCode': 'RMA',\n       'disabled': False,\n       'national': False,\n       'type': 0,\n       'id': 2829,\n       'teamColors': {'primary': '#ffffff',\n        'secondary': '#004996',\n        'text': '#004996'}},\n      'descriptions': [],\n      'promotion': {'text': 'Champions League', 'id': 804},\n      'position': 1,\n      'matches': 17,\n      'wins': 13,\n      'scoresFor': 38,\n      'scoresAgainst': 11,\n      'id': 867889,\n      'losses': 1,\n      'draws': 3,\n      'points': 42},\n     {'team': {'name': 'Girona FC',\n       'slug': 'girona-fc',\n       'shortName': 'Girona',\n       'gender': 'M',\n       'sport': {'name': 'Football', 'slug': 'football', 'id': 1},\n       'userCount': 141799,\n       'nameCode': 'GIR',\n       'disabled': False,\n       'national': False,\n       'type': 0,\n       'id': 24264,\n       'teamColors': {'primary': '#ffffff',\n        'secondary': '#ff0000',\n        'text': '#ff0000'}},\n      'descriptions': [],\n      'promotion': {'text': 'Champions League', 'id': 804},\n      'position': 2,\n      'matches': 16,\n      'wins': 13,\n      'scoresFor': 38,\n      'scoresAgainst': 20,\n      'id': 867883,\n      'losses': 1,\n      'draws': 2,\n      'points': 41},\n     {'team': {'name': 'Barcelona',\n       'slug': 'barcelona',\n       'shortName': 'Barcelona',\n       'gender': 'M',\n       'sport': {'name': 'Football', 'slug': 'football', 'id': 1},\n       'userCount': 1639034,\n       'nameCode': 'FCB',\n       'disabled': False,\n       'national': False,\n       'type': 0,\n       'id': 2817,\n       'teamColors': {'primary': '#154284',\n        'secondary': '#9d1009',\n        'text': '#9d1009'}},\n      'descriptions': [],\n      'promotion': {'text': 'Champions League', 'id': 804},\n      'position': 3,\n      'matches': 17,\n      'wins': 10,\n      'scoresFor': 31,\n      'scoresAgainst': 19,\n      'id': 867881,\n      'losses': 2,\n      'draws': 5,\n      'points': 35},\n     {'team': {'name': 'Atlético Madrid',\n       'slug': 'atletico-madrid',\n       'shortName': 'Atl. Madrid',\n       'gender': 'M',\n       'sport': {'name': 'Football', 'slug': 'football', 'id': 1},\n       'userCount': 592524,\n       'nameCode': 'ATM',\n       'disabled': False,\n       'national': False,\n       'type': 0,\n       'id': 2836,\n       'teamColors': {'primary': '#ffffff',\n        'secondary': '#c40000',\n        'text': '#c40000'}},\n      'descriptions': [],\n      'promotion': {'text': 'Champions League', 'id': 804},\n      'position': 4,\n      'matches': 16,\n      'wins': 11,\n      'scoresFor': 32,\n      'scoresAgainst': 16,\n      'id': 867877,\n      'losses': 4,\n      'draws': 1,\n      'points': 34},\n     {'team': {'name': 'Athletic Club',\n       'slug': 'athletic-club',\n       'shortName': 'Athletic Club',\n       'gender': 'M',\n       'sport': {'name': 'Football', 'slug': 'football', 'id': 1},\n       'userCount': 132567,\n       'nameCode': 'ATH',\n       'disabled': False,\n       'national': False,\n       'type': 0,\n       'id': 2825,\n       'teamColors': {'primary': '#aa0000',\n        'secondary': '#ffffff',\n        'text': '#ffffff'}},\n      'descriptions': [],\n      'promotion': {'text': 'UEFA Europa League', 'id': 808},\n      'position': 5,\n      'matches': 17,\n      'wins': 9,\n      'scoresFor': 33,\n      'scoresAgainst': 19,\n      'id': 867876,\n      'losses': 3,\n      'draws': 5,\n      'points': 32},\n     {'team': {'name': 'Real Sociedad',\n       'slug': 'real-sociedad',\n       'shortName': 'Real Sociedad',\n       'gender': 'M',\n       'sport': {'name': 'Football', 'slug': 'football', 'id': 1},\n       'userCount': 204023,\n       'nameCode': 'RSO',\n       'disabled': False,\n       'national': False,\n       'type': 0,\n       'id': 2824,\n       'teamColors': {'primary': '#ffffff',\n        'secondary': '#0077c7',\n        'text': '#0077c7'}},\n      'descriptions': [],\n      'promotion': {'text': 'UEFA Conference League Qualification',\n       'id': 1349},\n      'position': 6,\n      'matches': 17,\n      'wins': 8,\n      'scoresFor': 29,\n      'scoresAgainst': 18,\n      'id': 867890,\n      'losses': 3,\n      'draws': 6,\n      'points': 30},\n     {'team': {'name': 'Real Betis',\n       'slug': 'real-betis',\n       'shortName': 'Betis',\n       'gender': 'M',\n       'sport': {'name': 'Football', 'slug': 'football', 'id': 1},\n       'userCount': 157754,\n       'nameCode': 'RBB',\n       'disabled': False,\n       'national': False,\n       'type': 0,\n       'id': 2816,\n       'teamColors': {'primary': '#ffffff',\n        'secondary': '#006633',\n        'text': '#006633'}},\n      'descriptions': [],\n      'position': 7,\n      'matches': 17,\n      'wins': 6,\n      'scoresFor': 19,\n      'scoresAgainst': 17,\n      'id': 867888,\n      'losses': 2,\n      'draws': 9,\n      'points': 27},\n     {'team': {'name': 'Getafe',\n       'slug': 'getafe',\n       'shortName': 'Getafe',\n       'gender': 'M',\n       'sport': {'name': 'Football', 'slug': 'football', 'id': 1},\n       'userCount': 79285,\n       'nameCode': 'GET',\n       'disabled': False,\n       'national': False,\n       'type': 0,\n       'id': 2859,\n       'teamColors': {'primary': '#00369e',\n        'secondary': '#ffffff',\n        'text': '#ffffff'}},\n      'descriptions': [],\n      'position': 8,\n      'matches': 17,\n      'wins': 6,\n      'scoresFor': 21,\n      'scoresAgainst': 20,\n      'id': 867882,\n      'losses': 4,\n      'draws': 7,\n      'points': 25},\n     {'team': {'name': 'Las Palmas',\n       'slug': 'las-palmas',\n       'shortName': 'Las Palmas',\n       'gender': 'M',\n       'sport': {'name': 'Football', 'slug': 'football', 'id': 1},\n       'userCount': 49069,\n       'nameCode': 'LPA',\n       'disabled': False,\n       'national': False,\n       'type': 0,\n       'id': 6577,\n       'teamColors': {'primary': '#e8f541',\n        'secondary': '#f3f845',\n        'text': '#f3f845'}},\n      'descriptions': [],\n      'position': 9,\n      'matches': 17,\n      'wins': 7,\n      'scoresFor': 15,\n      'scoresAgainst': 14,\n      'id': 867893,\n      'losses': 6,\n      'draws': 4,\n      'points': 25},\n     {'team': {'name': 'Valencia',\n       'slug': 'valencia',\n       'shortName': 'Valencia',\n       'gender': 'M',\n       'sport': {'name': 'Football', 'slug': 'football', 'id': 1},\n       'userCount': 140013,\n       'nameCode': 'VCF',\n       'disabled': False,\n       'national': False,\n       'type': 0,\n       'id': 2828,\n       'teamColors': {'primary': '#ffffff',\n        'secondary': '#000000',\n        'text': '#000000'}},\n      'descriptions': [],\n      'position': 10,\n      'matches': 17,\n      'wins': 5,\n      'scoresFor': 18,\n      'scoresAgainst': 22,\n      'id': 867894,\n      'losses': 7,\n      'draws': 5,\n      'points': 20},\n     {'team': {'name': 'Rayo Vallecano',\n       'slug': 'rayo-vallecano',\n       'shortName': 'Rayo Vallecano',\n       'gender': 'M',\n       'sport': {'name': 'Football', 'slug': 'football', 'id': 1},\n       'userCount': 78188,\n       'nameCode': 'RVM',\n       'disabled': False,\n       'national': False,\n       'type': 0,\n       'id': 2818,\n       'teamColors': {'primary': '#ffffff',\n        'secondary': '#ffffff',\n        'text': '#ffffff'}},\n      'descriptions': [],\n      'position': 11,\n      'matches': 17,\n      'wins': 4,\n      'scoresFor': 16,\n      'scoresAgainst': 23,\n      'id': 867885,\n      'losses': 5,\n      'draws': 8,\n      'points': 20},\n     {'team': {'name': 'Osasuna',\n       'slug': 'osasuna',\n       'shortName': 'Osasuna',\n       'gender': 'M',\n       'sport': {'name': 'Football', 'slug': 'football', 'id': 1},\n       'userCount': 79253,\n       'nameCode': 'OSA',\n       'disabled': False,\n       'national': False,\n       'type': 0,\n       'id': 2820,\n       'teamColors': {'primary': '#cc0000',\n        'secondary': '#14213d',\n        'text': '#14213d'}},\n      'descriptions': [],\n      'position': 12,\n      'matches': 17,\n      'wins': 5,\n      'scoresFor': 19,\n      'scoresAgainst': 26,\n      'id': 867878,\n      'losses': 8,\n      'draws': 4,\n      'points': 19},\n     {'team': {'name': 'Deportivo Alavés',\n       'slug': 'deportivo-alaves',\n       'shortName': 'Alavés',\n       'gender': 'M',\n       'sport': {'name': 'Football', 'slug': 'football', 'id': 1},\n       'userCount': 51843,\n       'nameCode': 'ALA',\n       'disabled': False,\n       'national': False,\n       'type': 0,\n       'id': 2885,\n       'teamColors': {'primary': '#0232a0',\n        'secondary': '#ffffff',\n        'text': '#ffffff'}},\n      'descriptions': [],\n      'position': 13,\n      'matches': 16,\n      'wins': 4,\n      'scoresFor': 14,\n      'scoresAgainst': 20,\n      'id': 867880,\n      'losses': 8,\n      'draws': 4,\n      'points': 16},\n     {'team': {'name': 'Villarreal',\n       'slug': 'villarreal',\n       'shortName': 'Villarreal',\n       'gender': 'M',\n       'sport': {'name': 'Football', 'slug': 'football', 'id': 1},\n       'userCount': 199294,\n       'nameCode': 'VIL',\n       'disabled': False,\n       'national': False,\n       'type': 0,\n       'id': 2819,\n       'teamColors': {'primary': '#ffff00',\n        'secondary': '#013765',\n        'text': '#013765'}},\n      'descriptions': [],\n      'position': 14,\n      'matches': 17,\n      'wins': 4,\n      'scoresFor': 23,\n      'scoresAgainst': 33,\n      'id': 867895,\n      'losses': 9,\n      'draws': 4,\n      'points': 16},\n     {'team': {'name': 'Mallorca',\n       'slug': 'mallorca',\n       'shortName': 'Mallorca',\n       'gender': 'M',\n       'sport': {'name': 'Football', 'slug': 'football', 'id': 1},\n       'userCount': 62384,\n       'nameCode': 'MLL',\n       'disabled': False,\n       'national': False,\n       'type': 0,\n       'id': 2826,\n       'teamColors': {'primary': '#cc0000',\n        'secondary': '#000000',\n        'text': '#000000'}},\n      'descriptions': [],\n      'position': 15,\n      'matches': 17,\n      'wins': 2,\n      'scoresFor': 14,\n      'scoresAgainst': 20,\n      'id': 867887,\n      'losses': 6,\n      'draws': 9,\n      'points': 15},\n     {'team': {'name': 'Cádiz',\n       'slug': 'cadiz',\n       'shortName': 'Cádiz',\n       'gender': 'M',\n       'sport': {'name': 'Football', 'slug': 'football', 'id': 1},\n       'userCount': 65030,\n       'nameCode': 'CAD',\n       'disabled': False,\n       'national': False,\n       'type': 0,\n       'id': 4488,\n       'teamColors': {'primary': '#ffff00',\n        'secondary': '#001d43',\n        'text': '#001d43'}},\n      'descriptions': [],\n      'position': 16,\n      'matches': 17,\n      'wins': 2,\n      'scoresFor': 14,\n      'scoresAgainst': 24,\n      'id': 867879,\n      'losses': 7,\n      'draws': 8,\n      'points': 14},\n     {'team': {'name': 'Sevilla',\n       'slug': 'sevilla',\n       'shortName': 'Sevilla',\n       'gender': 'M',\n       'sport': {'name': 'Football', 'slug': 'football', 'id': 1},\n       'userCount': 320550,\n       'nameCode': 'SEV',\n       'disabled': False,\n       'national': False,\n       'type': 0,\n       'id': 2833,\n       'teamColors': {'primary': '#ffffff',\n        'secondary': '#cc1020',\n        'text': '#cc1020'}},\n      'descriptions': [],\n      'position': 17,\n      'matches': 16,\n      'wins': 2,\n      'scoresFor': 20,\n      'scoresAgainst': 24,\n      'id': 867891,\n      'losses': 7,\n      'draws': 7,\n      'points': 13},\n     {'team': {'name': 'Celta Vigo',\n       'slug': 'celta-vigo',\n       'shortName': 'Celta',\n       'gender': 'M',\n       'sport': {'name': 'Football', 'slug': 'football', 'id': 1},\n       'userCount': 86307,\n       'nameCode': 'RCC',\n       'disabled': False,\n       'national': False,\n       'type': 0,\n       'id': 2821,\n       'teamColors': {'primary': '#6cace4',\n        'secondary': '#ffffff',\n        'text': '#ffffff'}},\n      'descriptions': [],\n      'promotion': {'text': 'Relegation', 'id': 3},\n      'position': 18,\n      'matches': 17,\n      'wins': 2,\n      'scoresFor': 16,\n      'scoresAgainst': 25,\n      'id': 867886,\n      'losses': 8,\n      'draws': 7,\n      'points': 13},\n     {'team': {'name': 'Granada',\n       'slug': 'granada',\n       'shortName': 'Granada',\n       'gender': 'M',\n       'sport': {'name': 'Football', 'slug': 'football', 'id': 1},\n       'userCount': 60397,\n       'nameCode': 'GCF',\n       'disabled': False,\n       'national': False,\n       'type': 0,\n       'id': 33779,\n       'teamColors': {'primary': '#cc0000',\n        'secondary': '#ffffff',\n        'text': '#ffffff'}},\n      'descriptions': [],\n      'promotion': {'text': 'Relegation', 'id': 3},\n      'position': 19,\n      'matches': 17,\n      'wins': 1,\n      'scoresFor': 20,\n      'scoresAgainst': 37,\n      'id': 867884,\n      'losses': 11,\n      'draws': 5,\n      'points': 8},\n     {'team': {'name': 'Almería',\n       'slug': 'almeria',\n       'shortName': 'Almería',\n       'gender': 'M',\n       'sport': {'name': 'Football', 'slug': 'football', 'id': 1},\n       'userCount': 57651,\n       'nameCode': 'ALM',\n       'disabled': False,\n       'national': False,\n       'type': 0,\n       'id': 2858,\n       'teamColors': {'primary': '#ff0000',\n        'secondary': '#ffffff',\n        'text': '#ffffff'}},\n      'descriptions': [],\n      'promotion': {'text': 'Relegation', 'id': 3},\n      'position': 20,\n      'matches': 17,\n      'wins': 0,\n      'scoresFor': 17,\n      'scoresAgainst': 39,\n      'id': 867892,\n      'losses': 12,\n      'draws': 5,\n      'points': 5}],\n    'id': 105188,\n    'updatedAtTimestamp': 1698703010}]},\n {'standings': [{'tournament': {'name': 'Bundesliga',\n     'slug': 'bundesliga',\n     'category': {'name': 'Germany',\n      'slug': 'germany',\n      'sport': {'name': 'Football', 'slug': 'football', 'id': 1},\n      'id': 30,\n      'flag': 'germany',\n      'alpha2': 'DE'},\n     'uniqueTournament': {'name': 'Bundesliga',\n      'slug': 'bundesliga',\n      'primaryColorHex': '#e2080e',\n      'secondaryColorHex': '#8e0902',\n      'category': {'name': 'Germany',\n       'slug': 'germany',\n       'sport': {'name': 'Football', 'slug': 'football', 'id': 1},\n       'id': 30,\n       'flag': 'germany',\n       'alpha2': 'DE'},\n      'userCount': 636889,\n      'hasPerformanceGraphFeature': True,\n      'id': 35,\n      'displayInverseHomeAwayTeams': False},\n     'priority': 596,\n     'id': 42},\n    'type': 'total',\n    'name': 'Bundesliga',\n    'descriptions': [],\n    'tieBreakingRule': {'text': 'In the event that two (or more) teams have an equal number of points, the following rules break the tie:\\n1. Goal difference\\n2. Goals scored',\n     'id': 1238},\n    'rows': [{'team': {'name': 'Bayer 04 Leverkusen',\n       'slug': 'bayer-04-leverkusen',\n       'shortName': 'Leverkusen',\n       'gender': 'M',\n       'sport': {'name': 'Football', 'slug': 'football', 'id': 1},\n       'userCount': 247722,\n       'nameCode': 'B04',\n       'disabled': False,\n       'national': False,\n       'type': 0,\n       'id': 2681,\n       'teamColors': {'primary': '#000000',\n        'secondary': '#ff2222',\n        'text': '#ff2222'}},\n      'descriptions': [],\n      'promotion': {'text': 'Champions League', 'id': 804},\n      'position': 1,\n      'matches': 15,\n      'wins': 12,\n      'scoresFor': 42,\n      'scoresAgainst': 12,\n      'id': 872284,\n      'losses': 0,\n      'draws': 3,\n      'points': 39},\n     {'team': {'name': 'FC Bayern München',\n       'slug': 'fc-bayern-munchen',\n       'shortName': 'Bayern',\n       'gender': 'M',\n       'sport': {'name': 'Football', 'slug': 'football', 'id': 1},\n       'userCount': 917800,\n       'nameCode': 'BAY',\n       'disabled': False,\n       'national': False,\n       'type': 0,\n       'id': 2672,\n       'teamColors': {'primary': '#cf142f',\n        'secondary': '#ffffff',\n        'text': '#ffffff'}},\n      'descriptions': [],\n      'promotion': {'text': 'Champions League', 'id': 804},\n      'position': 2,\n      'matches': 14,\n      'wins': 11,\n      'scoresFor': 47,\n      'scoresAgainst': 14,\n      'id': 872285,\n      'losses': 1,\n      'draws': 2,\n      'points': 35},\n     {'team': {'name': 'RB Leipzig',\n       'slug': 'rb-leipzig',\n       'shortName': 'Leipzig',\n       'gender': 'M',\n       'sport': {'name': 'Football', 'slug': 'football', 'id': 1},\n       'userCount': 311939,\n       'nameCode': 'RBL',\n       'disabled': False,\n       'national': False,\n       'type': 0,\n       'id': 36360,\n       'teamColors': {'primary': '#ffffff',\n        'secondary': '#dd0000',\n        'text': '#dd0000'}},\n      'descriptions': [],\n      'promotion': {'text': 'Champions League', 'id': 804},\n      'position': 3,\n      'matches': 15,\n      'wins': 10,\n      'scoresFor': 37,\n      'scoresAgainst': 16,\n      'id': 872291,\n      'losses': 3,\n      'draws': 2,\n      'points': 32},\n     {'team': {'name': 'VfB Stuttgart',\n       'slug': 'vfb-stuttgart',\n       'shortName': 'Stuttgart',\n       'gender': 'M',\n       'sport': {'name': 'Football', 'slug': 'football', 'id': 1},\n       'userCount': 79894,\n       'nameCode': 'VFB',\n       'disabled': False,\n       'national': False,\n       'type': 0,\n       'id': 2677,\n       'teamColors': {'primary': '#ffffff',\n        'secondary': '#ff0000',\n        'text': '#ff0000'}},\n      'descriptions': [],\n      'promotion': {'text': 'Champions League', 'id': 804},\n      'position': 4,\n      'matches': 15,\n      'wins': 10,\n      'scoresFor': 34,\n      'scoresAgainst': 19,\n      'id': 872296,\n      'losses': 4,\n      'draws': 1,\n      'points': 31},\n     {'team': {'name': 'Borussia Dortmund',\n       'slug': 'borussia-dortmund',\n       'shortName': 'Dortmund',\n       'gender': 'M',\n       'sport': {'name': 'Football', 'slug': 'football', 'id': 1},\n       'userCount': 610756,\n       'nameCode': 'BVB',\n       'disabled': False,\n       'national': False,\n       'type': 0,\n       'id': 2673,\n       'teamColors': {'primary': '#ffe600',\n        'secondary': '#000000',\n        'text': '#000000'}},\n      'descriptions': [],\n      'promotion': {'text': 'UEFA Europa League', 'id': 808},\n      'position': 5,\n      'matches': 15,\n      'wins': 7,\n      'scoresFor': 29,\n      'scoresAgainst': 24,\n      'id': 872286,\n      'losses': 3,\n      'draws': 5,\n      'points': 26},\n     {'team': {'name': 'SC Freiburg',\n       'slug': 'sc-freiburg',\n       'shortName': 'Freiburg',\n       'gender': 'M',\n       'sport': {'name': 'Football', 'slug': 'football', 'id': 1},\n       'userCount': 83022,\n       'nameCode': 'SCF',\n       'disabled': False,\n       'national': False,\n       'type': 0,\n       'id': 2538,\n       'teamColors': {'primary': '#cc3333',\n        'secondary': '#000000',\n        'text': '#000000'}},\n      'descriptions': [],\n      'promotion': {'text': 'UEFA Conference League Qualification',\n       'id': 1349},\n      'position': 6,\n      'matches': 15,\n      'wins': 7,\n      'scoresFor': 19,\n      'scoresAgainst': 23,\n      'id': 872292,\n      'losses': 5,\n      'draws': 3,\n      'points': 24},\n     {'team': {'name': 'TSG Hoffenheim',\n       'slug': 'tsg-hoffenheim',\n       'shortName': 'Hoffenheim',\n       'gender': 'M',\n       'sport': {'name': 'Football', 'slug': 'football', 'id': 1},\n       'userCount': 54973,\n       'nameCode': 'TSG',\n       'disabled': False,\n       'national': False,\n       'type': 0,\n       'id': 2569,\n       'teamColors': {'primary': '#1f5da6',\n        'secondary': '#ffffff',\n        'text': '#ffffff'}},\n      'descriptions': [],\n      'position': 7,\n      'matches': 15,\n      'wins': 7,\n      'scoresFor': 29,\n      'scoresAgainst': 27,\n      'id': 872294,\n      'losses': 6,\n      'draws': 2,\n      'points': 23},\n     {'team': {'name': 'Eintracht Frankfurt',\n       'slug': 'eintracht-frankfurt',\n       'shortName': 'Frankfurt',\n       'gender': 'M',\n       'sport': {'name': 'Football', 'slug': 'football', 'id': 1},\n       'userCount': 133606,\n       'nameCode': 'SGE',\n       'disabled': False,\n       'national': False,\n       'type': 0,\n       'id': 2674,\n       'teamColors': {'primary': '#000000',\n        'secondary': '#ff1111',\n        'text': '#ff1111'}},\n      'descriptions': [],\n      'position': 8,\n      'matches': 15,\n      'wins': 5,\n      'scoresFor': 24,\n      'scoresAgainst': 19,\n      'id': 872288,\n      'losses': 4,\n      'draws': 6,\n      'points': 21},\n     {'team': {'name': 'VfL Wolfsburg',\n       'slug': 'vfl-wolfsburg',\n       'shortName': 'Wolfsburg',\n       'gender': 'M',\n       'sport': {'name': 'Football', 'slug': 'football', 'id': 1},\n       'userCount': 61553,\n       'nameCode': 'WOB',\n       'disabled': False,\n       'national': False,\n       'type': 0,\n       'id': 2524,\n       'teamColors': {'primary': '#64b42d',\n        'secondary': '#ffffff',\n        'text': '#ffffff'}},\n      'descriptions': [],\n      'position': 9,\n      'matches': 15,\n      'wins': 6,\n      'scoresFor': 19,\n      'scoresAgainst': 25,\n      'id': 872298,\n      'losses': 8,\n      'draws': 1,\n      'points': 19},\n     {'team': {'name': 'FC Augsburg',\n       'slug': 'fc-augsburg',\n       'shortName': 'Augsburg',\n       'gender': 'M',\n       'sport': {'name': 'Football', 'slug': 'football', 'id': 1},\n       'userCount': 37316,\n       'nameCode': 'FCA',\n       'disabled': False,\n       'national': False,\n       'type': 0,\n       'id': 2600,\n       'teamColors': {'primary': '#ffffff',\n        'secondary': '#cd1719',\n        'text': '#cd1719'}},\n      'descriptions': [],\n      'position': 10,\n      'matches': 15,\n      'wins': 4,\n      'scoresFor': 24,\n      'scoresAgainst': 28,\n      'id': 872289,\n      'losses': 5,\n      'draws': 6,\n      'points': 18},\n     {'team': {'name': \"Borussia M'gladbach\",\n       'slug': 'borussia-mgladbach',\n       'shortName': \"M'gladbach\",\n       'gender': 'M',\n       'sport': {'name': 'Football', 'slug': 'football', 'id': 1},\n       'userCount': 80759,\n       'nameCode': 'BMG',\n       'disabled': False,\n       'national': False,\n       'type': 0,\n       'id': 2527,\n       'teamColors': {'primary': '#ffffff',\n        'secondary': '#000000',\n        'text': '#000000'}},\n      'descriptions': [],\n      'position': 11,\n      'matches': 15,\n      'wins': 4,\n      'scoresFor': 30,\n      'scoresAgainst': 33,\n      'id': 872287,\n      'losses': 6,\n      'draws': 5,\n      'points': 17},\n     {'team': {'name': '1. FC Heidenheim',\n       'slug': '1-fc-heidenheim',\n       'shortName': 'Heidenheim',\n       'gender': 'M',\n       'sport': {'name': 'Football', 'slug': 'football', 'id': 1},\n       'userCount': 28539,\n       'nameCode': 'FCH',\n       'disabled': False,\n       'national': False,\n       'type': 0,\n       'id': 5885,\n       'teamColors': {'primary': '#243475',\n        'secondary': '#400040',\n        'text': '#400040'}},\n      'descriptions': [],\n      'position': 12,\n      'matches': 15,\n      'wins': 5,\n      'scoresFor': 22,\n      'scoresAgainst': 30,\n      'id': 872283,\n      'losses': 8,\n      'draws': 2,\n      'points': 17},\n     {'team': {'name': 'VfL Bochum 1848',\n       'slug': 'vfl-bochum-1848',\n       'shortName': 'Bochum',\n       'gender': 'M',\n       'sport': {'name': 'Football', 'slug': 'football', 'id': 1},\n       'userCount': 37719,\n       'nameCode': 'BOC',\n       'disabled': False,\n       'national': False,\n       'type': 0,\n       'id': 2542,\n       'teamColors': {'primary': '#6666ff',\n        'secondary': '#ffffff',\n        'text': '#ffffff'}},\n      'descriptions': [],\n      'position': 13,\n      'matches': 15,\n      'wins': 3,\n      'scoresFor': 18,\n      'scoresAgainst': 29,\n      'id': 872297,\n      'losses': 5,\n      'draws': 7,\n      'points': 16},\n     {'team': {'name': 'SV Werder Bremen',\n       'slug': 'sv-werder-bremen',\n       'shortName': 'Bremen',\n       'gender': 'M',\n       'sport': {'name': 'Football', 'slug': 'football', 'id': 1},\n       'userCount': 48100,\n       'nameCode': 'SVW',\n       'disabled': False,\n       'national': False,\n       'type': 0,\n       'id': 2534,\n       'teamColors': {'primary': '#009966',\n        'secondary': '#ffffff',\n        'text': '#ffffff'}},\n      'descriptions': [],\n      'position': 14,\n      'matches': 15,\n      'wins': 4,\n      'scoresFor': 22,\n      'scoresAgainst': 29,\n      'id': 872299,\n      'losses': 8,\n      'draws': 3,\n      'points': 15},\n     {'team': {'name': '1. FC Union Berlin',\n       'slug': '1-fc-union-berlin',\n       'shortName': 'Union Berlin',\n       'gender': 'M',\n       'sport': {'name': 'Football', 'slug': 'football', 'id': 1},\n       'userCount': 138867,\n       'nameCode': 'FCU',\n       'disabled': False,\n       'national': False,\n       'type': 0,\n       'id': 2547,\n       'teamColors': {'primary': '#ff0000',\n        'secondary': '#ffffff',\n        'text': '#ffffff'}},\n      'descriptions': [],\n      'position': 15,\n      'matches': 14,\n      'wins': 3,\n      'scoresFor': 15,\n      'scoresAgainst': 31,\n      'id': 872295,\n      'losses': 10,\n      'draws': 1,\n      'points': 10},\n     {'team': {'name': '1. FC Köln',\n       'slug': '1-fc-koln',\n       'shortName': 'Köln',\n       'gender': 'M',\n       'sport': {'name': 'Football', 'slug': 'football', 'id': 1},\n       'userCount': 54422,\n       'nameCode': 'KOE',\n       'disabled': False,\n       'national': False,\n       'type': 0,\n       'id': 2671,\n       'teamColors': {'primary': '#ffffff',\n        'secondary': '#e30613',\n        'text': '#e30613'}},\n      'descriptions': [],\n      'promotion': {'text': 'Relegation Playoffs', 'id': 45},\n      'position': 16,\n      'matches': 15,\n      'wins': 2,\n      'scoresFor': 10,\n      'scoresAgainst': 26,\n      'id': 872282,\n      'losses': 9,\n      'draws': 4,\n      'points': 10},\n     {'team': {'name': '1. FSV Mainz 05',\n       'slug': '1-fsv-mainz-05',\n       'shortName': 'Mainz 05',\n       'gender': 'M',\n       'sport': {'name': 'Football', 'slug': 'football', 'id': 1},\n       'userCount': 45888,\n       'nameCode': 'M05',\n       'disabled': False,\n       'national': False,\n       'type': 0,\n       'id': 2556,\n       'teamColors': {'primary': '#ff0000',\n        'secondary': '#ffffff',\n        'text': '#ffffff'}},\n      'descriptions': [],\n      'promotion': {'text': 'Relegation', 'id': 3},\n      'position': 17,\n      'matches': 15,\n      'wins': 1,\n      'scoresFor': 12,\n      'scoresAgainst': 27,\n      'id': 872290,\n      'losses': 8,\n      'draws': 6,\n      'points': 9},\n     {'team': {'name': 'Darmstadt 98',\n       'slug': 'darmstadt-98',\n       'shortName': 'Darmstadt',\n       'gender': 'M',\n       'sport': {'name': 'Football', 'slug': 'football', 'id': 1},\n       'userCount': 35235,\n       'nameCode': 'D98',\n       'disabled': False,\n       'national': False,\n       'type': 0,\n       'id': 2576,\n       'teamColors': {'primary': '#4577fc',\n        'secondary': '#0612a8',\n        'text': '#0612a8'}},\n      'descriptions': [],\n      'promotion': {'text': 'Relegation', 'id': 3},\n      'position': 18,\n      'matches': 15,\n      'wins': 2,\n      'scoresFor': 17,\n      'scoresAgainst': 38,\n      'id': 872293,\n      'losses': 10,\n      'draws': 3,\n      'points': 9}],\n    'id': 105649,\n    'updatedAtTimestamp': 1699046884}]},\n {'standings': [{'tournament': {'name': 'Serie A',\n     'slug': 'serie-a',\n     'category': {'name': 'Italy',\n      'slug': 'italy',\n      'sport': {'name': 'Football', 'slug': 'football', 'id': 1},\n      'id': 31,\n      'flag': 'italy',\n      'alpha2': 'IT'},\n     'uniqueTournament': {'name': 'Serie A',\n      'slug': 'serie-a',\n      'primaryColorHex': '#09519e',\n      'secondaryColorHex': '#008fd7',\n      'category': {'name': 'Italy',\n       'slug': 'italy',\n       'sport': {'name': 'Football', 'slug': 'football', 'id': 1},\n       'id': 31,\n       'flag': 'italy',\n       'alpha2': 'IT'},\n      'userCount': 758087,\n      'hasPerformanceGraphFeature': True,\n      'id': 23,\n      'displayInverseHomeAwayTeams': False},\n     'priority': 597,\n     'id': 33},\n    'type': 'total',\n    'name': 'Serie A',\n    'descriptions': [],\n    'tieBreakingRule': {'text': 'In the event that two (or more) teams have an equal number of points, the following rules break the tie:  1. Head-to-head if all tied teams have internal matches 2. Goal difference 3. Goals scored',\n     'id': 16},\n    'rows': [{'team': {'name': 'Inter',\n       'slug': 'inter',\n       'shortName': 'Inter',\n       'gender': 'M',\n       'sport': {'name': 'Football', 'slug': 'football', 'id': 1},\n       'userCount': 704987,\n       'nameCode': 'INT',\n       'disabled': False,\n       'national': False,\n       'type': 0,\n       'id': 2697,\n       'teamColors': {'primary': '#1a57cc',\n        'secondary': '#000000',\n        'text': '#000000'}},\n      'descriptions': [],\n      'promotion': {'text': 'Champions League', 'id': 804},\n      'position': 1,\n      'matches': 16,\n      'wins': 13,\n      'scoresFor': 39,\n      'scoresAgainst': 7,\n      'id': 875467,\n      'losses': 1,\n      'draws': 2,\n      'points': 41},\n     {'team': {'name': 'Juventus',\n       'slug': 'juventus',\n       'shortName': 'Juventus',\n       'gender': 'M',\n       'sport': {'name': 'Football', 'slug': 'football', 'id': 1},\n       'userCount': 737025,\n       'nameCode': 'JUV',\n       'disabled': False,\n       'national': False,\n       'type': 0,\n       'id': 2687,\n       'teamColors': {'primary': '#ffffff',\n        'secondary': '#000000',\n        'text': '#000000'}},\n      'descriptions': [],\n      'promotion': {'text': 'Champions League', 'id': 804},\n      'position': 2,\n      'matches': 16,\n      'wins': 11,\n      'scoresFor': 24,\n      'scoresAgainst': 10,\n      'id': 875468,\n      'losses': 1,\n      'draws': 4,\n      'points': 37},\n     {'team': {'name': 'Milan',\n       'slug': 'milan',\n       'shortName': 'Milan',\n       'gender': 'M',\n       'sport': {'name': 'Football', 'slug': 'football', 'id': 1},\n       'userCount': 752572,\n       'nameCode': 'ACM',\n       'disabled': False,\n       'national': False,\n       'type': 0,\n       'id': 2692,\n       'teamColors': {'primary': '#000000',\n        'secondary': '#cc0000',\n        'text': '#cc0000'}},\n      'descriptions': [],\n      'promotion': {'text': 'Champions League', 'id': 804},\n      'position': 3,\n      'matches': 16,\n      'wins': 10,\n      'scoresFor': 29,\n      'scoresAgainst': 18,\n      'id': 875456,\n      'losses': 4,\n      'draws': 2,\n      'points': 32},\n     {'team': {'name': 'Bologna',\n       'slug': 'bologna',\n       'shortName': 'Bologna',\n       'gender': 'M',\n       'sport': {'name': 'Football', 'slug': 'football', 'id': 1},\n       'userCount': 68982,\n       'nameCode': 'BFC',\n       'disabled': False,\n       'national': False,\n       'type': 0,\n       'id': 2685,\n       'teamColors': {'primary': '#003366',\n        'secondary': '#cc0000',\n        'text': '#cc0000'}},\n      'descriptions': [],\n      'promotion': {'text': 'Champions League', 'id': 804},\n      'position': 4,\n      'matches': 16,\n      'wins': 7,\n      'scoresFor': 20,\n      'scoresAgainst': 12,\n      'id': 875461,\n      'losses': 2,\n      'draws': 7,\n      'points': 28},\n     {'team': {'name': 'Fiorentina',\n       'slug': 'fiorentina',\n       'shortName': 'Fiorentina',\n       'gender': 'M',\n       'sport': {'name': 'Football', 'slug': 'football', 'id': 1},\n       'userCount': 149635,\n       'nameCode': 'ACF',\n       'disabled': False,\n       'national': False,\n       'type': 0,\n       'id': 2693,\n       'teamColors': {'primary': '#542baa',\n        'secondary': '#ffffff',\n        'text': '#ffffff'}},\n      'descriptions': [],\n      'promotion': {'text': 'UEFA Europa League', 'id': 808},\n      'position': 5,\n      'matches': 16,\n      'wins': 8,\n      'scoresFor': 25,\n      'scoresAgainst': 18,\n      'id': 875458,\n      'losses': 5,\n      'draws': 3,\n      'points': 27},\n     {'team': {'name': 'Napoli',\n       'slug': 'napoli',\n       'shortName': 'Napoli',\n       'gender': 'M',\n       'sport': {'name': 'Football', 'slug': 'football', 'id': 1},\n       'userCount': 582652,\n       'nameCode': 'NAP',\n       'disabled': False,\n       'national': False,\n       'type': 0,\n       'id': 2714,\n       'teamColors': {'primary': '#008cea',\n        'secondary': '#ffffff',\n        'text': '#ffffff'}},\n      'descriptions': [],\n      'promotion': {'text': 'UEFA Conference League Qualification',\n       'id': 1349},\n      'position': 6,\n      'matches': 16,\n      'wins': 8,\n      'scoresFor': 28,\n      'scoresAgainst': 19,\n      'id': 875471,\n      'losses': 5,\n      'draws': 3,\n      'points': 27},\n     {'team': {'name': 'Roma',\n       'slug': 'roma',\n       'shortName': 'Roma',\n       'gender': 'M',\n       'sport': {'name': 'Football', 'slug': 'football', 'id': 1},\n       'userCount': 443023,\n       'nameCode': 'ASR',\n       'disabled': False,\n       'national': False,\n       'type': 0,\n       'id': 2702,\n       'teamColors': {'primary': '#990000',\n        'secondary': '#eaca15',\n        'text': '#eaca15'}},\n      'descriptions': [],\n      'position': 7,\n      'matches': 16,\n      'wins': 7,\n      'scoresFor': 28,\n      'scoresAgainst': 19,\n      'id': 875459,\n      'losses': 5,\n      'draws': 4,\n      'points': 25},\n     {'team': {'name': 'Atalanta',\n       'slug': 'atalanta',\n       'shortName': 'Atalanta',\n       'gender': 'M',\n       'sport': {'name': 'Football', 'slug': 'football', 'id': 1},\n       'userCount': 220286,\n       'nameCode': 'ATA',\n       'disabled': False,\n       'national': False,\n       'type': 0,\n       'id': 2686,\n       'teamColors': {'primary': '#0000cc',\n        'secondary': '#000000',\n        'text': '#000000'}},\n      'descriptions': [],\n      'position': 8,\n      'matches': 15,\n      'wins': 7,\n      'scoresFor': 24,\n      'scoresAgainst': 18,\n      'id': 875460,\n      'losses': 6,\n      'draws': 2,\n      'points': 23},\n     {'team': {'name': 'Torino',\n       'slug': 'torino',\n       'shortName': 'Torino',\n       'gender': 'M',\n       'sport': {'name': 'Football', 'slug': 'football', 'id': 1},\n       'userCount': 77898,\n       'nameCode': 'TOR',\n       'disabled': False,\n       'national': False,\n       'type': 0,\n       'id': 2696,\n       'teamColors': {'primary': '#6d1b1d',\n        'secondary': '#ffffff',\n        'text': '#ffffff'}},\n      'descriptions': [],\n      'position': 9,\n      'matches': 16,\n      'wins': 6,\n      'scoresFor': 14,\n      'scoresAgainst': 16,\n      'id': 875472,\n      'losses': 5,\n      'draws': 5,\n      'points': 23},\n     {'team': {'name': 'Monza',\n       'slug': 'monza',\n       'shortName': 'Monza',\n       'gender': 'M',\n       'sport': {'name': 'Football', 'slug': 'football', 'id': 1},\n       'userCount': 55300,\n       'nameCode': 'MON',\n       'disabled': False,\n       'national': False,\n       'type': 0,\n       'id': 2729,\n       'teamColors': {'primary': '#d71742',\n        'secondary': '#ffffff',\n        'text': '#ffffff'}},\n      'descriptions': [],\n      'position': 10,\n      'matches': 16,\n      'wins': 5,\n      'scoresFor': 16,\n      'scoresAgainst': 17,\n      'id': 875457,\n      'losses': 5,\n      'draws': 6,\n      'points': 21},\n     {'team': {'name': 'Lazio',\n       'slug': 'lazio',\n       'shortName': 'Lazio',\n       'gender': 'M',\n       'sport': {'name': 'Football', 'slug': 'football', 'id': 1},\n       'userCount': 251044,\n       'nameCode': 'LAZ',\n       'disabled': False,\n       'national': False,\n       'type': 0,\n       'id': 2699,\n       'teamColors': {'primary': '#64b6e1',\n        'secondary': '#ffffff',\n        'text': '#ffffff'}},\n      'descriptions': [],\n      'position': 11,\n      'matches': 16,\n      'wins': 6,\n      'scoresFor': 16,\n      'scoresAgainst': 18,\n      'id': 875469,\n      'losses': 7,\n      'draws': 3,\n      'points': 21},\n     {'team': {'name': 'Lecce',\n       'slug': 'lecce',\n       'shortName': 'Lecce',\n       'gender': 'M',\n       'sport': {'name': 'Football', 'slug': 'football', 'id': 1},\n       'userCount': 62446,\n       'nameCode': 'LEC',\n       'disabled': False,\n       'national': False,\n       'type': 0,\n       'id': 2689,\n       'teamColors': {'primary': '#f6ea00',\n        'secondary': '#db2d1f',\n        'text': '#db2d1f'}},\n      'descriptions': [],\n      'position': 12,\n      'matches': 16,\n      'wins': 4,\n      'scoresFor': 19,\n      'scoresAgainst': 21,\n      'id': 875474,\n      'losses': 4,\n      'draws': 8,\n      'points': 20},\n     {'team': {'name': 'Frosinone',\n       'slug': 'frosinone',\n       'shortName': 'Frosinone',\n       'gender': 'M',\n       'sport': {'name': 'Football', 'slug': 'football', 'id': 1},\n       'userCount': 39882,\n       'nameCode': 'FRO',\n       'disabled': False,\n       'national': False,\n       'type': 0,\n       'id': 2801,\n       'teamColors': {'primary': '#ffff00',\n        'secondary': '#0033cc',\n        'text': '#0033cc'}},\n      'descriptions': [],\n      'position': 13,\n      'matches': 16,\n      'wins': 5,\n      'scoresFor': 21,\n      'scoresAgainst': 26,\n      'id': 875464,\n      'losses': 7,\n      'draws': 4,\n      'points': 19},\n     {'team': {'name': 'Genoa',\n       'slug': 'genoa',\n       'shortName': 'Genoa',\n       'gender': 'M',\n       'sport': {'name': 'Football', 'slug': 'football', 'id': 1},\n       'userCount': 54985,\n       'nameCode': 'GEN',\n       'disabled': False,\n       'national': False,\n       'type': 0,\n       'id': 2713,\n       'teamColors': {'primary': '#000033',\n        'secondary': '#660000',\n        'text': '#660000'}},\n      'descriptions': [],\n      'position': 14,\n      'matches': 16,\n      'wins': 4,\n      'scoresFor': 16,\n      'scoresAgainst': 21,\n      'id': 875465,\n      'losses': 8,\n      'draws': 4,\n      'points': 16},\n     {'team': {'name': 'Sassuolo',\n       'slug': 'sassuolo',\n       'shortName': 'Sassuolo',\n       'gender': 'M',\n       'sport': {'name': 'Football', 'slug': 'football', 'id': 1},\n       'userCount': 73708,\n       'nameCode': 'SAS',\n       'disabled': False,\n       'national': False,\n       'type': 0,\n       'id': 2793,\n       'teamColors': {'primary': '#006600',\n        'secondary': '#000000',\n        'text': '#000000'}},\n      'descriptions': [],\n      'position': 15,\n      'matches': 16,\n      'wins': 4,\n      'scoresFor': 24,\n      'scoresAgainst': 30,\n      'id': 875470,\n      'losses': 8,\n      'draws': 4,\n      'points': 16},\n     {'team': {'name': 'Cagliari',\n       'slug': 'cagliari',\n       'shortName': 'Cagliari',\n       'gender': 'M',\n       'sport': {'name': 'Football', 'slug': 'football', 'id': 1},\n       'userCount': 51185,\n       'nameCode': 'CAG',\n       'disabled': False,\n       'national': False,\n       'type': 0,\n       'id': 2719,\n       'teamColors': {'primary': '#990000',\n        'secondary': '#242766',\n        'text': '#242766'}},\n      'descriptions': [],\n      'position': 16,\n      'matches': 16,\n      'wins': 3,\n      'scoresFor': 16,\n      'scoresAgainst': 29,\n      'id': 875462,\n      'losses': 9,\n      'draws': 4,\n      'points': 13},\n     {'team': {'name': 'Udinese',\n       'slug': 'udinese',\n       'shortName': 'Udinese',\n       'gender': 'M',\n       'sport': {'name': 'Football', 'slug': 'football', 'id': 1},\n       'userCount': 64280,\n       'nameCode': 'UDI',\n       'disabled': False,\n       'national': False,\n       'type': 0,\n       'id': 2695,\n       'teamColors': {'primary': '#ffffff',\n        'secondary': '#000000',\n        'text': '#000000'}},\n      'descriptions': [],\n      'position': 17,\n      'matches': 16,\n      'wins': 1,\n      'scoresFor': 14,\n      'scoresAgainst': 27,\n      'id': 875473,\n      'losses': 5,\n      'draws': 10,\n      'points': 13},\n     {'team': {'name': 'Empoli',\n       'slug': 'empoli',\n       'shortName': 'Empoli',\n       'gender': 'M',\n       'sport': {'name': 'Football', 'slug': 'football', 'id': 1},\n       'userCount': 62613,\n       'nameCode': 'EMP',\n       'disabled': False,\n       'national': False,\n       'type': 0,\n       'id': 2705,\n       'teamColors': {'primary': '#0d5696',\n        'secondary': '#ffffff',\n        'text': '#ffffff'}},\n      'descriptions': [],\n      'promotion': {'text': 'Relegation', 'id': 3},\n      'position': 18,\n      'matches': 16,\n      'wins': 3,\n      'scoresFor': 10,\n      'scoresAgainst': 28,\n      'id': 875463,\n      'losses': 10,\n      'draws': 3,\n      'points': 12},\n     {'team': {'name': 'Hellas Verona',\n       'slug': 'hellas-verona',\n       'shortName': 'Verona',\n       'gender': 'M',\n       'sport': {'name': 'Football', 'slug': 'football', 'id': 1},\n       'userCount': 58023,\n       'nameCode': 'VER',\n       'disabled': False,\n       'national': False,\n       'type': 0,\n       'id': 2701,\n       'teamColors': {'primary': '#071d7e',\n        'secondary': '#ffcc00',\n        'text': '#ffcc00'}},\n      'descriptions': [],\n      'promotion': {'text': 'Relegation', 'id': 3},\n      'position': 19,\n      'matches': 16,\n      'wins': 2,\n      'scoresFor': 13,\n      'scoresAgainst': 23,\n      'id': 875466,\n      'losses': 9,\n      'draws': 5,\n      'points': 11},\n     {'team': {'name': 'Salernitana',\n       'slug': 'salernitana',\n       'shortName': 'Salernitana',\n       'gender': 'M',\n       'sport': {'name': 'Football', 'slug': 'football', 'id': 1},\n       'userCount': 52367,\n       'nameCode': 'SAL',\n       'disabled': False,\n       'national': False,\n       'type': 0,\n       'id': 2710,\n       'teamColors': {'primary': '#660000',\n        'secondary': '#ffffff',\n        'text': '#ffffff'}},\n      'descriptions': [],\n      'promotion': {'text': 'Relegation', 'id': 3},\n      'position': 20,\n      'matches': 15,\n      'wins': 1,\n      'scoresFor': 11,\n      'scoresAgainst': 30,\n      'id': 875475,\n      'losses': 9,\n      'draws': 5,\n      'points': 8}],\n    'id': 105930,\n    'updatedAtTimestamp': 1698693718}]},\n {'standings': [{'tournament': {'name': 'Ligue 1',\n     'slug': 'ligue-1',\n     'category': {'name': 'France',\n      'slug': 'france',\n      'sport': {'name': 'Football', 'slug': 'football', 'id': 1},\n      'id': 7,\n      'flag': 'france',\n      'alpha2': 'FR'},\n     'uniqueTournament': {'name': 'Ligue 1',\n      'slug': 'ligue-1',\n      'primaryColorHex': '#091c3e',\n      'secondaryColorHex': '#a9c011',\n      'category': {'name': 'France',\n       'slug': 'france',\n       'sport': {'name': 'Football', 'slug': 'football', 'id': 1},\n       'id': 7,\n       'flag': 'france',\n       'alpha2': 'FR'},\n      'userCount': 536472,\n      'hasPerformanceGraphFeature': True,\n      'id': 34,\n      'displayInverseHomeAwayTeams': False},\n     'priority': 595,\n     'id': 4},\n    'type': 'total',\n    'name': 'Ligue 1',\n    'descriptions': [],\n    'tieBreakingRule': {'text': 'In the event that two (or more) teams finish with an equal number of points, the following rules break the tie: 1. Goal difference 2. Goals scored 3. Head-to-head',\n     'id': 38},\n    'rows': [{'team': {'name': 'Paris Saint-Germain',\n       'slug': 'paris-saint-germain',\n       'shortName': 'PSG',\n       'gender': 'M',\n       'sport': {'name': 'Football', 'slug': 'football', 'id': 1},\n       'userCount': 1064362,\n       'nameCode': 'PSG',\n       'disabled': False,\n       'national': False,\n       'type': 0,\n       'id': 1644,\n       'teamColors': {'primary': '#000066',\n        'secondary': '#ff1541',\n        'text': '#ff1541'}},\n      'descriptions': [],\n      'promotion': {'text': 'Champions League', 'id': 804},\n      'position': 1,\n      'matches': 16,\n      'wins': 11,\n      'scoresFor': 39,\n      'scoresAgainst': 13,\n      'id': 872179,\n      'losses': 1,\n      'draws': 4,\n      'points': 37},\n     {'team': {'name': 'Nice',\n       'slug': 'nice',\n       'shortName': 'Nice',\n       'gender': 'M',\n       'sport': {'name': 'Football', 'slug': 'football', 'id': 1},\n       'userCount': 86285,\n       'nameCode': 'OGCN',\n       'disabled': False,\n       'national': False,\n       'type': 0,\n       'id': 1661,\n       'teamColors': {'primary': '#000000',\n        'secondary': '#cc0000',\n        'text': '#cc0000'}},\n      'descriptions': [],\n      'promotion': {'text': 'Champions League', 'id': 804},\n      'position': 2,\n      'matches': 16,\n      'wins': 9,\n      'scoresFor': 17,\n      'scoresAgainst': 9,\n      'id': 872176,\n      'losses': 2,\n      'draws': 5,\n      'points': 32},\n     {'team': {'name': 'AS Monaco',\n       'slug': 'as-monaco',\n       'shortName': 'AS Monaco',\n       'gender': 'M',\n       'sport': {'name': 'Football', 'slug': 'football', 'id': 1},\n       'userCount': 186371,\n       'nameCode': 'ASM',\n       'disabled': False,\n       'national': False,\n       'type': 0,\n       'id': 1653,\n       'teamColors': {'primary': '#ffffff',\n        'secondary': '#ff0000',\n        'text': '#ff0000'}},\n      'descriptions': [],\n      'promotion': {'text': 'Champions League', 'id': 804},\n      'position': 3,\n      'matches': 16,\n      'wins': 9,\n      'scoresFor': 31,\n      'scoresAgainst': 21,\n      'id': 872168,\n      'losses': 4,\n      'draws': 3,\n      'points': 30},\n     {'team': {'name': 'Lille',\n       'slug': 'lille',\n       'shortName': 'Lille',\n       'gender': 'M',\n       'sport': {'name': 'Football', 'slug': 'football', 'id': 1},\n       'userCount': 116050,\n       'nameCode': 'LOSC',\n       'disabled': False,\n       'national': False,\n       'type': 0,\n       'id': 1643,\n       'teamColors': {'primary': '#df0000',\n        'secondary': '#24216a',\n        'text': '#24216a'}},\n      'descriptions': [],\n      'promotion': {'text': 'Champions League Qualification', 'id': 24},\n      'position': 4,\n      'matches': 16,\n      'wins': 7,\n      'scoresFor': 20,\n      'scoresAgainst': 12,\n      'id': 872174,\n      'losses': 2,\n      'draws': 7,\n      'points': 28},\n     {'team': {'name': 'Stade Brestois',\n       'slug': 'stade-brestois',\n       'shortName': 'Brest',\n       'gender': 'M',\n       'sport': {'name': 'Football', 'slug': 'football', 'id': 1},\n       'userCount': 35101,\n       'nameCode': 'SB29',\n       'disabled': False,\n       'national': False,\n       'type': 0,\n       'id': 1715,\n       'teamColors': {'primary': '#ffffff',\n        'secondary': '#d20000',\n        'text': '#d20000'}},\n      'descriptions': [],\n      'promotion': {'text': 'UEFA Europa League', 'id': 808},\n      'position': 5,\n      'matches': 16,\n      'wins': 8,\n      'scoresFor': 21,\n      'scoresAgainst': 15,\n      'id': 872181,\n      'losses': 4,\n      'draws': 4,\n      'points': 28},\n     {'team': {'name': 'Olympique de Marseille',\n       'slug': 'olympique-de-marseille',\n       'shortName': 'Marseille',\n       'gender': 'M',\n       'sport': {'name': 'Football', 'slug': 'football', 'id': 1},\n       'userCount': 262414,\n       'nameCode': 'OM',\n       'disabled': False,\n       'national': False,\n       'type': 0,\n       'id': 1641,\n       'teamColors': {'primary': '#ffffff',\n        'secondary': '#66b3ff',\n        'text': '#66b3ff'}},\n      'descriptions': [],\n      'promotion': {'text': 'UEFA Conference League Qualification',\n       'id': 1349},\n      'position': 6,\n      'matches': 16,\n      'wins': 7,\n      'scoresFor': 24,\n      'scoresAgainst': 17,\n      'id': 872178,\n      'losses': 4,\n      'draws': 5,\n      'points': 26},\n     {'team': {'name': 'Lens',\n       'slug': 'lens',\n       'shortName': 'Lens',\n       'gender': 'M',\n       'sport': {'name': 'Football', 'slug': 'football', 'id': 1},\n       'userCount': 121677,\n       'nameCode': 'RCL',\n       'disabled': False,\n       'national': False,\n       'type': 0,\n       'id': 1648,\n       'teamColors': {'primary': '#a71a1b',\n        'secondary': '#ffce00',\n        'text': '#ffce00'}},\n      'descriptions': [],\n      'position': 7,\n      'matches': 16,\n      'wins': 7,\n      'scoresFor': 21,\n      'scoresAgainst': 15,\n      'id': 872180,\n      'losses': 4,\n      'draws': 5,\n      'points': 26},\n     {'team': {'name': 'Stade de Reims',\n       'slug': 'stade-de-reims',\n       'shortName': 'Reims',\n       'gender': 'M',\n       'sport': {'name': 'Football', 'slug': 'football', 'id': 1},\n       'userCount': 42518,\n       'nameCode': 'SDR',\n       'disabled': False,\n       'national': False,\n       'type': 0,\n       'id': 1682,\n       'teamColors': {'primary': '#ffffff',\n        'secondary': '#ff0000',\n        'text': '#ff0000'}},\n      'descriptions': [],\n      'position': 8,\n      'matches': 16,\n      'wins': 7,\n      'scoresFor': 21,\n      'scoresAgainst': 23,\n      'id': 872182,\n      'losses': 7,\n      'draws': 2,\n      'points': 23},\n     {'team': {'name': 'RC Strasbourg',\n       'slug': 'rc-strasbourg',\n       'shortName': 'Strasbourg',\n       'gender': 'M',\n       'sport': {'name': 'Football', 'slug': 'football', 'id': 1},\n       'userCount': 43748,\n       'nameCode': 'RCS',\n       'disabled': False,\n       'national': False,\n       'type': 0,\n       'id': 1659,\n       'teamColors': {'primary': '#00458e',\n        'secondary': '#ffffff',\n        'text': '#ffffff'}},\n      'descriptions': [],\n      'position': 9,\n      'matches': 16,\n      'wins': 5,\n      'scoresFor': 16,\n      'scoresAgainst': 21,\n      'id': 872184,\n      'losses': 6,\n      'draws': 5,\n      'points': 20},\n     {'team': {'name': 'Le Havre',\n       'slug': 'le-havre',\n       'shortName': 'Le Havre',\n       'gender': 'M',\n       'sport': {'name': 'Football', 'slug': 'football', 'id': 1},\n       'userCount': 28405,\n       'nameCode': 'HAC',\n       'disabled': False,\n       'national': False,\n       'type': 0,\n       'id': 1662,\n       'teamColors': {'primary': '#3399ff',\n        'secondary': '#3399ff',\n        'text': '#3399ff'}},\n      'descriptions': [],\n      'position': 10,\n      'matches': 16,\n      'wins': 4,\n      'scoresFor': 16,\n      'scoresAgainst': 18,\n      'id': 872173,\n      'losses': 5,\n      'draws': 7,\n      'points': 19},\n     {'team': {'name': 'Nantes',\n       'slug': 'nantes',\n       'shortName': 'Nantes',\n       'gender': 'M',\n       'sport': {'name': 'Football', 'slug': 'football', 'id': 1},\n       'userCount': 54304,\n       'nameCode': 'FCN',\n       'disabled': False,\n       'national': False,\n       'type': 0,\n       'id': 1647,\n       'teamColors': {'primary': '#ffdc12',\n        'secondary': '#00a94e',\n        'text': '#00a94e'}},\n      'descriptions': [],\n      'position': 11,\n      'matches': 16,\n      'wins': 5,\n      'scoresFor': 19,\n      'scoresAgainst': 27,\n      'id': 872172,\n      'losses': 8,\n      'draws': 3,\n      'points': 18},\n     {'team': {'name': 'Montpellier',\n       'slug': 'montpellier',\n       'shortName': 'Montpellier',\n       'gender': 'M',\n       'sport': {'name': 'Football', 'slug': 'football', 'id': 1},\n       'userCount': 43731,\n       'nameCode': 'MHS',\n       'disabled': False,\n       'national': False,\n       'type': 0,\n       'id': 1642,\n       'teamColors': {'primary': '#003e7e',\n        'secondary': '#ea7118',\n        'text': '#ea7118'}},\n      'descriptions': [{'text': '1 point deducted by Football Association',\n        'id': 638}],\n      'position': 12,\n      'matches': 16,\n      'wins': 4,\n      'scoresFor': 18,\n      'scoresAgainst': 20,\n      'id': 872175,\n      'losses': 6,\n      'draws': 6,\n      'points': 17},\n     {'team': {'name': 'Stade Rennais',\n       'slug': 'stade-rennais',\n       'shortName': 'Rennes',\n       'gender': 'M',\n       'sport': {'name': 'Football', 'slug': 'football', 'id': 1},\n       'userCount': 84383,\n       'nameCode': 'SRFC',\n       'disabled': False,\n       'national': False,\n       'type': 0,\n       'id': 1658,\n       'teamColors': {'primary': '#ff0000',\n        'secondary': '#000000',\n        'text': '#000000'}},\n      'descriptions': [],\n      'position': 13,\n      'matches': 16,\n      'wins': 3,\n      'scoresFor': 20,\n      'scoresAgainst': 21,\n      'id': 872183,\n      'losses': 6,\n      'draws': 7,\n      'points': 16},\n     {'team': {'name': 'Metz',\n       'slug': 'metz',\n       'shortName': 'Metz',\n       'gender': 'M',\n       'sport': {'name': 'Football', 'slug': 'football', 'id': 1},\n       'userCount': 29424,\n       'nameCode': 'FCM',\n       'disabled': False,\n       'national': False,\n       'type': 0,\n       'id': 1651,\n       'teamColors': {'primary': '#a2052c',\n        'secondary': '#ffffff',\n        'text': '#ffffff'}},\n      'descriptions': [],\n      'position': 14,\n      'matches': 16,\n      'wins': 4,\n      'scoresFor': 15,\n      'scoresAgainst': 24,\n      'id': 872171,\n      'losses': 8,\n      'draws': 4,\n      'points': 16},\n     {'team': {'name': 'Toulouse',\n       'slug': 'toulouse',\n       'shortName': 'Toulouse',\n       'gender': 'M',\n       'sport': {'name': 'Football', 'slug': 'football', 'id': 1},\n       'userCount': 55641,\n       'nameCode': 'TFC',\n       'disabled': False,\n       'national': False,\n       'type': 0,\n       'id': 1681,\n       'teamColors': {'primary': '#660099',\n        'secondary': '#ffffff',\n        'text': '#ffffff'}},\n      'descriptions': [],\n      'position': 15,\n      'matches': 16,\n      'wins': 2,\n      'scoresFor': 14,\n      'scoresAgainst': 21,\n      'id': 872185,\n      'losses': 6,\n      'draws': 8,\n      'points': 14},\n     {'team': {'name': 'Olympique Lyonnais',\n       'slug': 'olympique-lyonnais',\n       'shortName': 'Lyon',\n       'gender': 'M',\n       'sport': {'name': 'Football', 'slug': 'football', 'id': 1},\n       'userCount': 172137,\n       'nameCode': 'OL',\n       'disabled': False,\n       'national': False,\n       'type': 0,\n       'id': 1649,\n       'teamColors': {'primary': '#ffffff',\n        'secondary': '#004080',\n        'text': '#004080'}},\n      'descriptions': [],\n      'promotion': {'text': 'Relegation Playoffs', 'id': 45},\n      'position': 16,\n      'matches': 16,\n      'wins': 3,\n      'scoresFor': 15,\n      'scoresAgainst': 27,\n      'id': 872177,\n      'losses': 9,\n      'draws': 4,\n      'points': 13},\n     {'team': {'name': 'Lorient',\n       'slug': 'lorient',\n       'shortName': 'Lorient',\n       'gender': 'M',\n       'sport': {'name': 'Football', 'slug': 'football', 'id': 1},\n       'userCount': 38777,\n       'nameCode': 'FCL',\n       'disabled': False,\n       'national': False,\n       'type': 0,\n       'id': 1656,\n       'teamColors': {'primary': '#ff6600',\n        'secondary': '#000000',\n        'text': '#000000'}},\n      'descriptions': [],\n      'promotion': {'text': 'Relegation', 'id': 3},\n      'position': 17,\n      'matches': 16,\n      'wins': 2,\n      'scoresFor': 21,\n      'scoresAgainst': 31,\n      'id': 872170,\n      'losses': 8,\n      'draws': 6,\n      'points': 12},\n     {'team': {'name': 'Clermont Foot',\n       'slug': 'clermont-foot',\n       'shortName': 'Clermont',\n       'gender': 'M',\n       'sport': {'name': 'Football', 'slug': 'football', 'id': 1},\n       'userCount': 31093,\n       'nameCode': 'CF63',\n       'disabled': False,\n       'national': False,\n       'type': 0,\n       'id': 1680,\n       'teamColors': {'primary': '#cc0000',\n        'secondary': '#000000',\n        'text': '#000000'}},\n      'descriptions': [],\n      'promotion': {'text': 'Relegation', 'id': 3},\n      'position': 18,\n      'matches': 16,\n      'wins': 2,\n      'scoresFor': 10,\n      'scoresAgainst': 23,\n      'id': 872169,\n      'losses': 9,\n      'draws': 5,\n      'points': 11}],\n    'id': 105643,\n    'updatedAtTimestamp': 1699048540}]}]"
     },
     "execution_count": 339,
     "metadata": {},
     "output_type": "execute_result"
    }
   ],
   "source": [
    "teams"
   ],
   "metadata": {
    "collapsed": false,
    "ExecuteTime": {
     "end_time": "2023-12-18T11:00:41.819521200Z",
     "start_time": "2023-12-18T11:00:41.746906300Z"
    }
   },
   "id": "747baff8e386ec4b"
  },
  {
   "cell_type": "code",
   "execution_count": 371,
   "outputs": [
    {
     "name": "stdout",
     "output_type": "stream",
     "text": [
      "0\n",
      "/manager/mikel-arteta/794075\n",
      "1\n"
     ]
    },
    {
     "ename": "IndexError",
     "evalue": "list index out of range",
     "output_type": "error",
     "traceback": [
      "\u001B[1;31m---------------------------------------------------------------------------\u001B[0m",
      "\u001B[1;31mIndexError\u001B[0m                                Traceback (most recent call last)",
      "Cell \u001B[1;32mIn[371], line 19\u001B[0m\n\u001B[0;32m     17\u001B[0m \u001B[38;5;28;01mfor\u001B[39;00m z \u001B[38;5;129;01min\u001B[39;00m \u001B[38;5;28mrange\u001B[39m(\u001B[38;5;28mlen\u001B[39m(soup\u001B[38;5;241m.\u001B[39mselect(\u001B[38;5;124m'\u001B[39m\u001B[38;5;124mdiv[class=\u001B[39m\u001B[38;5;124m\"\u001B[39m\u001B[38;5;124msc-fqkvVR iBlGhx\u001B[39m\u001B[38;5;124m\"\u001B[39m\u001B[38;5;124m]\u001B[39m\u001B[38;5;124m'\u001B[39m))):\n\u001B[0;32m     18\u001B[0m     \u001B[38;5;28mprint\u001B[39m(z)\n\u001B[1;32m---> 19\u001B[0m     \u001B[38;5;28mprint\u001B[39m(soup\u001B[38;5;241m.\u001B[39mselect(\u001B[38;5;124m'\u001B[39m\u001B[38;5;124mdiv[class=\u001B[39m\u001B[38;5;124m\"\u001B[39m\u001B[38;5;124msc-fqkvVR iBlGhx\u001B[39m\u001B[38;5;124m\"\u001B[39m\u001B[38;5;124m]\u001B[39m\u001B[38;5;124m'\u001B[39m)[z]\u001B[38;5;241m.\u001B[39mselect(\u001B[38;5;124m'\u001B[39m\u001B[38;5;124ma\u001B[39m\u001B[38;5;124m'\u001B[39m)[\u001B[38;5;241m0\u001B[39m][\u001B[38;5;124m'\u001B[39m\u001B[38;5;124mhref\u001B[39m\u001B[38;5;124m'\u001B[39m])\n",
      "\u001B[1;31mIndexError\u001B[0m: list index out of range"
     ]
    }
   ],
   "source": [
    "#read the json file and get the id of the teams\n",
    "\n",
    "import json\n",
    "\n",
    "allteams = []\n",
    "allplayers = []\n",
    "\n",
    "with open('teams.json') as json_file:\n",
    "    teams = json.load(json_file)\n",
    "    \n",
    "for i in range(len(teams)):\n",
    "    for y in range(len(teams[i]['standings'][0]['rows'])):\n",
    "        allteams.append(teams[i]['standings'][0]['rows'][y]['team']['slug'])\n",
    "        response = requests.get('https://www.sofascore.com/team/football/'+str(teams[i]['standings'][0]['rows'][y]['team']['slug'])+'/'+str(teams[i]['standings'][0]['rows'][y]['team']['id'])+'#'+str(teams[i]['standings'][0]['tournament']['uniqueTournament']['id']), headers=headers)\n",
    "        soup = BeautifulSoup(response.text, 'html.parser')\n",
    "        soup.select('div[class=\"sc-fqkvVR iBlGhx\"]')\n",
    "        for z in range(len(soup.select('div[class=\"sc-fqkvVR iBlGhx\"]'))):\n",
    "            print(z)\n",
    "            print(soup.select('div[class=\"sc-fqkvVR iBlGhx\"]')[z].select('a')[0]['href'])\n",
    "            # number = soup.select('div[class=\"sc-fqkvVR gwUJxr\"]')[z].select('a')[0]['href']\n",
    "            # idofplayer = teams[i]['standings'][0]['tournament']['uniqueTournament']['id']\n",
    "            # idoftournament = Championnats['uniqueTournaments'][i]['category']['sport']['UUid']\n",
    "            # allplayers.append(number + '/' + str(idofplayer) + '/' + str(idoftournament))\n",
    "            # print(allplayers)\n",
    "        "
   ],
   "metadata": {
    "collapsed": false,
    "ExecuteTime": {
     "end_time": "2023-12-18T13:00:50.896440900Z",
     "start_time": "2023-12-18T13:00:50.032839600Z"
    }
   },
   "id": "1540dae2280d39ce"
  },
  {
   "cell_type": "code",
   "execution_count": 340,
   "outputs": [],
   "source": [],
   "metadata": {
    "collapsed": false,
    "ExecuteTime": {
     "end_time": "2023-12-18T11:01:41.195471200Z",
     "start_time": "2023-12-18T11:01:41.187849700Z"
    }
   },
   "id": "d960dad169370588"
  },
  {
   "cell_type": "code",
   "execution_count": 341,
   "outputs": [],
   "source": [
    "with open(\"players.json\", \"w\") as outfile:\n",
    "    outfile.write(json.dumps(allplayers))"
   ],
   "metadata": {
    "collapsed": false,
    "ExecuteTime": {
     "end_time": "2023-12-18T11:01:41.196468100Z",
     "start_time": "2023-12-18T11:01:41.191941700Z"
    }
   },
   "id": "8e4750b8028911f5"
  },
  {
   "cell_type": "code",
   "execution_count": 342,
   "outputs": [],
   "source": [
    "#read the players json file \n",
    "import json\n",
    "\n",
    "allplayers = []\n",
    "\n",
    "with open('players.json') as json_file:\n",
    "    players = json.load(json_file)\n",
    "\n",
    "for i in range(len(players)):\n",
    "    response = requests.get('https://www.sofascore.com' + str(players[i]), headers=headers)\n",
    "    soup = BeautifulSoup(response.text, 'html.parser')\n",
    "    soup.select('div[class=\"sc-fqkvVR gAFcrn\"]')    "
   ],
   "metadata": {
    "collapsed": false,
    "ExecuteTime": {
     "end_time": "2023-12-18T11:05:46.073887300Z",
     "start_time": "2023-12-18T11:01:41.197467300Z"
    }
   },
   "id": "567274d5cc4ae189"
  },
  {
   "cell_type": "code",
   "execution_count": 343,
   "outputs": [],
   "source": [
    "headers['if-Modified-Since'] = 'Tue, 17 Dec 2023 00:00:00 GMT'"
   ],
   "metadata": {
    "collapsed": false,
    "ExecuteTime": {
     "end_time": "2023-12-18T11:05:46.085365Z",
     "start_time": "2023-12-18T11:05:46.074891900Z"
    }
   },
   "id": "b6201c2a9e4fa757"
  },
  {
   "cell_type": "code",
   "execution_count": 344,
   "outputs": [
    {
     "name": "stdout",
     "output_type": "stream",
     "text": [
      "304\n"
     ]
    }
   ],
   "source": [
    "import requests\n",
    "\n",
    "headers = {\n",
    "    'authority': 'api.sofascore.com',\n",
    "    'accept': '*/*',\n",
    "    'accept-language': 'fr-FR,fr;q=0.9,en-US;q=0.8,en;q=0.7',\n",
    "    'cache-control': 'max-age=0',\n",
    "    'if-none-match': 'W/\"c28bf6ea51\"',\n",
    "    'origin': 'https://www.sofascore.com',\n",
    "    'referer': 'https://www.sofascore.com/',\n",
    "    'sec-ch-ua': '\"Opera\";v=\"105\", \"Chromium\";v=\"119\", \"Not?A_Brand\";v=\"24\"',\n",
    "    'sec-ch-ua-mobile': '?0',\n",
    "    'sec-ch-ua-platform': '\"Windows\"',\n",
    "    'sec-fetch-dest': 'empty',\n",
    "    'sec-fetch-mode': 'cors',\n",
    "    'sec-fetch-site': 'same-site',\n",
    "    'user-agent': 'Mozilla/5.0 (Windows NT 10.0; Win64; x64) AppleWebKit/537.36 (KHTML, like Gecko) Chrome/119.0.0.0 Safari/537.36 OPR/105.0.0.0',\n",
    "}\n",
    "\n",
    "# for i in range(len(players)):\n",
    "    # response = requests.get('https://api.sofascore.com/api/v1'+str(players[i])+'/unique-tournament/'+str(Championnats['uniqueTournaments'][i]['id'])+'/season/'+str(Championnats['uniqueTournaments'][i]['category']['sport']['UUid'])+'/statistics/overall', headers=headers)\n",
    "    # print(players[i])\n",
    "    # print(Championnats['uniqueTournaments'][i]['id'])\n",
    "    # print(Championnats['uniqueTournaments'][i]['category']['sport']['UUid'])\n",
    "    # \n",
    "    # print(response.status_code)\n",
    "response = requests.get(\n",
    "    'https://api.sofascore.com/api/v1/player/826643/unique-tournament/34/season/52571/statistics/overall',\n",
    "    headers=headers,\n",
    ")\n",
    "print(response.status_code)"
   ],
   "metadata": {
    "collapsed": false,
    "ExecuteTime": {
     "end_time": "2023-12-18T11:05:46.760579300Z",
     "start_time": "2023-12-18T11:05:46.080286200Z"
    }
   },
   "id": "c18c7a2d8c7b67a2"
  },
  {
   "cell_type": "code",
   "execution_count": 345,
   "outputs": [
    {
     "data": {
      "text/plain": "304"
     },
     "execution_count": 345,
     "metadata": {},
     "output_type": "execute_result"
    }
   ],
   "source": [
    "response.status_code"
   ],
   "metadata": {
    "collapsed": false,
    "ExecuteTime": {
     "end_time": "2023-12-18T11:05:46.776234700Z",
     "start_time": "2023-12-18T11:05:46.763732300Z"
    }
   },
   "id": "ec0b87e592b065cb"
  },
  {
   "cell_type": "code",
   "execution_count": 346,
   "outputs": [],
   "source": [
    "headers['if-Modified-Since'] = 'Tue, 17 Dec 2023 00:00:00 GMT'"
   ],
   "metadata": {
    "collapsed": false,
    "ExecuteTime": {
     "end_time": "2023-12-18T11:05:46.781251300Z",
     "start_time": "2023-12-18T11:05:46.770933900Z"
    }
   },
   "id": "5d0cd630f0935a5"
  },
  {
   "cell_type": "code",
   "execution_count": 347,
   "outputs": [],
   "source": [
    "response = requests.get(\n",
    "    'https://api.sofascore.com/api/v1/player/826643/unique-tournament/34/season/52571/statistics/overall',\n",
    "    headers=headers,\n",
    ")"
   ],
   "metadata": {
    "collapsed": false,
    "ExecuteTime": {
     "end_time": "2023-12-18T11:05:47.230829500Z",
     "start_time": "2023-12-18T11:05:46.781251300Z"
    }
   },
   "id": "1c37a7816ee0fd0b"
  },
  {
   "cell_type": "code",
   "execution_count": 347,
   "outputs": [],
   "source": [],
   "metadata": {
    "collapsed": false,
    "ExecuteTime": {
     "end_time": "2023-12-18T11:05:47.242673800Z",
     "start_time": "2023-12-18T11:05:47.233164200Z"
    }
   },
   "id": "a7d98b893a78f231"
  },
  {
   "cell_type": "code",
   "execution_count": 368,
   "outputs": [
    {
     "name": "stdout",
     "output_type": "stream",
     "text": [
      "478\n"
     ]
    }
   ],
   "source": [
    "from urllib.parse import urlsplit\n",
    "\n",
    "allplayersdata = []\n",
    "\n",
    "for i in range(len(players)-1):\n",
    "    path = urlsplit(players[i]).path\n",
    "    playerid = path.split('/')[-3] \n",
    "    short_url = path.split('/')[-2]\n",
    "    tounamentid = path.split('/')[5]\n",
    "    playername = path.split('/')[-4]\n",
    "    \n",
    "    response = requests.get('https://api.sofascore.com/api/v1/player/'+str(playerid)+'/unique-tournament/'+str(short_url)+'/season/'+str(tounamentid)+'/statistics/overall', headers=headers)\n",
    "    #add playername to the json file \n",
    "    player_data = {\n",
    "        'playername': playername,\n",
    "        'data': response.json()\n",
    "    }\n",
    "    \n",
    "    \n",
    "    allplayersdata.append(player_data)\n",
    "\n",
    "print(i)"
   ],
   "metadata": {
    "collapsed": false,
    "ExecuteTime": {
     "end_time": "2023-12-18T12:55:04.200985300Z",
     "start_time": "2023-12-18T12:51:47.985236200Z"
    }
   },
   "id": "112c64b21bab857f"
  },
  {
   "cell_type": "code",
   "execution_count": 369,
   "outputs": [
    {
     "data": {
      "text/plain": "{'statistics': {'rating': 6.575,\n  'totalRating': 26.3,\n  'countRating': 4,\n  'goals': 0,\n  'bigChancesCreated': 0,\n  'bigChancesMissed': 0,\n  'expectedAssists': 0.05295168,\n  'goalsAssistsSum': 0,\n  'accuratePasses': 34,\n  'inaccuratePasses': 11,\n  'totalPasses': 45,\n  'accuratePassesPercentage': 75.555555555556,\n  'accurateOwnHalfPasses': 12,\n  'accurateOppositionHalfPasses': 22,\n  'accurateFinalThirdPasses': 13,\n  'keyPasses': 3,\n  'successfulDribbles': 1,\n  'successfulDribblesPercentage': 33.333333333333,\n  'tackles': 2,\n  'interceptions': 0,\n  'yellowCards': 0,\n  'directRedCards': 0,\n  'redCards': 0,\n  'accurateCrosses': 0,\n  'accurateCrossesPercentage': 0,\n  'totalShots': 2,\n  'shotsOnTarget': 0,\n  'shotsOffTarget': 2,\n  'groundDuelsWon': 4,\n  'groundDuelsWonPercentage': 36.363636363636,\n  'aerialDuelsWon': 2,\n  'aerialDuelsWonPercentage': 28.571428571429,\n  'totalDuelsWon': 6,\n  'totalDuelsWonPercentage': 33.333333333333,\n  'minutesPlayed': 124,\n  'goalConversionPercentage': 0,\n  'penaltiesTaken': 0,\n  'penaltyGoals': 0,\n  'penaltyWon': 0,\n  'penaltyConceded': 0,\n  'shotFromSetPiece': 0,\n  'freeKickGoal': 0,\n  'goalsFromInsideTheBox': 0,\n  'goalsFromOutsideTheBox': 0,\n  'shotsFromInsideTheBox': 1,\n  'shotsFromOutsideTheBox': 1,\n  'headedGoals': 0,\n  'leftFootGoals': 0,\n  'rightFootGoals': 0,\n  'accurateLongBalls': 1,\n  'accurateLongBallsPercentage': 100,\n  'clearances': 1,\n  'errorLeadToGoal': 0,\n  'errorLeadToShot': 0,\n  'dispossessed': 4,\n  'possessionLost': 23,\n  'possessionWonAttThird': 0,\n  'totalChippedPasses': 1,\n  'accurateChippedPasses': 1,\n  'touches': 71,\n  'wasFouled': 1,\n  'fouls': 0,\n  'hitWoodwork': 0,\n  'ownGoals': 0,\n  'dribbledPast': 1,\n  'offsides': 1,\n  'blockedShots': 0,\n  'passToAssist': 0,\n  'saves': 0,\n  'cleanSheet': 0,\n  'penaltyFaced': 0,\n  'penaltySave': 0,\n  'savedShotsFromInsideTheBox': 0,\n  'savedShotsFromOutsideTheBox': 0,\n  'goalsConcededInsideTheBox': 2,\n  'goalsConcededOutsideTheBox': 0,\n  'punches': 0,\n  'runsOut': 0,\n  'successfulRunsOut': 0,\n  'highClaims': 0,\n  'crossesNotClaimed': 0,\n  'matchesStarted': 1,\n  'penaltyConversion': 0,\n  'setPieceConversion': 0,\n  'totalAttemptAssist': 3,\n  'totalContest': 3,\n  'totalCross': 1,\n  'duelLost': 12,\n  'aerialLost': 5,\n  'attemptPenaltyMiss': 0,\n  'attemptPenaltyPost': 0,\n  'attemptPenaltyTarget': 0,\n  'totalLongBalls': 1,\n  'goalsConceded': 2,\n  'tacklesWon': 1,\n  'tacklesWonPercentage': 50,\n  'scoringFrequency': 0,\n  'yellowRedCards': 0,\n  'savesCaught': 0,\n  'savesParried': 0,\n  'totalOwnHalfPasses': 14,\n  'totalOppositionHalfPasses': 32,\n  'totwAppearances': 0,\n  'expectedGoals': 0.0547,\n  'goalKicks': 0,\n  'ballRecovery': 3,\n  'id': 1076071,\n  'type': 'overall',\n  'appearances': 4},\n 'team': {'name': 'Clermont Foot',\n  'slug': 'clermont-foot',\n  'shortName': 'Clermont',\n  'gender': 'M',\n  'sport': {'name': 'Football', 'slug': 'football', 'id': 1},\n  'userCount': 31093,\n  'nameCode': 'CF63',\n  'disabled': False,\n  'national': False,\n  'type': 0,\n  'id': 1680,\n  'teamColors': {'primary': '#cc0000',\n   'secondary': '#000000',\n   'text': '#000000'}}}"
     },
     "execution_count": 369,
     "metadata": {},
     "output_type": "execute_result"
    }
   ],
   "source": [
    "response.json()"
   ],
   "metadata": {
    "collapsed": false,
    "ExecuteTime": {
     "end_time": "2023-12-18T12:55:04.214572400Z",
     "start_time": "2023-12-18T12:55:04.205076300Z"
    }
   },
   "id": "46f4dc398c4c8194"
  },
  {
   "cell_type": "code",
   "execution_count": 370,
   "outputs": [],
   "source": [
    "#put all the data in a json file\n",
    "with open(\"playersdata.json\", \"w\") as outfile:\n",
    "    outfile.write(json.dumps(allplayersdata))"
   ],
   "metadata": {
    "collapsed": false,
    "ExecuteTime": {
     "end_time": "2023-12-18T12:55:04.278437Z",
     "start_time": "2023-12-18T12:55:04.212998400Z"
    }
   },
   "id": "e98b3a9666df569d"
  },
  {
   "cell_type": "code",
   "execution_count": null,
   "outputs": [],
   "source": [],
   "metadata": {
    "collapsed": false
   },
   "id": "5db05268c096fcfd"
  }
 ],
 "metadata": {
  "kernelspec": {
   "display_name": "Python 3",
   "language": "python",
   "name": "python3"
  },
  "language_info": {
   "codemirror_mode": {
    "name": "ipython",
    "version": 2
   },
   "file_extension": ".py",
   "mimetype": "text/x-python",
   "name": "python",
   "nbconvert_exporter": "python",
   "pygments_lexer": "ipython2",
   "version": "2.7.6"
  }
 },
 "nbformat": 4,
 "nbformat_minor": 5
}
